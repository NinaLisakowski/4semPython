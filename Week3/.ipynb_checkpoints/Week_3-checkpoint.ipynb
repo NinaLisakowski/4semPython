{
 "cells": [
  {
   "cell_type": "markdown",
   "metadata": {},
   "source": [
    "# Week 2 Handin"
   ]
  },
  {
   "cell_type": "markdown",
   "metadata": {},
   "source": [
    "## 01 Assignment\n",
    "\n",
    "## Ex 1 Classes\n",
    "1. Create 3 classes: Student, DataSheet and Course\n",
    "2. A student has a data_sheet and a data_sheet has multiple courses in particular order\n",
    "3. Each course has name, classroom, teacher, ETCS and optional grade if course is taken.\n",
    "4. In Student create __init__() so that a Student can be initiated with name, gender, data_sheet and image_url\n",
    "5. In DataSheet create a method to get_grades_as_list()\n",
    "6. In student create a method: get_avg_grade()\n",
    "7. Create a function that can generate n number of students with random: name, gender, courses (from a fixed list of course names), grades, img_url\n",
    "   1. Let the function write the result to a csv file with format stud_name, course_name, teacher, ects, classroom, grade, img_url\n",
    "7. Read student data into a list of Students from a csv file: \n",
    "   1. loop through the list and print each student with name, img_url and avg_grade.\n",
    "   2. sort the list by avg_grade\n",
    "   3. create a bar chart with student_name on x and avg_grade on y-axis\n",
    "8. Make a method on Student class that can show progression of the study in % (add up ECTS from all passed courses divided by total of 150 total points (equivalent to 5 semesters))\n",
    "9. Show a bar chart of distribution of study progression on x-axis and number of students in each category on y-axis. (e.g. make 10 categories from 0-100%)\n",
    "\n",
    "Extra: Make the Datasheet class iterable so that next(data_sheet) will return the next course in the list\n",
    "\n",
    "## Ex 2 Exceptions (extra)\n",
    "1. Create a function that can take a list of students and return the 3 students closest to completing their study.\n",
    "2. If list is shorter than 3 raise your own custom exception (NotEnoughStudentsException)\n",
    "3. Create another function that can create a csv file with 3 students closest to completion\n",
    "   1. If an exception is raised write an appropriate message to the file\n",
    "\n",
    "## Ex 3 Plotting (extra)\n",
    "1. Create a function that can take a list of students and show a pie chart of how students are distributed in ECTS percentage categories (10%, 20%, ...)\n",
    "2. create a function that can take a list of students and show how many students have taken each course (bar chart)\n",
    "   1. create a method on student that can return a list of courses\n",
    "3. make the figure show males and females in different colors for each course (display 2 datasets in same figure)\n",
    "\n"
   ]
  },
  {
   "cell_type": "markdown",
   "metadata": {},
   "source": [
    "## 02 Status\n"
   ]
  },
  {
   "cell_type": "markdown",
   "metadata": {},
   "source": [
    "## 03 Solution part 1"
   ]
  },
  {
   "cell_type": "markdown",
   "metadata": {},
   "source": [
    "### 1. Create 3 classes: Student, DataSheet and Course"
   ]
  },
  {
   "cell_type": "code",
   "execution_count": null,
   "metadata": {},
   "outputs": [],
   "source": [
    "class Student:\n",
    "    def __init__(self, student_id, name, gender, data_sheet, image_url):\n",
    "        self.student_id = student_id\n",
    "        self.name = name\n",
    "        self.gender = gender\n",
    "        self.data_sheet = data_sheet\n",
    "        self.image_url = image_url\n",
    "        \n",
    "    def __repr__(self):\n",
    "        return 'Student(%r, %r, %r, %r, %r)' % (student_id, self.name, self.gender, self.data_sheet, \n",
    "                                        self.image_url)\n",
    "    def __str__(self):\n",
    "        return 'Student: {student_id}, {name}, {gender}, {image_url}'.format(student_id = self.student_id, name=self.name, gender=self.gender, image_url=self.image_url)\n",
    "        \n",
    "        \n",
    "    def get_avg_grade(self):\n",
    "        list_of_grades = self.data_sheet.get_grades_as_list()\n",
    "        avg_grade = 0\n",
    "        if list_of_grades > 0:\n",
    "            for grade in list_of_grades:\n",
    "                avg_grade += grade\n",
    "        return (avg_grade/len(list_of_grades))\n",
    "        return avg_grade\n",
    "        "
   ]
  },
  {
   "cell_type": "code",
   "execution_count": null,
   "metadata": {},
   "outputs": [],
   "source": [
    "class DataSheet:\n",
    "    def __init__(self, student_id, courses):\n",
    "        self.student_id = student_id\n",
    "        self.courses = courses\n",
    "        \n",
    "    def __repr__(self):\n",
    "        return 'DataSheet(%r)' % (self.courses)\n",
    "    \n",
    "    def __str__(self):\n",
    "        return 'DataSheet: {courses}'.format(courses=self.courses)\n",
    "    \n",
    "    def get_grades_as_list(self):\n",
    "        result_lst = []\n",
    "        for course in self.courses:\n",
    "            if self.student_id in course.grades:\n",
    "                result_lst.append(course.grades[self.student_id])\n",
    "        return result_lst\n",
    "        "
   ]
  },
  {
   "cell_type": "code",
   "execution_count": null,
   "metadata": {},
   "outputs": [],
   "source": [
    "class Course:\n",
    "    def __init__(self, name, classroom, teacher, ETCS, grade):\n",
    "        self.name = name\n",
    "        self.classroom = classroom\n",
    "        self.teacher = teacher\n",
    "        self.ETCS = ETCS\n",
    "        self.grade = grade\n",
    "        \n",
    "    def __repr__(self):\n",
    "        return 'Courses(%r, %r, %r, %r, %r)' % (self.name, self.classroom, self.teacher, self.ECTS, self.grade)\n",
    "\n",
    "    def __str__(self):\n",
    "        return '{name} in {classroom} taught by {teacher}. The course {name} gives {ECTS} ECTS points and the grade is {grade}.'.format(\n",
    "            name=self.name, teacher=self.teacher, classroom=self.classroom, name=self.name, ECTS=self.ECTS, grade=self.grade)"
   ]
  },
  {
   "cell_type": "markdown",
   "metadata": {},
   "source": [
    "7. Create a function that can generate n number of students with random: name, gender, courses (from a fixed list of course names), grades, img_url\n",
    "   1. Let the function write the result to a csv file with format stud_name, course_name, teacher, ects, classroom, grade, img_url"
   ]
  },
  {
   "cell_type": "code",
   "execution_count": null,
   "metadata": {},
   "outputs": [],
   "source": [
    "import random\n",
    "\n",
    "names = (\"Kim\", \"Ryder\", \"Dani\", \"Hunter\", \"Avery\", \"Peyton\", \"Alex\", \"Jordan\", \"Parker\", \"Sawyer\")\n",
    "genders = (\"Male\", \"Female\")\n",
    "course_programming = (\"Programming\", 1.05, \"Joseph\", 20, [])\n",
    "course_math = (\"Math\", 1.62, \"Peter\", 10, [])\n",
    "course_history = (\"History\", 2.65, \"Lisa\", 30, [])\n",
    "course_spanish = (\"Spanish\", 3.03, \"Kenneth\", 15, [])\n",
    "course_english = (\"English\", 3.63, \"Max\", 25, [])\n",
    "courses = (course_programming, course_math, course_history, course_spanish, course_english)\n",
    "grades = (-3, 0, 2, 4, 7, 10, 12)\n",
    "\n",
    "list_of_students =[]\n",
    "\n",
    "def create_students(number_of_students):\n",
    "    for student_id in range(number_of_students):\n",
    "        name = names[random.randrange(1,len(names))-1]\n",
    "        gender = genders[random.randrange(1,len(genders))-1]\n",
    "        courses_lst = []\n",
    "        #for course in courses:\n",
    "        courses_lst.append(random.sample(courses, 3))\n",
    "        for course in courses_lst:\n",
    "            courses_lst.append(random.choice(grades))\n",
    "        data_sheet = DataSheet(student_id, course_lst)\n",
    "        image_url = name + \".img\"\n",
    "        new_student = Student(student_id, name, gender, data_sheet, image_url)\n",
    "        list_of_students.append(new_student)\n",
    "    return list_of_students"
   ]
  },
  {
   "cell_type": "code",
   "execution_count": null,
   "metadata": {},
   "outputs": [],
   "source": [
    "create_students(13)"
   ]
  },
  {
   "cell_type": "code",
   "execution_count": null,
   "metadata": {},
   "outputs": [],
   "source": []
  }
 ],
 "metadata": {
  "kernelspec": {
   "display_name": "Python 3",
   "language": "python",
   "name": "python3"
  },
  "language_info": {
   "codemirror_mode": {
    "name": "ipython",
    "version": 3
   },
   "file_extension": ".py",
   "mimetype": "text/x-python",
   "name": "python",
   "nbconvert_exporter": "python",
   "pygments_lexer": "ipython3",
   "version": "3.7.6"
  }
 },
 "nbformat": 4,
 "nbformat_minor": 4
}
