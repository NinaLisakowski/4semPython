{
 "cells": [
  {
   "cell_type": "markdown",
   "metadata": {},
   "source": [
    "## Exercise numpy and csv\n",
    "\n",
    "1. load the csv file: befkbhalderstatkode.csv into a numpy ndarray\n",
    "2. How many german children were 0 years old in 2015?\n",
    "3. create a function that can take any combination of the 4 parameters:AAR,BYDEL,ALDER,STATKODE and return population data\n",
    "4. create a new function like previous so that it can sum values for all ages if age is not provided to the function\n",
    "5. further add functionality to sum values if citizenship or area was not provided to function.\n",
    "6. create a new function that can also give average values for each year if year whas not provided.\n",
    "7. create a function, that given year and nationality can return which area had the most of these nationals by that year. Test it by finding out which area had the most Moroccan people in both 1992 and 2015\n",
    "8. Find the Area(s) where fewest foreingers lived in Copenhagen in 1992 and 2015 respectively\n",
    "9. Find out what age most French people have in 2015"
   ]
  },
  {
   "cell_type": "code",
   "execution_count": 4,
   "metadata": {},
   "outputs": [
    {
     "name": "stdout",
     "output_type": "stream",
     "text": [
      "1)\n",
      " [[2015    1    0 5100  614]\n",
      " [2015    1    0 5104    2]\n",
      " [2015    1    0 5106    1]\n",
      " ...\n",
      " [1992   99   89 5100    1]\n",
      " [1992   99   90 5180    1]\n",
      " [1992   99   93 5100    1]]\n"
     ]
    }
   ],
   "source": [
    "import numpy as np\n",
    "\n",
    "narray = np.genfromtxt('../../../data/befkbhalderstatkode.csv', delimiter=',', dtype=np.uint, skip_header=1)\n",
    "print(\"1)\\n\", narray)"
   ]
  },
  {
   "cell_type": "code",
   "execution_count": null,
   "metadata": {},
   "outputs": [],
   "source": []
  }
 ],
 "metadata": {
  "kernelspec": {
   "display_name": "Python 3",
   "language": "python",
   "name": "python3"
  },
  "language_info": {
   "codemirror_mode": {
    "name": "ipython",
    "version": 3
   },
   "file_extension": ".py",
   "mimetype": "text/x-python",
   "name": "python",
   "nbconvert_exporter": "python",
   "pygments_lexer": "ipython3",
   "version": "3.7.6"
  }
 },
 "nbformat": 4,
 "nbformat_minor": 4
}
