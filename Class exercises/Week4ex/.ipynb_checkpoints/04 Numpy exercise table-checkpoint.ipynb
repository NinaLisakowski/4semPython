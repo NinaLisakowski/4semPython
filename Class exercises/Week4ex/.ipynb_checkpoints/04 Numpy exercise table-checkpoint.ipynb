{
 "cells": [
  {
   "cell_type": "markdown",
   "metadata": {},
   "source": [
    "### Class exercise: table\n",
    "![](images/numpy_slice_ex.png)\n",
    "- on the above image find the 5 different slicings using only the array slicing notation"
   ]
  },
  {
   "cell_type": "code",
   "execution_count": 31,
   "metadata": {},
   "outputs": [
    {
     "name": "stdout",
     "output_type": "stream",
     "text": [
      "yellow: [10] \n",
      "red: [11 12 13] \n",
      "lightblue: [[11 13]\n",
      " [21 23]] \n",
      "green:\n",
      " [12 17 22] \n",
      "purple: [11 16 21 26]\n"
     ]
    }
   ],
   "source": [
    "import numpy as np\n",
    "a = np.arange(10, 30).reshape(4, 5)\n",
    "\n",
    "yellow = a[0,0:1]\n",
    "red    = a[0, 1:4]  \n",
    "lightblue = a[::2, 1:4:2]   \n",
    "green  = a[:3:,2] \n",
    "purple = a[:, 1]    \n",
    "\n",
    "print('yellow:', yellow,'\\nred:',red,'\\nlightblue:',lightblue,'\\ngreen:\\n',green,'\\npurple:',purple)"
   ]
  },
  {
   "cell_type": "code",
   "execution_count": null,
   "metadata": {},
   "outputs": [],
   "source": []
  }
 ],
 "metadata": {
  "kernelspec": {
   "display_name": "Python 3",
   "language": "python",
   "name": "python3"
  },
  "language_info": {
   "codemirror_mode": {
    "name": "ipython",
    "version": 3
   },
   "file_extension": ".py",
   "mimetype": "text/x-python",
   "name": "python",
   "nbconvert_exporter": "python",
   "pygments_lexer": "ipython3",
   "version": "3.7.6"
  }
 },
 "nbformat": 4,
 "nbformat_minor": 4
}
