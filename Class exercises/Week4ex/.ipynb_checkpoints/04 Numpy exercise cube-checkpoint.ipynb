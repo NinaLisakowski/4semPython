{
 "cells": [
  {
   "cell_type": "markdown",
   "metadata": {},
   "source": [
    "### Class exercise: cube\n",
    "1. Slice out [12 13 14] from the above cube using only one slice. e.g: a[:,:,:]\n",
    "2. Slice out [3 12 21].\n",
    "3. Slice out all y-values where x is 2 and z is 0."
   ]
  },
  {
   "cell_type": "code",
   "execution_count": 27,
   "metadata": {},
   "outputs": [
    {
     "name": "stdout",
     "output_type": "stream",
     "text": [
      "Slice out [12 13 14] from the above cube using only one slice. e.g: a[:,:,:]\n",
      " [12 13 14]\n",
      "Slice out [3 12 21]\n",
      " [ 3 12 21]\n",
      "Slice out all y-values where x is 2 and z is 0\n",
      " [2 5 8]\n"
     ]
    }
   ],
   "source": [
    "import numpy as np\n",
    "\n",
    "a = np.arange(0, 27).reshape((3, 3, 3)) # = (z, y, x)\n",
    "print(\"Slice out [12 13 14] from the above cube using only one slice. e.g: a[:,:,:]\\n\", a[1,1,:])\n",
    "print(\"Slice out [3 12 21]\\n\", a[:,1,0])\n",
    "print(\"Slice out all y-values where x is 2 and z is 0\\n\", a[0,:,2])\n"
   ]
  },
  {
   "cell_type": "code",
   "execution_count": null,
   "metadata": {},
   "outputs": [],
   "source": []
  }
 ],
 "metadata": {
  "kernelspec": {
   "display_name": "Python 3",
   "language": "python",
   "name": "python3"
  },
  "language_info": {
   "codemirror_mode": {
    "name": "ipython",
    "version": 3
   },
   "file_extension": ".py",
   "mimetype": "text/x-python",
   "name": "python",
   "nbconvert_exporter": "python",
   "pygments_lexer": "ipython3",
   "version": "3.7.6"
  }
 },
 "nbformat": 4,
 "nbformat_minor": 4
}
