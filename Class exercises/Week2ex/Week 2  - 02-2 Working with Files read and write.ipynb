{
 "cells": [
  {
   "cell_type": "markdown",
   "metadata": {},
   "source": [
    "## Exercise read and write"
   ]
  },
  {
   "cell_type": "markdown",
   "metadata": {},
   "source": [
    "1. create a function in python, that can read all names of files in a folder, when given the full path to the folder"
   ]
  },
  {
   "cell_type": "code",
   "execution_count": 33,
   "metadata": {},
   "outputs": [],
   "source": [
    "import os\n",
    "\n",
    "def read_files_in_folder(dir_path, output_file):\n",
    "    dir_list = os.listdir(dir_path)\n",
    "    with open(output_file, \"w\") as f:\n",
    "        for line in dir_list:\n",
    "            f.write(line + \"\\n\")\n",
    "\n",
    "read_files_in_folder(\"./\", \"file_names_in_folder.txt\")"
   ]
  },
  {
   "cell_type": "markdown",
   "metadata": {},
   "source": [
    "2. create a function, that can read all lines from a file and copy to another file only the lines, that starts with a number"
   ]
  },
  {
   "cell_type": "code",
   "execution_count": 43,
   "metadata": {
    "scrolled": false
   },
   "outputs": [],
   "source": [
    "def read_lines_starting_with_number(input_file, output_file):\n",
    "    with open(output_file, \"w\") as f:\n",
    "        for line in input_file:\n",
    "            if line[0] == (('0', '1', '2', '3', '4', '5', '6', '7', '8', '9')):\n",
    "                f.write(line + \"\\n\")\n",
    "\n",
    "read_lines_starting_with_number(\"input_file_starting_with_number.txt\", \"output_file_starting_with_number.txt\")"
   ]
  },
  {
   "cell_type": "markdown",
   "metadata": {},
   "source": [
    "3. create a function that can read all files in folder and all subfolders and print a list of all png files including their full path name"
   ]
  },
  {
   "cell_type": "code",
   "execution_count": null,
   "metadata": {},
   "outputs": [],
   "source": []
  }
 ],
 "metadata": {
  "kernelspec": {
   "display_name": "Python 3",
   "language": "python",
   "name": "python3"
  },
  "language_info": {
   "codemirror_mode": {
    "name": "ipython",
    "version": 3
   },
   "file_extension": ".py",
   "mimetype": "text/x-python",
   "name": "python",
   "nbconvert_exporter": "python",
   "pygments_lexer": "ipython3",
   "version": "3.7.6"
  }
 },
 "nbformat": 4,
 "nbformat_minor": 4
}
