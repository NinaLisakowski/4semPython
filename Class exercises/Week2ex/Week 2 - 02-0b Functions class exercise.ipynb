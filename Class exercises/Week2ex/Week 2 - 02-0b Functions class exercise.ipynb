{
 "cells": [
  {
   "cell_type": "markdown",
   "metadata": {},
   "source": [
    "### 1. Write a function that iterates through a list and prints each value **without using a loop**.  \n",
    "### That is, write a recursive function to print the values of a list."
   ]
  },
  {
   "cell_type": "code",
   "execution_count": 3,
   "metadata": {},
   "outputs": [
    {
     "name": "stdout",
     "output_type": "stream",
     "text": [
      "Jonna\n",
      "Jack\n",
      "Janni\n",
      "Jesper\n"
     ]
    }
   ],
   "source": [
    "names = [\"Jonna\",\"Jack\",\"Janni\",\"Jesper\"]\n",
    "\n",
    "def recursiveNames(names):\n",
    "    if len(names) == 1:\n",
    "        print(names[0])\n",
    "        return\n",
    "    if len(names) != 1:\n",
    "        print(names.pop(0))\n",
    "        recursiveNames(names)\n",
    "   \n",
    "recursiveNames(names)"
   ]
  },
  {
   "cell_type": "markdown",
   "metadata": {},
   "source": [
    "### 2. Write a function that can take any number of arguments and return all arguments concatenated or summed depending on the data type"
   ]
  },
  {
   "cell_type": "code",
   "execution_count": 4,
   "metadata": {},
   "outputs": [
    {
     "data": {
      "text/plain": [
       "('HellonoJonnaGlemDet', 215)"
      ]
     },
     "execution_count": 4,
     "metadata": {},
     "output_type": "execute_result"
    }
   ],
   "source": [
    "mixed_sum = [65, 45, 23, \"Hello\", \"no\", 3, \"Jonna\", 1, 34, 35, 1, \"GlemDet\", 3, 5]\n",
    "\n",
    "def sum_concat(array):\n",
    "    concat = \"\"\n",
    "    ressult = 0\n",
    "    for element in array:\n",
    "        if(type(element)== str):\n",
    "            concat += element\n",
    "        if(type(element)== int):\n",
    "            ressult += element\n",
    "    return concat, ressult\n",
    "\n",
    "\n",
    "sum_concat(mixed_sum)"
   ]
  }
 ],
 "metadata": {
  "kernelspec": {
   "display_name": "Python 3",
   "language": "python",
   "name": "python3"
  },
  "language_info": {
   "codemirror_mode": {
    "name": "ipython",
    "version": 3
   },
   "file_extension": ".py",
   "mimetype": "text/x-python",
   "name": "python",
   "nbconvert_exporter": "python",
   "pygments_lexer": "ipython3",
   "version": "3.7.6"
  }
 },
 "nbformat": 4,
 "nbformat_minor": 4
}
