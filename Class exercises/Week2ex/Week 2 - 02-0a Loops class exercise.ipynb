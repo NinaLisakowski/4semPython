{
 "cells": [
  {
   "cell_type": "markdown",
   "metadata": {},
   "source": [
    "### 1) Write a program that creates gramatically valid English sentences.\n",
    "#### Here, we consider a sentence to be gramatically correct when it follows the simple English grammar of the form: Article Adjective Noun Verb. That is, even the sentence A insect fly. is, for the moment, considered correct. use:"
   ]
  },
  {
   "cell_type": "code",
   "execution_count": 19,
   "metadata": {},
   "outputs": [
    {
     "data": {
      "text/plain": [
       "'new year have'"
      ]
     },
     "execution_count": 19,
     "metadata": {},
     "output_type": "execute_result"
    }
   ],
   "source": [
    "import random\n",
    "verbs = [\"be\", \"have\", \"do\", \"say\", \"go\"]\n",
    "nouns = [\"time\", \"year\", \"people\", \"way\", \"say\"]\n",
    "adjectives = [\"other\", \"new\", \"good\", \"high\", \"old\"]\n",
    "\n",
    "def correct_sentence():\n",
    "    x = random.randrange(4)\n",
    "    result = adjectives[x] + \" \" + nouns[x] + \" \" + verbs[x]\n",
    "    return result\n",
    "    \n",
    "correct_sentence()"
   ]
  },
  {
   "cell_type": "markdown",
   "metadata": {},
   "source": [
    "### 2) Extend the above program to generate all possible sentences with the given words."
   ]
  },
  {
   "cell_type": "code",
   "execution_count": 22,
   "metadata": {},
   "outputs": [
    {
     "data": {
      "text/plain": [
       "[('other', 'time', 'be'),\n",
       " ('other', 'time', 'have'),\n",
       " ('other', 'time', 'do'),\n",
       " ('other', 'time', 'say'),\n",
       " ('other', 'time', 'go'),\n",
       " ('other', 'year', 'be'),\n",
       " ('other', 'year', 'have'),\n",
       " ('other', 'year', 'do'),\n",
       " ('other', 'year', 'say'),\n",
       " ('other', 'year', 'go'),\n",
       " ('other', 'people', 'be'),\n",
       " ('other', 'people', 'have'),\n",
       " ('other', 'people', 'do'),\n",
       " ('other', 'people', 'say'),\n",
       " ('other', 'people', 'go'),\n",
       " ('other', 'way', 'be'),\n",
       " ('other', 'way', 'have'),\n",
       " ('other', 'way', 'do'),\n",
       " ('other', 'way', 'say'),\n",
       " ('other', 'way', 'go'),\n",
       " ('other', 'say', 'be'),\n",
       " ('other', 'say', 'have'),\n",
       " ('other', 'say', 'do'),\n",
       " ('other', 'say', 'say'),\n",
       " ('other', 'say', 'go'),\n",
       " ('new', 'time', 'be'),\n",
       " ('new', 'time', 'have'),\n",
       " ('new', 'time', 'do'),\n",
       " ('new', 'time', 'say'),\n",
       " ('new', 'time', 'go'),\n",
       " ('new', 'year', 'be'),\n",
       " ('new', 'year', 'have'),\n",
       " ('new', 'year', 'do'),\n",
       " ('new', 'year', 'say'),\n",
       " ('new', 'year', 'go'),\n",
       " ('new', 'people', 'be'),\n",
       " ('new', 'people', 'have'),\n",
       " ('new', 'people', 'do'),\n",
       " ('new', 'people', 'say'),\n",
       " ('new', 'people', 'go'),\n",
       " ('new', 'way', 'be'),\n",
       " ('new', 'way', 'have'),\n",
       " ('new', 'way', 'do'),\n",
       " ('new', 'way', 'say'),\n",
       " ('new', 'way', 'go'),\n",
       " ('new', 'say', 'be'),\n",
       " ('new', 'say', 'have'),\n",
       " ('new', 'say', 'do'),\n",
       " ('new', 'say', 'say'),\n",
       " ('new', 'say', 'go'),\n",
       " ('good', 'time', 'be'),\n",
       " ('good', 'time', 'have'),\n",
       " ('good', 'time', 'do'),\n",
       " ('good', 'time', 'say'),\n",
       " ('good', 'time', 'go'),\n",
       " ('good', 'year', 'be'),\n",
       " ('good', 'year', 'have'),\n",
       " ('good', 'year', 'do'),\n",
       " ('good', 'year', 'say'),\n",
       " ('good', 'year', 'go'),\n",
       " ('good', 'people', 'be'),\n",
       " ('good', 'people', 'have'),\n",
       " ('good', 'people', 'do'),\n",
       " ('good', 'people', 'say'),\n",
       " ('good', 'people', 'go'),\n",
       " ('good', 'way', 'be'),\n",
       " ('good', 'way', 'have'),\n",
       " ('good', 'way', 'do'),\n",
       " ('good', 'way', 'say'),\n",
       " ('good', 'way', 'go'),\n",
       " ('good', 'say', 'be'),\n",
       " ('good', 'say', 'have'),\n",
       " ('good', 'say', 'do'),\n",
       " ('good', 'say', 'say'),\n",
       " ('good', 'say', 'go'),\n",
       " ('high', 'time', 'be'),\n",
       " ('high', 'time', 'have'),\n",
       " ('high', 'time', 'do'),\n",
       " ('high', 'time', 'say'),\n",
       " ('high', 'time', 'go'),\n",
       " ('high', 'year', 'be'),\n",
       " ('high', 'year', 'have'),\n",
       " ('high', 'year', 'do'),\n",
       " ('high', 'year', 'say'),\n",
       " ('high', 'year', 'go'),\n",
       " ('high', 'people', 'be'),\n",
       " ('high', 'people', 'have'),\n",
       " ('high', 'people', 'do'),\n",
       " ('high', 'people', 'say'),\n",
       " ('high', 'people', 'go'),\n",
       " ('high', 'way', 'be'),\n",
       " ('high', 'way', 'have'),\n",
       " ('high', 'way', 'do'),\n",
       " ('high', 'way', 'say'),\n",
       " ('high', 'way', 'go'),\n",
       " ('high', 'say', 'be'),\n",
       " ('high', 'say', 'have'),\n",
       " ('high', 'say', 'do'),\n",
       " ('high', 'say', 'say'),\n",
       " ('high', 'say', 'go'),\n",
       " ('old', 'time', 'be'),\n",
       " ('old', 'time', 'have'),\n",
       " ('old', 'time', 'do'),\n",
       " ('old', 'time', 'say'),\n",
       " ('old', 'time', 'go'),\n",
       " ('old', 'year', 'be'),\n",
       " ('old', 'year', 'have'),\n",
       " ('old', 'year', 'do'),\n",
       " ('old', 'year', 'say'),\n",
       " ('old', 'year', 'go'),\n",
       " ('old', 'people', 'be'),\n",
       " ('old', 'people', 'have'),\n",
       " ('old', 'people', 'do'),\n",
       " ('old', 'people', 'say'),\n",
       " ('old', 'people', 'go'),\n",
       " ('old', 'way', 'be'),\n",
       " ('old', 'way', 'have'),\n",
       " ('old', 'way', 'do'),\n",
       " ('old', 'way', 'say'),\n",
       " ('old', 'way', 'go'),\n",
       " ('old', 'say', 'be'),\n",
       " ('old', 'say', 'have'),\n",
       " ('old', 'say', 'do'),\n",
       " ('old', 'say', 'say'),\n",
       " ('old', 'say', 'go')]"
      ]
     },
     "execution_count": 22,
     "metadata": {},
     "output_type": "execute_result"
    }
   ],
   "source": [
    "def all_sentences():\n",
    "    result_list = [(adj, noun, verb) for adj in adjectives for noun in nouns for verb in verbs]\n",
    "    return result_list\n",
    "\n",
    "all_sentences()"
   ]
  },
  {
   "cell_type": "code",
   "execution_count": null,
   "metadata": {},
   "outputs": [],
   "source": []
  }
 ],
 "metadata": {
  "kernelspec": {
   "display_name": "Python 3",
   "language": "python",
   "name": "python3"
  },
  "language_info": {
   "codemirror_mode": {
    "name": "ipython",
    "version": 3
   },
   "file_extension": ".py",
   "mimetype": "text/x-python",
   "name": "python",
   "nbconvert_exporter": "python",
   "pygments_lexer": "ipython3",
   "version": "3.7.6"
  }
 },
 "nbformat": 4,
 "nbformat_minor": 4
}
