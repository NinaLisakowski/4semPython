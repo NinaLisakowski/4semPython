{
 "cells": [
  {
   "cell_type": "markdown",
   "metadata": {},
   "source": [
    "## Exercises\n",
    "\n",
    "  1. Create a Python module, which consists of a class TextContainer. The class shall implement methods for computing statistics on texts.\n",
    "    * Counting the amount of words used in a text.\n",
    "    * Counting the amount of chars used in a text.\n",
    "    * Counting the amount of letters, where letters are all ASCII letter characters, see \n",
    "    ```python\n",
    "    import string\n",
    "    string.ascii_letters  # returns 'abcdefghijklmnopqrstuvwxyzABCDEFGHIJKLMNOPQRSTUVWXYZ'\n",
    "    ```\n",
    "    * Remove all punctuation characters, see\n",
    "    ```python\n",
    "    import string\n",
    "    string.punctuation  # returns '!\"#$%&\\'()*+,-./:;<=>?@[\\\\]^_`{|}~'\n",
    "    ```"
   ]
  },
  {
   "cell_type": "code",
   "execution_count": 37,
   "metadata": {},
   "outputs": [],
   "source": [
    "import string\n",
    "string.ascii_letters  # returns 'abcdefghijklmnopqrstuvwxyzABCDEFGHIJKLMNOPQRSTUVWXYZ'\n",
    "string.punctuation  # returns '!\"#$%&\\'()*+,-./:;<=>?@[\\\\]^_`{|}~'\n",
    "\n",
    "class TextContainer:\n",
    "    \n",
    "    def __init__(self, text):\n",
    "            self.text = text\n",
    "    \n",
    "    def __repr__(self):\n",
    "        return 'TextContainer(%r)' % (self.text)\n",
    "    \n",
    "    def __str__(self):\n",
    "        return '{text}'.format(text=self.text)\n",
    "    \n",
    "    def count_words(self):\n",
    "        return len(self.text.split(\" \"))\n",
    "    \n",
    "    def count_chars(self):\n",
    "        return len(self.text)\n",
    "        \n",
    "    def count_ASCII_letters(self):\n",
    "        count = 0\n",
    "        for char in self.text:\n",
    "            if char in string.ascii_letters:\n",
    "                count += 1\n",
    "        return count\n",
    "        \n",
    "        \n",
    "    def remove_punctuation(self):\n",
    "        for char in self.text:\n",
    "            if char in string.punctuation:\n",
    "                #print(char)\n",
    "                self.text = self.text.replace(char,'')\n",
    "        return self.text   "
   ]
  },
  {
   "cell_type": "code",
   "execution_count": 38,
   "metadata": {},
   "outputs": [
    {
     "name": "stdout",
     "output_type": "stream",
     "text": [
      "TextContainer:\n",
      " Hello everyone, my name is George. I'm 103 years old! Have a good day today!\n",
      "Counting the amount of words used in a text\n",
      " 15\n",
      "Counting the amount of chars used in a text\n",
      " 76\n",
      "Counting the amount of letters, where letters are all ASCII letter characters\n",
      " 54\n",
      "Remove all punctuation characters\n",
      " Hello everyone my name is George Im 103 years old Have a good day today\n"
     ]
    }
   ],
   "source": [
    "tc = TextContainer(\"Hello everyone, my name is George. I'm 103 years old! Have a good day today!\")\n",
    "\n",
    "print(\"TextContainer:\\n\", tc)\n",
    "\n",
    "print(\"\\nCounting the amount of words used in a text\\n\", tc.count_words())\n",
    "\n",
    "print(\"\\nCounting the amount of chars used in a text\\n\", tc.count_chars())\n",
    "\n",
    "print(\"\\nCounting the amount of letters, where letters are all ASCII letter characters\\n\", tc.count_ASCII_letters())\n",
    "\n",
    "print(\"\\nRemove all punctuation characters\\n\", tc.remove_punctuation())"
   ]
  },
  {
   "cell_type": "code",
   "execution_count": null,
   "metadata": {},
   "outputs": [],
   "source": []
  }
 ],
 "metadata": {
  "kernelspec": {
   "display_name": "Python 3",
   "language": "python",
   "name": "python3"
  },
  "language_info": {
   "codemirror_mode": {
    "name": "ipython",
    "version": 3
   },
   "file_extension": ".py",
   "mimetype": "text/x-python",
   "name": "python",
   "nbconvert_exporter": "python",
   "pygments_lexer": "ipython3",
   "version": "3.7.6"
  }
 },
 "nbformat": 4,
 "nbformat_minor": 4
}
