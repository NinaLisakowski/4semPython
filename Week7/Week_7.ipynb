{
 "cells": [
  {
   "cell_type": "markdown",
   "metadata": {},
   "source": [
    "# Week 7 Handin"
   ]
  },
  {
   "cell_type": "markdown",
   "metadata": {},
   "source": [
    "## 01 Assignment\n",
    "\n",
    "Data from https://www.dr.dk/\n",
    "\n",
    "1. Use webscrabing to find out how many headlines contain the word 'corona'.\n",
    "\n",
    "2. Use regex to make a list of all words that occur just before and just after coronavirus in the article at https://www.dr.dk/nyheder/indland/status-paa-coronavirus-lige-nu. As in \"... xxx coronavirus yyy...\" find the words xxx and yyy.\n",
    "\n",
    "3. How many hrefs link to a sub page on dr.dk/nyheder/..., dr.dk/sporten/..., dr.dk/mad/... and dr.dk/musik/... Make a pie chart to show the amount of sports news, food news, music news and regular news.\n",
    "\n",
    "4. Use Selenium to click into the first news article under \"seneste nyt\" and print the first parapgraph of the article."
   ]
  },
  {
   "cell_type": "markdown",
   "metadata": {},
   "source": [
    "## 02 Status\n",
    "The first three tasks are done."
   ]
  },
  {
   "cell_type": "markdown",
   "metadata": {},
   "source": [
    "## 03 Solution part 1"
   ]
  },
  {
   "cell_type": "markdown",
   "metadata": {},
   "source": [
    "1. Use webscrabing to find out how many headlines contain the word 'corona'."
   ]
  },
  {
   "cell_type": "code",
   "execution_count": 49,
   "metadata": {},
   "outputs": [
    {
     "name": "stdout",
     "output_type": "stream",
     "text": [
      "Number of headlines containing the word 'corona' is: 10\n"
     ]
    }
   ],
   "source": [
    "import re \n",
    "import bs4\n",
    "import requests\n",
    "\n",
    "dr = requests.get('https://www.dr.dk/')\n",
    "dr.raise_for_status()\n",
    "soup = bs4.BeautifulSoup(dr.text, 'html.parser')\n",
    "\n",
    "coronatitle1 = soup.select('.dre-title-text')\n",
    "coronatitle2 = soup.select('.dre-title-text__prefixed')\n",
    "coronatitle3 = soup.select('.dre-title-text__prefix')\n",
    "coronatitle4 = soup.select('.dre-title-text__prefixed > .dre-title-text__hyphen')\n",
    "\n",
    "corona = re.compile(r'corona')\n",
    "\n",
    "found = len(corona.findall(str(coronatitle1))) + len(corona.findall(str(coronatitle2))) + len(corona.findall(str(coronatitle3))) + len(corona.findall(str(coronatitle4)))\n",
    "print(\"Number of headlines containing the word 'corona' is:\", found)"
   ]
  },
  {
   "cell_type": "markdown",
   "metadata": {},
   "source": [
    "2. Use regex to make a list of all words that occur just before and just after coronavirus in the article at https://www.dr.dk/nyheder/indland/status-paa-coronavirus-lige-nu. As in \"... xxx coronavirus yyy...\" find the words xxx and yyy."
   ]
  },
  {
   "cell_type": "code",
   "execution_count": 57,
   "metadata": {
    "scrolled": true
   },
   "outputs": [
    {
     "name": "stdout",
     "output_type": "stream",
     "text": [
      "List of words accuring before and after the word 'coronavirus': \n",
      " [('på', 'lige'), ('på', 'lige'), ('om', 'i'), ('på', 'i'), ('mod', 'og')]\n"
     ]
    }
   ],
   "source": [
    "dr = requests.get('https://www.dr.dk/nyheder/indland/status-paa-coronavirus-lige-nu')\n",
    "dr.raise_for_status()\n",
    "soup = bs4.BeautifulSoup(dr.text, 'html.parser')\n",
    "\n",
    "virus = re.compile(r'(\\w+) coronavirus (\\w+)')\n",
    "\n",
    "allviruses = virus.findall(soup.text)\n",
    "\n",
    "print(\"List of words accuring before and after the word 'coronavirus': \\n\", allviruses)"
   ]
  },
  {
   "cell_type": "markdown",
   "metadata": {},
   "source": [
    "3. How many hrefs link to a sub page on dr.dk/nyheder/..., dr.dk/sporten/..., dr.dk/mad/... and dr.dk/musik/... Make a pie chart to show the amount of sports news, food news, music news and regular news."
   ]
  },
  {
   "cell_type": "code",
   "execution_count": 77,
   "metadata": {},
   "outputs": [
    {
     "data": {
      "image/png": "[encoded data removed]",
      "text/plain": [
       "<Figure size 432x288 with 1 Axes>"
      ]
     },
     "metadata": {},
     "output_type": "display_data"
    }
   ],
   "source": [
    "import matplotlib.pyplot as plt\n",
    "import numpy as np\n",
    "\n",
    "dr = requests.get('https://www.dr.dk/')\n",
    "dr.raise_for_status()\n",
    "soup = bs4.BeautifulSoup(dr.text, 'html')\n",
    "\n",
    "drnyheder = re.compile(r'dr.dk/nyheder/')\n",
    "drsporten = re.compile(r'dr.dk/sporten/')\n",
    "drmad = re.compile(r'dr.dk/mad/')\n",
    "drmusik = re.compile(r'dr.dk/musik/')\n",
    "\n",
    "nyheder = len(drnyheder.findall(dr.text))\n",
    "sporten = len(drsporten.findall(dr.text))\n",
    "mad = len(drmad.findall(dr.text))\n",
    "musik = len(drmusik.findall(dr.text))\n",
    "\n",
    "#print(nyheder, sporten, mad, musik)\n",
    "drlabels = ['Nyheder', 'Mad', 'Sporten', 'Musik'] \n",
    "data = [nyheder, sporten, mad, musik] \n",
    " \n",
    "#fig = plt.figure()\n",
    "plt.pie(data, labels = drlabels)  \n",
    "plt.show() "
   ]
  },
  {
   "cell_type": "markdown",
   "metadata": {},
   "source": [
    "4. Use Selenium to click into the first news article under \"seneste nyt\" and print the first parapgraph of the article."
   ]
  },
  {
   "cell_type": "code",
   "execution_count": null,
   "metadata": {},
   "outputs": [],
   "source": []
  }
 ],
 "metadata": {
  "kernelspec": {
   "display_name": "Python 3",
   "language": "python",
   "name": "python3"
  },
  "language_info": {
   "codemirror_mode": {
    "name": "ipython",
    "version": 3
   },
   "file_extension": ".py",
   "mimetype": "text/x-python",
   "name": "python",
   "nbconvert_exporter": "python",
   "pygments_lexer": "ipython3",
   "version": "3.7.6"
  }
 },
 "nbformat": 4,
 "nbformat_minor": 4
}
