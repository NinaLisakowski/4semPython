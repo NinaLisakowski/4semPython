{
 "cells": [
  {
   "cell_type": "markdown",
   "metadata": {
    "slideshow": {
     "slide_type": "subslide"
    }
   },
   "source": [
    "# Learning objectives"
   ]
  },
  {
   "cell_type": "markdown",
   "metadata": {
    "slideshow": {
     "slide_type": "subslide"
    }
   },
   "source": [
    "## Skills \n",
    "\n",
    "* Write Python scripts and programs using common language constructs in the read-eval-print-loop (REPL), “Jupyter Notebooks”, as well as separate self-contained programs. \n",
    "\n",
    "* Download files from the web programmatically, as well as reading most common file formats programmatically. \n",
    "\n",
    "* Create various types of plots programmatically to share insight into data. \n",
    "\n",
    "* Apply Python’s scientific libraries and some of the most prominent algorithms in data science for problem solving and complexity reduction. \n",
    "\n",
    "* Programmatically, process images and streams of images. \n",
    "\n",
    "* Automate repetitive and boring tasks for example for data collection or UI testing. \n",
    "\n",
    " "
   ]
  },
  {
   "cell_type": "markdown",
   "metadata": {
    "slideshow": {
     "slide_type": "subslide"
    }
   },
   "source": [
    "\n",
    "\n",
    "## Competencies \n",
    "\n",
    "* collect various types of data \n",
    "\n",
    "* formulate problems about this data \n",
    "\n",
    "* implement solutions to given problem statements \n",
    "\n",
    "* present results\n",
    "\n",
    "*  gain experiences in code reviews"
   ]
  },
  {
   "cell_type": "markdown",
   "metadata": {
    "slideshow": {
     "slide_type": "subslide"
    }
   },
   "source": [
    "## Exam\n",
    "* Group presentation of 10 minutes followed by 10 minutes of questions per student (minimum 30 minutes). \n",
    "\n",
    "* The exam is based on a presentation of the student’s group project and it is facilitated by an interactive programming environment. Additionally, this includes a discussion of the project’s solutions with respect to the main topics of the course.\n",
    "* For the main topics questions will be known to the students in advance. "
   ]
  },
  {
   "cell_type": "markdown",
   "metadata": {
    "slideshow": {
     "slide_type": "slide"
    }
   },
   "source": [
    "# TOC\n",
    "\n",
    "- Pandas\n",
    "  - Loading and reading data\n",
    "  - Series\n",
    "    - 1 dimensional data structure\n",
    "  - DataFrame\n",
    "    - 2 dimensional data structure\n",
    "    - `pandas.DataFrame( data, index, columns, dtype, copy)`\n",
    "    - columns can be of different types\n",
    "    - data can be lists, dicts, maps, ndarrays."
   ]
  },
  {
   "cell_type": "markdown",
   "metadata": {
    "slideshow": {
     "slide_type": "subslide"
    }
   },
   "source": [
    "## Initialising`pandas`,`numpy` and `matplotlib`"
   ]
  },
  {
   "cell_type": "code",
   "execution_count": 1,
   "metadata": {
    "slideshow": {
     "slide_type": "fragment"
    }
   },
   "outputs": [
    {
     "name": "stdout",
     "output_type": "stream",
     "text": [
      "Populating the interactive namespace from numpy and matplotlib\n"
     ]
    }
   ],
   "source": [
    "%pylab inline \n",
    "# %pylab is a magic function in ipython, and triggers the import of various modules within Matplotlib"
   ]
  },
  {
   "cell_type": "markdown",
   "metadata": {},
   "source": [
    "#### Above magic function equals\n",
    "```python\n",
    "import pandas as pd\n",
    "import numpy as np\n",
    "import matplotlib.pyplot as plt\n",
    "%matplotlib inline \n",
    "```\n",
    "Magic function: `%matplotlib inline` is to show plots directly below code as part of the notebook."
   ]
  },
  {
   "cell_type": "markdown",
   "metadata": {},
   "source": [
    "# Pandas: Series, Data Frames and Time Series\n",
    "\n",
    "Pandas is -similar to NumPy- another library offering high-level data structures, which enable fast data analyzis. For us, the most important are probably the types `Series` and `DataFrame`, both of which are introduced in the following.  \n",
    "\n",
    "This tutorial is based on the [intro to Pandas:](http://pandas.pydata.org/pandas-docs/stable/10min.html)"
   ]
  },
  {
   "cell_type": "markdown",
   "metadata": {
    "slideshow": {
     "slide_type": "subslide"
    }
   },
   "source": [
    "\n",
    "## Pandas vs Numpy\n",
    "1. In pandas we have 1D Series and 2D DataFrame in numpy we have multi dimensional ndArrays\n",
    "2. In DataFrame we have column names (like in sql) in ndArrays we have data slicing based in indices\n",
    "3. In DataFrame we can have multiple datatypes in different columns\n",
    "  \n",
    "![](images/pandas_vs_numpy.png)  "
   ]
  },
  {
   "cell_type": "markdown",
   "metadata": {},
   "source": [
    "As we will refer to Panda's classes and functions often in code, we allways import the module as `pd`."
   ]
  },
  {
   "cell_type": "code",
   "execution_count": 2,
   "metadata": {},
   "outputs": [],
   "source": [
    "import pandas as pd"
   ]
  },
  {
   "cell_type": "code",
   "execution_count": 3,
   "metadata": {
    "scrolled": true
   },
   "outputs": [
    {
     "name": "stdout",
     "output_type": "stream",
     "text": [
      "\n",
      "pandas - a powerful data analysis and manipulation library for Python\n",
      "=====================================================================\n",
      "\n",
      "**pandas** is a Python package providing fast, flexible, and expressive data\n",
      "structures designed to make working with \"relational\" or \"labeled\" data both\n",
      "easy and intuitive. It aims to be the fundamental high-level building block for\n",
      "doing practical, **real world** data analysis in Python. Additionally, it has\n",
      "the broader goal of becoming **the most powerful and flexible open source data\n",
      "analysis / manipulation tool available in any language**. It is already well on\n",
      "its way toward this goal.\n",
      "\n",
      "Main Features\n",
      "-------------\n",
      "Here are just a few of the things that pandas does well:\n",
      "\n",
      "  - Easy handling of missing data in floating point as well as non-floating\n",
      "    point data.\n",
      "  - Size mutability: columns can be inserted and deleted from DataFrame and\n",
      "    higher dimensional objects\n",
      "  - Automatic and explicit data alignment: objects can be explicitly aligned\n",
      "    to a set of labels, or the user can simply ignore the labels and let\n",
      "    `Series`, `DataFrame`, etc. automatically align the data for you in\n",
      "    computations.\n",
      "  - Powerful, flexible group by functionality to perform split-apply-combine\n",
      "    operations on data sets, for both aggregating and transforming data.\n",
      "  - Make it easy to convert ragged, differently-indexed data in other Python\n",
      "    and NumPy data structures into DataFrame objects.\n",
      "  - Intelligent label-based slicing, fancy indexing, and subsetting of large\n",
      "    data sets.\n",
      "  - Intuitive merging and joining data sets.\n",
      "  - Flexible reshaping and pivoting of data sets.\n",
      "  - Hierarchical labeling of axes (possible to have multiple labels per tick).\n",
      "  - Robust IO tools for loading data from flat files (CSV and delimited),\n",
      "    Excel files, databases, and saving/loading data from the ultrafast HDF5\n",
      "    format.\n",
      "  - Time series-specific functionality: date range generation and frequency\n",
      "    conversion, moving window statistics, date shifting and lagging.\n",
      "\n"
     ]
    }
   ],
   "source": [
    "print(pd.__doc__)\n",
    "#pd.read_csv?"
   ]
  },
  {
   "cell_type": "markdown",
   "metadata": {
    "slideshow": {
     "slide_type": "subslide"
    }
   },
   "source": [
    "## Learning a new framework\n",
    "\n",
    "1. Study the API\n",
    "  * https://pandas.pydata.org/pandas-docs/stable/reference/index.html"
   ]
  },
  {
   "cell_type": "markdown",
   "metadata": {
    "slideshow": {
     "slide_type": "subslide"
    }
   },
   "source": [
    "## Getting data with Pandas\n",
    "\n",
    "https://pandas.pydata.org/pandas-docs/stable/reference/io.html\n",
    "\n",
    "```python\n",
    "pd.read_csv(...)\n",
    "```"
   ]
  },
  {
   "cell_type": "code",
   "execution_count": 54,
   "metadata": {
    "slideshow": {
     "slide_type": "fragment"
    }
   },
   "outputs": [
    {
     "data": {
      "text/html": [
       "<div>\n",
       "<style scoped>\n",
       "    .dataframe tbody tr th:only-of-type {\n",
       "        vertical-align: middle;\n",
       "    }\n",
       "\n",
       "    .dataframe tbody tr th {\n",
       "        vertical-align: top;\n",
       "    }\n",
       "\n",
       "    .dataframe thead th {\n",
       "        text-align: right;\n",
       "    }\n",
       "</style>\n",
       "<table border=\"1\" class=\"dataframe\">\n",
       "  <thead>\n",
       "    <tr style=\"text-align: right;\">\n",
       "      <th></th>\n",
       "      <th>AAR</th>\n",
       "      <th>BYDEL</th>\n",
       "      <th>ALDER</th>\n",
       "      <th>STATKODE</th>\n",
       "      <th>PERSONER</th>\n",
       "    </tr>\n",
       "  </thead>\n",
       "  <tbody>\n",
       "    <tr>\n",
       "      <th>0</th>\n",
       "      <td>2015</td>\n",
       "      <td>1</td>\n",
       "      <td>0</td>\n",
       "      <td>5100</td>\n",
       "      <td>614</td>\n",
       "    </tr>\n",
       "    <tr>\n",
       "      <th>1</th>\n",
       "      <td>2015</td>\n",
       "      <td>1</td>\n",
       "      <td>0</td>\n",
       "      <td>5104</td>\n",
       "      <td>2</td>\n",
       "    </tr>\n",
       "    <tr>\n",
       "      <th>2</th>\n",
       "      <td>2015</td>\n",
       "      <td>1</td>\n",
       "      <td>0</td>\n",
       "      <td>5106</td>\n",
       "      <td>1</td>\n",
       "    </tr>\n",
       "    <tr>\n",
       "      <th>3</th>\n",
       "      <td>2015</td>\n",
       "      <td>1</td>\n",
       "      <td>0</td>\n",
       "      <td>5110</td>\n",
       "      <td>1</td>\n",
       "    </tr>\n",
       "    <tr>\n",
       "      <th>4</th>\n",
       "      <td>2015</td>\n",
       "      <td>1</td>\n",
       "      <td>0</td>\n",
       "      <td>5120</td>\n",
       "      <td>4</td>\n",
       "    </tr>\n",
       "  </tbody>\n",
       "</table>\n",
       "</div>"
      ],
      "text/plain": [
       "    AAR  BYDEL  ALDER  STATKODE  PERSONER\n",
       "0  2015      1      0      5100       614\n",
       "1  2015      1      0      5104         2\n",
       "2  2015      1      0      5106         1\n",
       "3  2015      1      0      5110         1\n",
       "4  2015      1      0      5120         4"
      ]
     },
     "execution_count": 54,
     "metadata": {},
     "output_type": "execute_result"
    }
   ],
   "source": [
    "df = pd.read_csv('data/befkbhalderstatkode.csv')\n",
    "df.head()"
   ]
  },
  {
   "cell_type": "markdown",
   "metadata": {
    "slideshow": {
     "slide_type": "subslide"
    }
   },
   "source": [
    "### columns in the dataset"
   ]
  },
  {
   "cell_type": "code",
   "execution_count": 5,
   "metadata": {
    "slideshow": {
     "slide_type": "fragment"
    }
   },
   "outputs": [
    {
     "data": {
      "text/plain": [
       "Index(['AAR', 'BYDEL', 'ALDER', 'STATKODE', 'PERSONER'], dtype='object')"
      ]
     },
     "execution_count": 5,
     "metadata": {},
     "output_type": "execute_result"
    }
   ],
   "source": [
    "df.columns"
   ]
  },
  {
   "cell_type": "code",
   "execution_count": 6,
   "metadata": {
    "slideshow": {
     "slide_type": "subslide"
    }
   },
   "outputs": [
    {
     "data": {
      "text/plain": [
       "pandas.core.frame.DataFrame"
      ]
     },
     "execution_count": 6,
     "metadata": {},
     "output_type": "execute_result"
    }
   ],
   "source": [
    "type(df)"
   ]
  },
  {
   "cell_type": "markdown",
   "metadata": {
    "slideshow": {
     "slide_type": "subslide"
    }
   },
   "source": [
    "* What is the dimensionality of the dataframe?"
   ]
  },
  {
   "cell_type": "code",
   "execution_count": 7,
   "metadata": {
    "slideshow": {
     "slide_type": "fragment"
    }
   },
   "outputs": [
    {
     "data": {
      "text/plain": [
       "(542517, 5)"
      ]
     },
     "execution_count": 7,
     "metadata": {},
     "output_type": "execute_result"
    }
   ],
   "source": [
    "df.shape"
   ]
  },
  {
   "cell_type": "markdown",
   "metadata": {
    "slideshow": {
     "slide_type": "subslide"
    }
   },
   "source": [
    "### Getting a column of data by name:\n",
    "What data type is the column?\n",
    "```python\n",
    "df['ALDER']\n",
    "```\n"
   ]
  },
  {
   "cell_type": "code",
   "execution_count": 55,
   "metadata": {
    "slideshow": {
     "slide_type": "fragment"
    }
   },
   "outputs": [
    {
     "name": "stdout",
     "output_type": "stream",
     "text": [
      "Data type of a column <class 'pandas.core.series.Series'> \n",
      "\n",
      "All ages in the dataset {0, 1, 2, 3, 4, 5, 6, 7, 8, 9, 10, 11, 12, 13, 14, 15, 16, 17, 18, 19, 20, 21, 22, 23, 24, 25, 26, 27, 28, 29, 30, 31, 32, 33, 34, 35, 36, 37, 38, 39, 40, 41, 42, 43, 44, 45, 46, 47, 48, 49, 50, 51, 52, 53, 54, 55, 56, 57, 58, 59, 60, 61, 62, 63, 64, 65, 66, 67, 68, 69, 70, 71, 72, 73, 74, 75, 76, 77, 78, 79, 80, 81, 82, 83, 84, 85, 86, 87, 88, 89, 90, 91, 92, 93, 94, 95, 96, 97, 98, 99, 100, 101, 102, 103, 104, 105, 106, 107, 108, 109, 130}\n"
     ]
    },
    {
     "data": {
      "text/plain": [
       "0          0\n",
       "1          0\n",
       "2          0\n",
       "3          0\n",
       "4          0\n",
       "          ..\n",
       "542512    81\n",
       "542513    87\n",
       "542514    89\n",
       "542515    90\n",
       "542516    93\n",
       "Name: ALDER, Length: 542517, dtype: int64"
      ]
     },
     "execution_count": 55,
     "metadata": {},
     "output_type": "execute_result"
    }
   ],
   "source": [
    "print('Data type of a column',type(df['ALDER']),'\\n')\n",
    "print('All ages in the dataset',set(df['ALDER']))\n",
    "df['ALDER']"
   ]
  },
  {
   "cell_type": "markdown",
   "metadata": {},
   "source": [
    "### Slicing a column of data by index"
   ]
  },
  {
   "cell_type": "code",
   "execution_count": 62,
   "metadata": {
    "scrolled": true,
    "slideshow": {
     "slide_type": "fragment"
    }
   },
   "outputs": [
    {
     "name": "stdout",
     "output_type": "stream",
     "text": [
      "<class 'pandas.core.series.Series'>\n"
     ]
    },
    {
     "data": {
      "text/plain": [
       "0         2015\n",
       "1         2015\n",
       "2         2015\n",
       "3         2015\n",
       "4         2015\n",
       "          ... \n",
       "542512    1992\n",
       "542513    1992\n",
       "542514    1992\n",
       "542515    1992\n",
       "542516    1992\n",
       "Name: AAR, Length: 542517, dtype: int64"
      ]
     },
     "execution_count": 62,
     "metadata": {},
     "output_type": "execute_result"
    }
   ],
   "source": [
    "print(type(df.iloc[:,0]))\n",
    "df.iloc[:,0] # all rows of first column: same as df['AAR']"
   ]
  },
  {
   "cell_type": "markdown",
   "metadata": {},
   "source": [
    "### Slicing a row of data by index\n",
    "Notice how we get a Series object with **labels** being the column names"
   ]
  },
  {
   "cell_type": "code",
   "execution_count": 10,
   "metadata": {
    "scrolled": true
   },
   "outputs": [
    {
     "name": "stdout",
     "output_type": "stream",
     "text": [
      "<class 'pandas.core.series.Series'>\n"
     ]
    },
    {
     "data": {
      "text/plain": [
       "AAR         2015\n",
       "BYDEL          1\n",
       "ALDER          0\n",
       "STATKODE    5100\n",
       "PERSONER     614\n",
       "Name: 0, dtype: int64"
      ]
     },
     "execution_count": 10,
     "metadata": {},
     "output_type": "execute_result"
    }
   ],
   "source": [
    "first_row = df.iloc[0,:] # or just df.iloc[0]\n",
    "print(type(first_row))\n",
    "first_row"
   ]
  },
  {
   "cell_type": "code",
   "execution_count": 11,
   "metadata": {},
   "outputs": [
    {
     "data": {
      "text/plain": [
       "2015"
      ]
     },
     "execution_count": 11,
     "metadata": {},
     "output_type": "execute_result"
    }
   ],
   "source": [
    "first_row['AAR']"
   ]
  },
  {
   "cell_type": "markdown",
   "metadata": {
    "slideshow": {
     "slide_type": "subslide"
    }
   },
   "source": [
    "* Get the second element of the third column using the `iloc` method"
   ]
  },
  {
   "cell_type": "code",
   "execution_count": 12,
   "metadata": {
    "slideshow": {
     "slide_type": "fragment"
    }
   },
   "outputs": [
    {
     "data": {
      "text/plain": [
       "2015"
      ]
     },
     "execution_count": 12,
     "metadata": {},
     "output_type": "execute_result"
    }
   ],
   "source": [
    "# iloc (integer location method)\n",
    "col = 0\n",
    "row = 1\n",
    "df.iloc[row][col] "
   ]
  },
  {
   "cell_type": "code",
   "execution_count": 64,
   "metadata": {},
   "outputs": [
    {
     "name": "stdout",
     "output_type": "stream",
     "text": [
      "RangeIndex(start=0, stop=542517, step=1)\n",
      "Index(['AAR', 'BYDEL', 'ALDER', 'STATKODE', 'PERSONER'], dtype='object')\n"
     ]
    }
   ],
   "source": [
    "# with loc\n",
    "print(df.index)\n",
    "print(first_row.index)"
   ]
  },
  {
   "cell_type": "code",
   "execution_count": 14,
   "metadata": {},
   "outputs": [
    {
     "name": "stdout",
     "output_type": "stream",
     "text": [
      "            max_speed  shield\n",
      "cobra               1       2\n",
      "viper               4       5\n",
      "sidewinder          7       8\n",
      "\n",
      "\n",
      "Index(['cobra', 'viper', 'sidewinder'], dtype='object')\n",
      "sidewinders max speed is 7\n"
     ]
    }
   ],
   "source": [
    "test = pd.DataFrame([[1, 2], [4, 5], [7, 8]],index=['cobra', 'viper', 'sidewinder'],columns=['max_speed', 'shield'])\n",
    "print(test)\n",
    "print('\\n')\n",
    "print(test.index)\n",
    "print('sidewinders max speed is {}'.format(test.loc['sidewinder','max_speed']))"
   ]
  },
  {
   "cell_type": "markdown",
   "metadata": {},
   "source": [
    "## Class exercise slicing dataframe\n",
    "Use this data:\n",
    "```python\n",
    "data = np.array([['','Col1','Col2','col3'],\n",
    "                ['Row1',1,2,3],\n",
    "                ['Row2',4,5,6],\n",
    "                ['Row3',7,8,9]])\n",
    "```\n",
    "1. wrap the data above in a pandas DataFrame in a way that printing the dataframe and its index and column attributes gives this result: (Hint: print(df);print(df.index);print(df.columns):     \n",
    "\n",
    "``` \n",
    "     Col1 Col2 col3  \n",
    "Row1    1    2    3\n",
    "Row2    4    5    6\n",
    "Row3    7    8    9\n",
    "\n",
    "Index(['Row1', 'Row2', 'Row3'], dtype='object')\n",
    "Index(['Col1', 'Col2', 'col3'], dtype='object')\n",
    "```\n",
    "(Hint: use the pd.DataFrame(data=, column=, index=) arguments)\n",
    "\n",
    "2. Make slices of data:\n",
    "   1. second column using column name\n",
    "   2. third column using column index (.iloc[])\n",
    "   3. slice element at third row of second column (use .iloc())"
   ]
  },
  {
   "cell_type": "markdown",
   "metadata": {
    "slideshow": {
     "slide_type": "subslide"
    }
   },
   "source": [
    "## `Pandas Series` (like dictionary with added functionality ...)\n",
    "\n",
    "A `Series` is a labeled array (one-dimensional ndarrays with axis-labels) capable of holding any data type (integers, strings, floating point numbers, Python objects, etc.). The axis labels are collectively referred to as the index. The data structure is similar to the python dictionary, but it differs in that pandas series has a lot of methods for complex data manipulation.\n",
    "\n",
    "http://pandas.pydata.org/pandas-docs/stable/dsintro.html#series\n",
    "\n",
    "You can create a Series by passing a list of values, letting Pandas create a default integer index."
   ]
  },
  {
   "cell_type": "code",
   "execution_count": 15,
   "metadata": {},
   "outputs": [
    {
     "name": "stdout",
     "output_type": "stream",
     "text": [
      "0       1\n",
      "1       3\n",
      "2       5\n",
      "3     NaN\n",
      "4    seks\n",
      "5       8\n",
      "dtype: object \n",
      "---------------------\n",
      "6    seks\n",
      "5     fem\n",
      "4    fire\n",
      "dtype: object\n"
     ]
    }
   ],
   "source": [
    "# Pandas Series with multiple data types\n",
    "s = pd.Series([1, 3, 5, np.nan, 'seks', 8])\n",
    "print(s,'\\n---------------------')\n",
    "s = pd.Series(['seks','fem','fire'],[6,5,4]) # in pd.Series we can provide any keys we like to the data\n",
    "print(s)"
   ]
  },
  {
   "cell_type": "markdown",
   "metadata": {
    "slideshow": {
     "slide_type": "subslide"
    }
   },
   "source": [
    "## World bank data: CO2 emissions\n",
    "For the following example introducing `Series` we will collect some open data from the World Bank, see http://data.worldbank.org/?locations=DK-UY. This dataset includes a plethora of interesting data. However, for this example we will focus on the *CO2 emissions*.\n",
    "\n",
    "First, we have to download the data. We do this by writing the response to a request to the World Bank API into a file. As denoted in the response header, we receive a ZIP file."
   ]
  },
  {
   "cell_type": "code",
   "execution_count": 68,
   "metadata": {
    "slideshow": {
     "slide_type": "subslide"
    }
   },
   "outputs": [
    {
     "name": "stdout",
     "output_type": "stream",
     "text": [
      "{'Date': 'Mon, 21 Sep 2020 08:47:00 GMT', 'Content-Type': 'application/zip', 'Content-Length': '77186', 'Connection': 'keep-alive', 'Set-Cookie': 'api_http.cookie=7c2b11fa018cc2a991aa7ed18f9a292a; Path=/, TS01fa65e4=01359ee97644ed5ba5f0c06aaa7d3e205060b400ef3b65d13cd013a92434299c08c81e6131601b47468c06b8921646926f0f513290; Path=/, TS019865bf=0114ae2926cb06f44418d6fbc9492cceb3114e8f8960bc062fb61a885e2ddbbe948fb6da7f9b6b75f2a31d9e82610fb5a384abb06a71dc85d3440e8686c814246a7fb06eef; Path=/', 'Cache-Control': 'public, must-revalidate, max-age=1', 'Expires': 'Mon, 21 Sep 2020 08:47:01 GMT', 'Last-Modified': 'Mon, 21 Sep 2020 08:47:00 GMT', 'Content-Disposition': 'attachment; filename=API_EN.ATM.CO2E.KT_DS2_en_csv_v2_1345584.zip', 'Request-Context': 'appId=cid-v1:da002513-bd8b-4441-9f30-737944134422'}\n"
     ]
    }
   ],
   "source": [
    "import requests\n",
    "\n",
    "# url = 'http://api.worldbank.org/v2/en/country/DNK;URY' \n",
    "# response = requests.get(url, params={'downloadformat': 'csv'})\n",
    "url = 'http://api.worldbank.org/v2/en/indicator/EN.ATM.CO2E.KT?downloadformat=csv'\n",
    "response = requests.get(url)\n",
    "\n",
    "print(response.headers)"
   ]
  },
  {
   "cell_type": "code",
   "execution_count": 69,
   "metadata": {
    "slideshow": {
     "slide_type": "fragment"
    }
   },
   "outputs": [
    {
     "name": "stdout",
     "output_type": "stream",
     "text": [
      "-----------------\n",
      "Downloaded data/API_EN.ATM.CO2E.KT_DS2_en_csv_v2_1345584.zip\n"
     ]
    }
   ],
   "source": [
    "# get the filename\n",
    "fname = response.headers['Content-Disposition'].split('=')[1]\n",
    "fname = 'data/'+fname\n",
    "# write content to file (zip file writing bytes)\n",
    "if response.ok:  # status_code == 200:\n",
    "    with open(fname, 'wb') as f:\n",
    "        f.write(response.content)   \n",
    "print('-----------------')\n",
    "print('Downloaded {}'.format(fname))"
   ]
  },
  {
   "cell_type": "code",
   "execution_count": 72,
   "metadata": {},
   "outputs": [
    {
     "name": "stdout",
     "output_type": "stream",
     "text": [
      "data/API_EN.ATM.CO2E.KT_DS2_en_csv_v2_1345584.csv\n",
      "data/API_EN.ATM.CO2E.KT_DS2_en_csv_v2_1345584.zip\n",
      "data/API_EN.ATM.CO2E.KT_DS2_en_csv_v2_887574.csv\n",
      "data/API_MS.MIL.XPND.CN_DS2_en_csv_v2_898165.csv\n"
     ]
    }
   ],
   "source": [
    "%%bash\n",
    "ls data/API*\n",
    "# ls -ltrh data | tail\n",
    "#man ls"
   ]
  },
  {
   "cell_type": "markdown",
   "metadata": {
    "slideshow": {
     "slide_type": "subslide"
    }
   },
   "source": [
    "You can resort to the standard libraries `zipfile` module to uncompress the downloaded file."
   ]
  },
  {
   "cell_type": "code",
   "execution_count": 71,
   "metadata": {},
   "outputs": [],
   "source": [
    "import zipfile\n",
    "# extract content of zip file in current folder\n",
    "zipfile.ZipFile(fname, 'r').extractall('./data')"
   ]
  },
  {
   "cell_type": "code",
   "execution_count": 74,
   "metadata": {},
   "outputs": [],
   "source": [
    "%less data/API_EN.ATM.CO2E.KT_DS2_en_csv_v2_1345584.csv"
   ]
  },
  {
   "cell_type": "code",
   "execution_count": 21,
   "metadata": {
    "scrolled": true
   },
   "outputs": [
    {
     "name": "stdout",
     "output_type": "stream",
     "text": [
      "column names:\n",
      " ['Country Name', 'Country Code', 'Indicator Name', 'Indicator Code', '1960', '1961', '1962', '1963', '1964', '1965', '1966', '1967', '1968', '1969', '1970', '1971', '1972', '1973', '1974', '1975', '1976', '1977', '1978', '1979', '1980', '1981', '1982', '1983', '1984', '1985', '1986', '1987', '1988', '1989', '1990', '1991', '1992', '1993', '1994', '1995', '1996', '1997', '1998', '1999', '2000', '2001', '2002', '2003', '2004', '2005', '2006', '2007', '2008', '2009', '2010', '2011', '2012', '2013', '2014', '2015', '2016', '2017', '2018', '2019', 'Unnamed: 64'] \n",
      "\n",
      "\n",
      "264 countries are in the dataset. \n",
      "\n",
      "countries are of data type:  <class 'pandas.core.series.Series'> \n",
      "\n",
      "['Aruba', 'Afghanistan', 'Angola', 'Albania', 'Andorra', 'Arab World', 'United Arab Emirates', 'Argentina', 'Armenia', 'American Samoa', 'Antigua and Barbuda', 'Australia', 'Austria', 'Azerbaijan', 'Burundi', 'Belgium', 'Benin', 'Burkina Faso', 'Bangladesh', 'Bulgaria', 'Bahrain', 'Bahamas, The', 'Bosnia and Herzegovina', 'Belarus', 'Belize', 'Bermuda', 'Bolivia', 'Brazil', 'Barbados', 'Brunei Darussalam', 'Bhutan', 'Botswana', 'Central African Republic', 'Canada', 'Central Europe and the Baltics', 'Switzerland', 'Channel Islands', 'Chile', 'China', \"Cote d'Ivoire\", 'Cameroon', 'Congo, Dem. Rep.', 'Congo, Rep.', 'Colombia', 'Comoros', 'Cabo Verde', 'Costa Rica', 'Caribbean small states', 'Cuba', 'Curacao', 'Cayman Islands', 'Cyprus', 'Czech Republic', 'Germany', 'Djibouti', 'Dominica', 'Denmark', 'Dominican Republic', 'Algeria', 'East Asia & Pacific (excluding high income)', 'Early-demographic dividend', 'East Asia & Pacific', 'Europe & Central Asia (excluding high income)', 'Europe & Central Asia', 'Ecuador', 'Egypt, Arab Rep.', 'Euro area', 'Eritrea', 'Spain', 'Estonia', 'Ethiopia', 'European Union', 'Fragile and conflict affected situations', 'Finland', 'Fiji', 'France', 'Faroe Islands', 'Micronesia, Fed. Sts.', 'Gabon', 'United Kingdom', 'Georgia', 'Ghana', 'Gibraltar', 'Guinea', 'Gambia, The', 'Guinea-Bissau', 'Equatorial Guinea', 'Greece', 'Grenada', 'Greenland', 'Guatemala', 'Guam', 'Guyana', 'High income', 'Hong Kong SAR, China', 'Honduras', 'Heavily indebted poor countries (HIPC)', 'Croatia', 'Haiti', 'Hungary', 'IBRD only', 'IDA & IBRD total', 'IDA total', 'IDA blend', 'Indonesia', 'IDA only', 'Isle of Man', 'India', 'Not classified', 'Ireland', 'Iran, Islamic Rep.', 'Iraq', 'Iceland', 'Israel', 'Italy', 'Jamaica', 'Jordan', 'Japan', 'Kazakhstan', 'Kenya', 'Kyrgyz Republic', 'Cambodia', 'Kiribati', 'St. Kitts and Nevis', 'Korea, Rep.', 'Kuwait', 'Latin America & Caribbean (excluding high income)', 'Lao PDR', 'Lebanon', 'Liberia', 'Libya', 'St. Lucia', 'Latin America & Caribbean', 'Least developed countries: UN classification', 'Low income', 'Liechtenstein', 'Sri Lanka', 'Lower middle income', 'Low & middle income', 'Lesotho', 'Late-demographic dividend', 'Lithuania', 'Luxembourg', 'Latvia', 'Macao SAR, China', 'St. Martin (French part)', 'Morocco', 'Monaco', 'Moldova', 'Madagascar', 'Maldives', 'Middle East & North Africa', 'Mexico', 'Marshall Islands', 'Middle income', 'North Macedonia', 'Mali', 'Malta', 'Myanmar', 'Middle East & North Africa (excluding high income)', 'Montenegro', 'Mongolia', 'Northern Mariana Islands', 'Mozambique', 'Mauritania', 'Mauritius', 'Malawi', 'Malaysia', 'North America', 'Namibia', 'New Caledonia', 'Niger', 'Nigeria', 'Nicaragua', 'Netherlands', 'Norway', 'Nepal', 'Nauru', 'New Zealand', 'OECD members', 'Oman', 'Other small states', 'Pakistan', 'Panama', 'Peru', 'Philippines', 'Palau', 'Papua New Guinea', 'Poland', 'Pre-demographic dividend', 'Puerto Rico', 'Korea, Dem. People’s Rep.', 'Portugal', 'Paraguay', 'West Bank and Gaza', 'Pacific island small states', 'Post-demographic dividend', 'French Polynesia', 'Qatar', 'Romania', 'Russian Federation', 'Rwanda', 'South Asia', 'Saudi Arabia', 'Sudan', 'Senegal', 'Singapore', 'Solomon Islands', 'Sierra Leone', 'El Salvador', 'San Marino', 'Somalia', 'Serbia', 'Sub-Saharan Africa (excluding high income)', 'South Sudan', 'Sub-Saharan Africa', 'Small states', 'Sao Tome and Principe', 'Suriname', 'Slovak Republic', 'Slovenia', 'Sweden', 'Eswatini', 'Sint Maarten (Dutch part)', 'Seychelles', 'Syrian Arab Republic', 'Turks and Caicos Islands', 'Chad', 'East Asia & Pacific (IDA & IBRD countries)', 'Europe & Central Asia (IDA & IBRD countries)', 'Togo', 'Thailand', 'Tajikistan', 'Turkmenistan', 'Latin America & the Caribbean (IDA & IBRD countries)', 'Timor-Leste', 'Middle East & North Africa (IDA & IBRD countries)', 'Tonga', 'South Asia (IDA & IBRD)', 'Sub-Saharan Africa (IDA & IBRD countries)', 'Trinidad and Tobago', 'Tunisia', 'Turkey', 'Tuvalu', 'Tanzania', 'Uganda', 'Ukraine', 'Upper middle income', 'Uruguay', 'United States', 'Uzbekistan', 'St. Vincent and the Grenadines', 'Venezuela, RB', 'British Virgin Islands', 'Virgin Islands (U.S.)', 'Vietnam', 'Vanuatu', 'World', 'Samoa', 'Kosovo', 'Yemen, Rep.', 'South Africa', 'Zambia', 'Zimbabwe']\n"
     ]
    },
    {
     "data": {
      "text/html": [
       "<div>\n",
       "<style scoped>\n",
       "    .dataframe tbody tr th:only-of-type {\n",
       "        vertical-align: middle;\n",
       "    }\n",
       "\n",
       "    .dataframe tbody tr th {\n",
       "        vertical-align: top;\n",
       "    }\n",
       "\n",
       "    .dataframe thead th {\n",
       "        text-align: right;\n",
       "    }\n",
       "</style>\n",
       "<table border=\"1\" class=\"dataframe\">\n",
       "  <thead>\n",
       "    <tr style=\"text-align: right;\">\n",
       "      <th></th>\n",
       "      <th>Country Name</th>\n",
       "      <th>Country Code</th>\n",
       "      <th>Indicator Name</th>\n",
       "      <th>Indicator Code</th>\n",
       "      <th>1960</th>\n",
       "      <th>1961</th>\n",
       "      <th>1962</th>\n",
       "      <th>1963</th>\n",
       "      <th>1964</th>\n",
       "      <th>1965</th>\n",
       "      <th>...</th>\n",
       "      <th>2011</th>\n",
       "      <th>2012</th>\n",
       "      <th>2013</th>\n",
       "      <th>2014</th>\n",
       "      <th>2015</th>\n",
       "      <th>2016</th>\n",
       "      <th>2017</th>\n",
       "      <th>2018</th>\n",
       "      <th>2019</th>\n",
       "      <th>Unnamed: 64</th>\n",
       "    </tr>\n",
       "  </thead>\n",
       "  <tbody>\n",
       "    <tr>\n",
       "      <th>0</th>\n",
       "      <td>Aruba</td>\n",
       "      <td>ABW</td>\n",
       "      <td>CO2 emissions (kt)</td>\n",
       "      <td>EN.ATM.CO2E.KT</td>\n",
       "      <td>NaN</td>\n",
       "      <td>NaN</td>\n",
       "      <td>NaN</td>\n",
       "      <td>NaN</td>\n",
       "      <td>NaN</td>\n",
       "      <td>NaN</td>\n",
       "      <td>...</td>\n",
       "      <td>2500.894</td>\n",
       "      <td>1349.456</td>\n",
       "      <td>861.745</td>\n",
       "      <td>872.746</td>\n",
       "      <td>NaN</td>\n",
       "      <td>NaN</td>\n",
       "      <td>NaN</td>\n",
       "      <td>NaN</td>\n",
       "      <td>NaN</td>\n",
       "      <td>NaN</td>\n",
       "    </tr>\n",
       "    <tr>\n",
       "      <th>1</th>\n",
       "      <td>Afghanistan</td>\n",
       "      <td>AFG</td>\n",
       "      <td>CO2 emissions (kt)</td>\n",
       "      <td>EN.ATM.CO2E.KT</td>\n",
       "      <td>414.371</td>\n",
       "      <td>491.378</td>\n",
       "      <td>689.396</td>\n",
       "      <td>707.731</td>\n",
       "      <td>839.743</td>\n",
       "      <td>1008.425</td>\n",
       "      <td>...</td>\n",
       "      <td>12240.446</td>\n",
       "      <td>10755.311</td>\n",
       "      <td>10014.577</td>\n",
       "      <td>9809.225</td>\n",
       "      <td>NaN</td>\n",
       "      <td>NaN</td>\n",
       "      <td>NaN</td>\n",
       "      <td>NaN</td>\n",
       "      <td>NaN</td>\n",
       "      <td>NaN</td>\n",
       "    </tr>\n",
       "    <tr>\n",
       "      <th>2</th>\n",
       "      <td>Angola</td>\n",
       "      <td>AGO</td>\n",
       "      <td>CO2 emissions (kt)</td>\n",
       "      <td>EN.ATM.CO2E.KT</td>\n",
       "      <td>550.050</td>\n",
       "      <td>454.708</td>\n",
       "      <td>1180.774</td>\n",
       "      <td>1151.438</td>\n",
       "      <td>1224.778</td>\n",
       "      <td>1188.108</td>\n",
       "      <td>...</td>\n",
       "      <td>30340.758</td>\n",
       "      <td>33399.036</td>\n",
       "      <td>32617.965</td>\n",
       "      <td>34763.160</td>\n",
       "      <td>NaN</td>\n",
       "      <td>NaN</td>\n",
       "      <td>NaN</td>\n",
       "      <td>NaN</td>\n",
       "      <td>NaN</td>\n",
       "      <td>NaN</td>\n",
       "    </tr>\n",
       "    <tr>\n",
       "      <th>3</th>\n",
       "      <td>Albania</td>\n",
       "      <td>ALB</td>\n",
       "      <td>CO2 emissions (kt)</td>\n",
       "      <td>EN.ATM.CO2E.KT</td>\n",
       "      <td>2024.184</td>\n",
       "      <td>2280.874</td>\n",
       "      <td>2464.224</td>\n",
       "      <td>2082.856</td>\n",
       "      <td>2016.850</td>\n",
       "      <td>2174.531</td>\n",
       "      <td>...</td>\n",
       "      <td>5240.143</td>\n",
       "      <td>4910.113</td>\n",
       "      <td>5064.127</td>\n",
       "      <td>5716.853</td>\n",
       "      <td>NaN</td>\n",
       "      <td>NaN</td>\n",
       "      <td>NaN</td>\n",
       "      <td>NaN</td>\n",
       "      <td>NaN</td>\n",
       "      <td>NaN</td>\n",
       "    </tr>\n",
       "    <tr>\n",
       "      <th>4</th>\n",
       "      <td>Andorra</td>\n",
       "      <td>AND</td>\n",
       "      <td>CO2 emissions (kt)</td>\n",
       "      <td>EN.ATM.CO2E.KT</td>\n",
       "      <td>NaN</td>\n",
       "      <td>NaN</td>\n",
       "      <td>NaN</td>\n",
       "      <td>NaN</td>\n",
       "      <td>NaN</td>\n",
       "      <td>NaN</td>\n",
       "      <td>...</td>\n",
       "      <td>491.378</td>\n",
       "      <td>487.711</td>\n",
       "      <td>476.710</td>\n",
       "      <td>462.042</td>\n",
       "      <td>NaN</td>\n",
       "      <td>NaN</td>\n",
       "      <td>NaN</td>\n",
       "      <td>NaN</td>\n",
       "      <td>NaN</td>\n",
       "      <td>NaN</td>\n",
       "    </tr>\n",
       "    <tr>\n",
       "      <th>...</th>\n",
       "      <td>...</td>\n",
       "      <td>...</td>\n",
       "      <td>...</td>\n",
       "      <td>...</td>\n",
       "      <td>...</td>\n",
       "      <td>...</td>\n",
       "      <td>...</td>\n",
       "      <td>...</td>\n",
       "      <td>...</td>\n",
       "      <td>...</td>\n",
       "      <td>...</td>\n",
       "      <td>...</td>\n",
       "      <td>...</td>\n",
       "      <td>...</td>\n",
       "      <td>...</td>\n",
       "      <td>...</td>\n",
       "      <td>...</td>\n",
       "      <td>...</td>\n",
       "      <td>...</td>\n",
       "      <td>...</td>\n",
       "      <td>...</td>\n",
       "    </tr>\n",
       "    <tr>\n",
       "      <th>259</th>\n",
       "      <td>Kosovo</td>\n",
       "      <td>XKX</td>\n",
       "      <td>CO2 emissions (kt)</td>\n",
       "      <td>EN.ATM.CO2E.KT</td>\n",
       "      <td>NaN</td>\n",
       "      <td>NaN</td>\n",
       "      <td>NaN</td>\n",
       "      <td>NaN</td>\n",
       "      <td>NaN</td>\n",
       "      <td>NaN</td>\n",
       "      <td>...</td>\n",
       "      <td>NaN</td>\n",
       "      <td>NaN</td>\n",
       "      <td>NaN</td>\n",
       "      <td>NaN</td>\n",
       "      <td>NaN</td>\n",
       "      <td>NaN</td>\n",
       "      <td>NaN</td>\n",
       "      <td>NaN</td>\n",
       "      <td>NaN</td>\n",
       "      <td>NaN</td>\n",
       "    </tr>\n",
       "    <tr>\n",
       "      <th>260</th>\n",
       "      <td>Yemen, Rep.</td>\n",
       "      <td>YEM</td>\n",
       "      <td>CO2 emissions (kt)</td>\n",
       "      <td>EN.ATM.CO2E.KT</td>\n",
       "      <td>3633.997</td>\n",
       "      <td>2665.909</td>\n",
       "      <td>3887.020</td>\n",
       "      <td>2918.932</td>\n",
       "      <td>3633.997</td>\n",
       "      <td>3931.024</td>\n",
       "      <td>...</td>\n",
       "      <td>19666.121</td>\n",
       "      <td>18668.697</td>\n",
       "      <td>25496.651</td>\n",
       "      <td>22698.730</td>\n",
       "      <td>NaN</td>\n",
       "      <td>NaN</td>\n",
       "      <td>NaN</td>\n",
       "      <td>NaN</td>\n",
       "      <td>NaN</td>\n",
       "      <td>NaN</td>\n",
       "    </tr>\n",
       "    <tr>\n",
       "      <th>261</th>\n",
       "      <td>South Africa</td>\n",
       "      <td>ZAF</td>\n",
       "      <td>CO2 emissions (kt)</td>\n",
       "      <td>EN.ATM.CO2E.KT</td>\n",
       "      <td>97934.569</td>\n",
       "      <td>102213.958</td>\n",
       "      <td>105767.281</td>\n",
       "      <td>109826.650</td>\n",
       "      <td>119657.877</td>\n",
       "      <td>128260.659</td>\n",
       "      <td>...</td>\n",
       "      <td>470582.443</td>\n",
       "      <td>468770.945</td>\n",
       "      <td>466376.394</td>\n",
       "      <td>489771.854</td>\n",
       "      <td>NaN</td>\n",
       "      <td>NaN</td>\n",
       "      <td>NaN</td>\n",
       "      <td>NaN</td>\n",
       "      <td>NaN</td>\n",
       "      <td>NaN</td>\n",
       "    </tr>\n",
       "    <tr>\n",
       "      <th>262</th>\n",
       "      <td>Zambia</td>\n",
       "      <td>ZMB</td>\n",
       "      <td>CO2 emissions (kt)</td>\n",
       "      <td>EN.ATM.CO2E.KT</td>\n",
       "      <td>NaN</td>\n",
       "      <td>NaN</td>\n",
       "      <td>NaN</td>\n",
       "      <td>NaN</td>\n",
       "      <td>3278.298</td>\n",
       "      <td>3916.356</td>\n",
       "      <td>...</td>\n",
       "      <td>2937.267</td>\n",
       "      <td>3667.000</td>\n",
       "      <td>3956.693</td>\n",
       "      <td>4503.076</td>\n",
       "      <td>NaN</td>\n",
       "      <td>NaN</td>\n",
       "      <td>NaN</td>\n",
       "      <td>NaN</td>\n",
       "      <td>NaN</td>\n",
       "      <td>NaN</td>\n",
       "    </tr>\n",
       "    <tr>\n",
       "      <th>263</th>\n",
       "      <td>Zimbabwe</td>\n",
       "      <td>ZWE</td>\n",
       "      <td>CO2 emissions (kt)</td>\n",
       "      <td>EN.ATM.CO2E.KT</td>\n",
       "      <td>NaN</td>\n",
       "      <td>NaN</td>\n",
       "      <td>NaN</td>\n",
       "      <td>NaN</td>\n",
       "      <td>4473.740</td>\n",
       "      <td>5214.474</td>\n",
       "      <td>...</td>\n",
       "      <td>9563.536</td>\n",
       "      <td>7792.375</td>\n",
       "      <td>11675.728</td>\n",
       "      <td>12020.426</td>\n",
       "      <td>NaN</td>\n",
       "      <td>NaN</td>\n",
       "      <td>NaN</td>\n",
       "      <td>NaN</td>\n",
       "      <td>NaN</td>\n",
       "      <td>NaN</td>\n",
       "    </tr>\n",
       "  </tbody>\n",
       "</table>\n",
       "<p>264 rows × 65 columns</p>\n",
       "</div>"
      ],
      "text/plain": [
       "     Country Name Country Code      Indicator Name  Indicator Code       1960  \\\n",
       "0           Aruba          ABW  CO2 emissions (kt)  EN.ATM.CO2E.KT        NaN   \n",
       "1     Afghanistan          AFG  CO2 emissions (kt)  EN.ATM.CO2E.KT    414.371   \n",
       "2          Angola          AGO  CO2 emissions (kt)  EN.ATM.CO2E.KT    550.050   \n",
       "3         Albania          ALB  CO2 emissions (kt)  EN.ATM.CO2E.KT   2024.184   \n",
       "4         Andorra          AND  CO2 emissions (kt)  EN.ATM.CO2E.KT        NaN   \n",
       "..            ...          ...                 ...             ...        ...   \n",
       "259        Kosovo          XKX  CO2 emissions (kt)  EN.ATM.CO2E.KT        NaN   \n",
       "260   Yemen, Rep.          YEM  CO2 emissions (kt)  EN.ATM.CO2E.KT   3633.997   \n",
       "261  South Africa          ZAF  CO2 emissions (kt)  EN.ATM.CO2E.KT  97934.569   \n",
       "262        Zambia          ZMB  CO2 emissions (kt)  EN.ATM.CO2E.KT        NaN   \n",
       "263      Zimbabwe          ZWE  CO2 emissions (kt)  EN.ATM.CO2E.KT        NaN   \n",
       "\n",
       "           1961        1962        1963        1964        1965  ...  \\\n",
       "0           NaN         NaN         NaN         NaN         NaN  ...   \n",
       "1       491.378     689.396     707.731     839.743    1008.425  ...   \n",
       "2       454.708    1180.774    1151.438    1224.778    1188.108  ...   \n",
       "3      2280.874    2464.224    2082.856    2016.850    2174.531  ...   \n",
       "4           NaN         NaN         NaN         NaN         NaN  ...   \n",
       "..          ...         ...         ...         ...         ...  ...   \n",
       "259         NaN         NaN         NaN         NaN         NaN  ...   \n",
       "260    2665.909    3887.020    2918.932    3633.997    3931.024  ...   \n",
       "261  102213.958  105767.281  109826.650  119657.877  128260.659  ...   \n",
       "262         NaN         NaN         NaN    3278.298    3916.356  ...   \n",
       "263         NaN         NaN         NaN    4473.740    5214.474  ...   \n",
       "\n",
       "           2011        2012        2013        2014  2015  2016  2017  2018  \\\n",
       "0      2500.894    1349.456     861.745     872.746   NaN   NaN   NaN   NaN   \n",
       "1     12240.446   10755.311   10014.577    9809.225   NaN   NaN   NaN   NaN   \n",
       "2     30340.758   33399.036   32617.965   34763.160   NaN   NaN   NaN   NaN   \n",
       "3      5240.143    4910.113    5064.127    5716.853   NaN   NaN   NaN   NaN   \n",
       "4       491.378     487.711     476.710     462.042   NaN   NaN   NaN   NaN   \n",
       "..          ...         ...         ...         ...   ...   ...   ...   ...   \n",
       "259         NaN         NaN         NaN         NaN   NaN   NaN   NaN   NaN   \n",
       "260   19666.121   18668.697   25496.651   22698.730   NaN   NaN   NaN   NaN   \n",
       "261  470582.443  468770.945  466376.394  489771.854   NaN   NaN   NaN   NaN   \n",
       "262    2937.267    3667.000    3956.693    4503.076   NaN   NaN   NaN   NaN   \n",
       "263    9563.536    7792.375   11675.728   12020.426   NaN   NaN   NaN   NaN   \n",
       "\n",
       "     2019  Unnamed: 64  \n",
       "0     NaN          NaN  \n",
       "1     NaN          NaN  \n",
       "2     NaN          NaN  \n",
       "3     NaN          NaN  \n",
       "4     NaN          NaN  \n",
       "..    ...          ...  \n",
       "259   NaN          NaN  \n",
       "260   NaN          NaN  \n",
       "261   NaN          NaN  \n",
       "262   NaN          NaN  \n",
       "263   NaN          NaN  \n",
       "\n",
       "[264 rows x 65 columns]"
      ]
     },
     "execution_count": 21,
     "metadata": {},
     "output_type": "execute_result"
    }
   ],
   "source": [
    "data = pd.read_csv('data/API_EN.ATM.CO2E.KT_DS2_en_csv_v2_1345584.csv', skiprows=4)\n",
    "columns_names = data.columns\n",
    "print('column names:\\n',list(columns_names),'\\n\\n')\n",
    "countries = data['Country Name']\n",
    "print('{} countries are in the dataset.'.format(len(countries)),'\\n')\n",
    "print('countries are of data type: ',type(countries),'\\n')\n",
    "print(list(countries))\n",
    "data"
   ]
  },
  {
   "cell_type": "code",
   "execution_count": 22,
   "metadata": {},
   "outputs": [
    {
     "data": {
      "text/plain": [
       "Country Name\n",
       "IDA only                  1\n",
       "Lower middle income       2\n",
       "Slovenia                  3\n",
       "Argentina                 4\n",
       "Slovak Republic           5\n",
       "                       ... \n",
       "Netherlands             260\n",
       "Faroe Islands           261\n",
       "Cote d'Ivoire           262\n",
       "Libya                   263\n",
       "Hong Kong SAR, China    264\n",
       "Length: 264, dtype: int64"
      ]
     },
     "execution_count": 22,
     "metadata": {},
     "output_type": "execute_result"
    }
   ],
   "source": [
    "# Create a new pandas Series with countries as labels and a random number as values\n",
    "import random\n",
    "# random.sample(population, k): returns k random and unique members of the population.\n",
    "random_val_pr_country = pd.Series(random.sample(range(1,len(countries)+1),len(countries)),index=countries)\n",
    "random_val_pr_country.sort_values()"
   ]
  },
  {
   "cell_type": "code",
   "execution_count": 76,
   "metadata": {},
   "outputs": [
    {
     "data": {
      "text/plain": [
       "a    3\n",
       "b    6\n",
       "c    9\n",
       "dtype: int64"
      ]
     },
     "execution_count": 76,
     "metadata": {},
     "output_type": "execute_result"
    }
   ],
   "source": [
    "# instansiate Series from dict\n",
    "new_series = pd.Series(dict({'a':3,'b':6,'c':9}))\n",
    "new_series"
   ]
  },
  {
   "cell_type": "markdown",
   "metadata": {},
   "source": [
    "## Exercise Pandas Data Series\n",
    "The CO2 Emission data set above is not updated since 2014\n",
    "1. Create a Pandas Series with emission data from 2014 for each country or region\n",
    "2. Find the 10 Countries/Regions with the highest emissions in 2014 and show emission numbers (reverse sorted)\n",
    "3. Remove if you can those rows that are not countries (regions and aggregated groups) (hint:  [ISO 3166, Alpha-3 country codes](https://www.iban.com/country-codes)\n",
    "    - Find the 10 countries with highest emissions in 2014\n",
    "4. Plot the emissions of China and USA over time respectively"
   ]
  },
  {
   "cell_type": "markdown",
   "metadata": {
    "slideshow": {
     "slide_type": "subslide"
    }
   },
   "source": [
    "# `DataFrame`\n",
    "\n",
    "A `DataFrame` is a 2-dimensional labeled data structure with columns of potentially different types. You can think of it like a spreadsheet or SQL table, or **a dict of Series objects**.\n",
    "\n",
    "In the following we concatenate two `Series`to form a `DataFrame`.\n",
    "\n",
    "We will use pandas concat() method [get a good explanation here](https://www.tutorialspoint.com/python_pandas/python_pandas_concatenation.htm)"
   ]
  },
  {
   "cell_type": "code",
   "execution_count": 24,
   "metadata": {},
   "outputs": [
    {
     "data": {
      "text/plain": [
       "1960    4319.73\n",
       "1961    4121.71\n",
       "1962     4011.7\n",
       "1963    4319.73\n",
       "1964    4558.08\n",
       "1965     5522.5\n",
       "1966    5405.16\n",
       "1967    4884.44\n",
       "1968    4884.44\n",
       "1969    5595.84\n",
       "1970    5742.52\n",
       "1971    5808.53\n",
       "1972    6076.22\n",
       "1973    5775.52\n",
       "1974    5683.85\n",
       "1975    5969.88\n",
       "1976    5896.54\n",
       "1977    5650.85\n",
       "1978    5742.52\n",
       "1979     6277.9\n",
       "1980    5837.86\n",
       "1981    5375.82\n",
       "1982    4873.44\n",
       "1983    3817.35\n",
       "1984    3450.65\n",
       "1985    3296.63\n",
       "1986    3179.29\n",
       "1987    3560.66\n",
       "1988    4807.44\n",
       "1989    4880.78\n",
       "1990    3993.36\n",
       "1991    4554.41\n",
       "1992    5170.47\n",
       "1993    4466.41\n",
       "1994     4066.7\n",
       "1995    4591.08\n",
       "1996    5441.83\n",
       "1997    5555.51\n",
       "1998    5687.52\n",
       "1999    6725.28\n",
       "2000    5306.15\n",
       "2001     5089.8\n",
       "2002    4620.42\n",
       "2003    4598.42\n",
       "2004    5610.51\n",
       "2005    5775.52\n",
       "2006    6648.27\n",
       "2007    6002.88\n",
       "2008    8265.42\n",
       "2009    8060.07\n",
       "2010    6387.91\n",
       "2011    7763.04\n",
       "2012    8694.46\n",
       "2013    7587.02\n",
       "2014    6747.28\n",
       "Name: 248, dtype: object"
      ]
     },
     "execution_count": 24,
     "metadata": {},
     "output_type": "execute_result"
    }
   ],
   "source": [
    "# reference to check graph: https://www.klimadebat.dk/grafer_co2udledning.php\n",
    "\n",
    "years = data.columns[4:-1]\n",
    "#data.loc[data['Country Name'=='Denmark']]\n",
    "data.columns\n",
    "list(data['Country Name'])\n",
    "ts_dk = data.loc[data['Country Name']=='Denmark'].iloc[0][4:-6]\n",
    "ts_ury = data.loc[data['Country Name']=='Uruguay'].iloc[0][4:-6]\n",
    "ts_ury"
   ]
  },
  {
   "cell_type": "code",
   "execution_count": 25,
   "metadata": {},
   "outputs": [
    {
     "name": "stdout",
     "output_type": "stream",
     "text": [
      "          DNK      URY\n",
      "1960  29779.7  4319.73\n",
      "1961  31734.2  4121.71\n",
      "1962  36926.7   4011.7\n",
      "1963  40707.4  4319.73\n"
     ]
    },
    {
     "data": {
      "text/plain": [
       "<matplotlib.axes._subplots.AxesSubplot at 0x7f1a10e4af50>"
      ]
     },
     "execution_count": 25,
     "metadata": {},
     "output_type": "execute_result"
    },
    {
     "data": {
      "image/png": "[encoded data removed]",
      "text/plain": [
       "<Figure size 432x288 with 1 Axes>"
      ]
     },
     "metadata": {
      "needs_background": "light"
     },
     "output_type": "display_data"
    }
   ],
   "source": [
    "ts = pd.concat([ts_dk, ts_ury], axis=1, keys=['DNK', 'URY']) # axis=0 is default (concats like sql UNION) axis=1 concats the data along the x axis\n",
    "print(ts[:4])\n",
    "ts.plot()"
   ]
  },
  {
   "cell_type": "markdown",
   "metadata": {
    "slideshow": {
     "slide_type": "subslide"
    }
   },
   "source": [
    "More information on `DataFrame`s can be found here:\n",
    "http://pandas.pydata.org/pandas-docs/stable/dsintro.html#dataframe\n",
    "\n",
    "Similar to, we can create `DataFrame`s by giving the data for the values and indexes explicitely."
   ]
  },
  {
   "cell_type": "code",
   "execution_count": 26,
   "metadata": {
    "scrolled": true,
    "slideshow": {
     "slide_type": "subslide"
    }
   },
   "outputs": [
    {
     "name": "stdout",
     "output_type": "stream",
     "text": [
      "DatetimeIndex(['2020-06-02', '2020-06-03', '2020-06-04', '2020-06-05',\n",
      "               '2020-06-06', '2020-06-07'],\n",
      "              dtype='datetime64[ns]', freq='D')\n",
      "                   A         B         C         D\n",
      "2020-06-02 -1.072713 -0.978004  2.125801 -0.543640\n",
      "2020-06-03 -0.580768  1.029609 -0.374602  2.490784\n",
      "2020-06-04  1.035577 -0.088975  1.119721  1.572720\n",
      "2020-06-05 -0.437715  1.004304 -0.170979  0.614256\n",
      "2020-06-06 -0.434507 -0.140943  0.113784  0.995568\n",
      "2020-06-07 -0.380862 -1.505690 -0.121243 -0.683935\n"
     ]
    }
   ],
   "source": [
    "dates = pd.date_range('20200602', periods=6) # create 6 dates from september 2nd, 2020.\n",
    "df = pd.DataFrame(np.random.randn(6,4), index=dates, columns=list('ABCD')) # use np.random.randn to generate a dataframe of 6 by 4 random numbers\n",
    "print(dates)\n",
    "print(df)\n",
    "#df.describe()"
   ]
  },
  {
   "cell_type": "markdown",
   "metadata": {
    "slideshow": {
     "slide_type": "slide"
    }
   },
   "source": [
    "## Exercise pandas dataframe\n",
    "1. Using the dataframe in the above cell find:\n",
    "    1. Mean, Min, Max values for all 4 columns\n",
    "    2. The 2 dates with the largest and smallest sum (by column)\n",
    "    3. All dates where both A's and B's are positive"
   ]
  },
  {
   "cell_type": "markdown",
   "metadata": {
    "slideshow": {
     "slide_type": "subslide"
    }
   },
   "source": [
    "## Working with real data\n",
    "Since we do not want to work on random example data. We will have a look on the **military expenditures** of some countries in the world. We will use this data to exemplify usage of Pandas' `DataFrame` methods.\n",
    "\n",
    "Again, we will receive the data from the World Bank.\n",
    "http://data.worldbank.org/indicator/MS.MIL.XPND.CN?locations=DK-CN-US-RU"
   ]
  },
  {
   "cell_type": "code",
   "execution_count": 27,
   "metadata": {
    "slideshow": {
     "slide_type": "slide"
    }
   },
   "outputs": [
    {
     "name": "stdout",
     "output_type": "stream",
     "text": [
      "{'Date': 'Mon, 21 Sep 2020 06:46:35 GMT', 'Content-Type': 'application/zip', 'Content-Length': '40701', 'Connection': 'keep-alive', 'Set-Cookie': 'api_http.cookie=7c2b11fa018cc2a991aa7ed18f9a292a; Path=/, TS01fa65e4=01359ee976af78bb326b12d855e3f85219432b7d934f39e24188e397c3dc5af09b04b9351ad4942c7d7ad9fd5361c49ca644fca8cd; Path=/, TS019865bf=0114ae2926824290af257ec783babeab3d155b5ed5dd2ae134c432dbc5b14752aaf63e3a10fe26b8085133cb9f1a9ba4f17f740c1d35e5a91202b14c26cfbc45fe8883798d; Path=/', 'Cache-Control': 'public, must-revalidate, max-age=1', 'Expires': 'Mon, 21 Sep 2020 06:46:36 GMT', 'Last-Modified': 'Mon, 21 Sep 2020 06:46:35 GMT', 'Content-Disposition': 'attachment; filename=API_MS.MIL.XPND.CN_DS2_en_csv_v2_1350889.zip', 'Request-Context': 'appId=cid-v1:da002513-bd8b-4441-9f30-737944134422'}\n",
      "Downloaded API_MS.MIL.XPND.CN_DS2_en_csv_v2_1350889.zip\n"
     ]
    }
   ],
   "source": [
    "import requests\n",
    "\n",
    "url = 'http://api.worldbank.org/v2/en/indicator/MS.MIL.XPND.CN'\n",
    "\n",
    "response = requests.get(url, params={'downloadformat': 'csv'})\n",
    "fname = response.headers['Content-Disposition'].split('=')[1]\n",
    "print(response.headers)\n",
    "\n",
    "if response.ok:  # status_code == 200:\n",
    "    with open(fname, 'wb') as f:\n",
    "        f.write(response.content)   \n",
    "\n",
    "print('Downloaded',fname)\n",
    "#print('Downloaded {}'.format(fname))"
   ]
  },
  {
   "cell_type": "code",
   "execution_count": 28,
   "metadata": {
    "slideshow": {
     "slide_type": "subslide"
    }
   },
   "outputs": [],
   "source": [
    "import os\n",
    "import zipfile\n",
    "\n",
    "zipfile.ZipFile(fname, 'r').extractall('.')\n",
    "os.remove(fname)"
   ]
  },
  {
   "cell_type": "code",
   "execution_count": 29,
   "metadata": {
    "slideshow": {
     "slide_type": "fragment"
    }
   },
   "outputs": [
    {
     "name": "stdout",
     "output_type": "stream",
     "text": [
      "-rw-rw-r--  1 jovyan  1000 4.2K Sep 14 10:24 04-Exercise.ipynb\n",
      "-rw-rw-r--  1 jovyan  1000  17K Sep 19 13:02 05-Exercise.ipynb\n",
      "drwxrwxr-x  3 jovyan  1000 4.0K Sep 21 05:00 data\n",
      "-rwxrwxr-x  1 jovyan  1000 125K Sep 21 06:45 05-2 pandas.ipynb\n",
      "-rw-r--r--  1 jovyan users  466 Sep 21 06:46 Metadata_Indicator_API_EN.ATM.CO2E.KT_DS2_en_csv_v2_1345584.csv\n",
      "-rw-r--r--  1 jovyan users 181K Sep 21 06:46 API_EN.ATM.CO2E.KT_DS2_en_csv_v2_1345584.csv\n",
      "-rw-r--r--  1 jovyan users  31K Sep 21 06:46 Metadata_Country_API_EN.ATM.CO2E.KT_DS2_en_csv_v2_1345584.csv\n",
      "-rw-r--r--  1 jovyan users 1.7K Sep 21 06:46 Metadata_Indicator_API_MS.MIL.XPND.CN_DS2_en_csv_v2_1350889.csv\n",
      "-rw-r--r--  1 jovyan users  31K Sep 21 06:46 Metadata_Country_API_MS.MIL.XPND.CN_DS2_en_csv_v2_1350889.csv\n",
      "-rw-r--r--  1 jovyan users 138K Sep 21 06:46 API_MS.MIL.XPND.CN_DS2_en_csv_v2_1350889.csv\n"
     ]
    }
   ],
   "source": [
    "%%bash\n",
    "ls -ltrh | tail"
   ]
  },
  {
   "cell_type": "code",
   "execution_count": null,
   "metadata": {
    "slideshow": {
     "slide_type": "subslide"
    }
   },
   "outputs": [],
   "source": []
  },
  {
   "cell_type": "code",
   "execution_count": 30,
   "metadata": {
    "slideshow": {
     "slide_type": "fragment"
    }
   },
   "outputs": [
    {
     "name": "stdout",
     "output_type": "stream",
     "text": [
      "﻿\"INDICATOR_CODE\",\"INDICATOR_NAME\",\"SOURCE_NOTE\",\"SOURCE_ORGANIZATION\",\r\n",
      "\"MS.MIL.XPND.CN\",\"Military expenditure (current LCU)\",\"Military expenditures data from SIPRI are derived from the NATO definition, which includes all current and capital expenditures on the armed forces, including peacekeeping forces; defense ministries and other government agencies engaged in defense projects; paramilitary forces, if these are judged to be trained and equipped for military operations; and military space activities. Such expenditures include military and civil personnel, including retirement pensions of military personnel and social services for personnel; operation and maintenance; procurement; military research and development; and military aid (in the military expenditures of the donor country). Excluded are civil defense and current expenditures for previous military activities, such as for veterans' benefits, demobilization, conversion, and destruction of weapons. This definition cannot be applied for all countries, however, since that would require much more detailed information than is available about what is included in military budgets and off-budget military expenditure items. (For example, military budgets might or might not cover civil defense, reserves and auxiliary forces, police and paramilitary forces, dual-purpose forces such as military and civilian police, military grants in kind, pensions for military personnel, and social security contributions paid by one part of government to another.)\",\"Stockholm International Peace Research Institute (SIPRI), Yearbook: Armaments, Disarmament and International Security.\",\r\n"
     ]
    }
   ],
   "source": [
    "%%bash\n",
    "head ./data/Metadata_Indicator_API_MS.MIL.XPND.CN_DS2_en_csv_v2_898165.csv"
   ]
  },
  {
   "cell_type": "markdown",
   "metadata": {
    "slideshow": {
     "slide_type": "subslide"
    }
   },
   "source": [
    "Now, we use Pandas' `read_csv` function to read the downloaded CSV file directly. Note that we have to skip the first four rows as they do not contain data we are interested in, see keyword argument `skiprows=4`.\n",
    "\n",
    "Reading the CSV file like this returns a `DataFrame` directly."
   ]
  },
  {
   "cell_type": "code",
   "execution_count": 31,
   "metadata": {
    "slideshow": {
     "slide_type": "subslide"
    }
   },
   "outputs": [
    {
     "data": {
      "text/html": [
       "<div>\n",
       "<style scoped>\n",
       "    .dataframe tbody tr th:only-of-type {\n",
       "        vertical-align: middle;\n",
       "    }\n",
       "\n",
       "    .dataframe tbody tr th {\n",
       "        vertical-align: top;\n",
       "    }\n",
       "\n",
       "    .dataframe thead th {\n",
       "        text-align: right;\n",
       "    }\n",
       "</style>\n",
       "<table border=\"1\" class=\"dataframe\">\n",
       "  <thead>\n",
       "    <tr style=\"text-align: right;\">\n",
       "      <th></th>\n",
       "      <th>Country Name</th>\n",
       "      <th>Country Code</th>\n",
       "      <th>Indicator Name</th>\n",
       "      <th>Indicator Code</th>\n",
       "      <th>1960</th>\n",
       "      <th>1961</th>\n",
       "      <th>1962</th>\n",
       "      <th>1963</th>\n",
       "      <th>1964</th>\n",
       "      <th>1965</th>\n",
       "      <th>...</th>\n",
       "      <th>2011</th>\n",
       "      <th>2012</th>\n",
       "      <th>2013</th>\n",
       "      <th>2014</th>\n",
       "      <th>2015</th>\n",
       "      <th>2016</th>\n",
       "      <th>2017</th>\n",
       "      <th>2018</th>\n",
       "      <th>2019</th>\n",
       "      <th>Unnamed: 64</th>\n",
       "    </tr>\n",
       "  </thead>\n",
       "  <tbody>\n",
       "    <tr>\n",
       "      <th>0</th>\n",
       "      <td>Aruba</td>\n",
       "      <td>ABW</td>\n",
       "      <td>Military expenditure (current LCU)</td>\n",
       "      <td>MS.MIL.XPND.CN</td>\n",
       "      <td>NaN</td>\n",
       "      <td>NaN</td>\n",
       "      <td>NaN</td>\n",
       "      <td>NaN</td>\n",
       "      <td>NaN</td>\n",
       "      <td>NaN</td>\n",
       "      <td>...</td>\n",
       "      <td>NaN</td>\n",
       "      <td>NaN</td>\n",
       "      <td>NaN</td>\n",
       "      <td>NaN</td>\n",
       "      <td>NaN</td>\n",
       "      <td>NaN</td>\n",
       "      <td>NaN</td>\n",
       "      <td>NaN</td>\n",
       "      <td>NaN</td>\n",
       "      <td>NaN</td>\n",
       "    </tr>\n",
       "    <tr>\n",
       "      <th>1</th>\n",
       "      <td>Afghanistan</td>\n",
       "      <td>AFG</td>\n",
       "      <td>Military expenditure (current LCU)</td>\n",
       "      <td>MS.MIL.XPND.CN</td>\n",
       "      <td>NaN</td>\n",
       "      <td>NaN</td>\n",
       "      <td>NaN</td>\n",
       "      <td>NaN</td>\n",
       "      <td>NaN</td>\n",
       "      <td>NaN</td>\n",
       "      <td>...</td>\n",
       "      <td>1.523050e+10</td>\n",
       "      <td>1.214900e+10</td>\n",
       "      <td>1.202767e+10</td>\n",
       "      <td>1.535600e+10</td>\n",
       "      <td>1.219917e+10</td>\n",
       "      <td>1.261483e+10</td>\n",
       "      <td>1.302083e+10</td>\n",
       "      <td>1.431083e+10</td>\n",
       "      <td>NaN</td>\n",
       "      <td>NaN</td>\n",
       "    </tr>\n",
       "    <tr>\n",
       "      <th>2</th>\n",
       "      <td>Angola</td>\n",
       "      <td>AGO</td>\n",
       "      <td>Military expenditure (current LCU)</td>\n",
       "      <td>MS.MIL.XPND.CN</td>\n",
       "      <td>NaN</td>\n",
       "      <td>NaN</td>\n",
       "      <td>NaN</td>\n",
       "      <td>NaN</td>\n",
       "      <td>NaN</td>\n",
       "      <td>NaN</td>\n",
       "      <td>...</td>\n",
       "      <td>3.418750e+11</td>\n",
       "      <td>3.956800e+11</td>\n",
       "      <td>5.878690e+11</td>\n",
       "      <td>6.730000e+11</td>\n",
       "      <td>4.332160e+11</td>\n",
       "      <td>4.523560e+11</td>\n",
       "      <td>5.081750e+11</td>\n",
       "      <td>5.012240e+11</td>\n",
       "      <td>NaN</td>\n",
       "      <td>NaN</td>\n",
       "    </tr>\n",
       "    <tr>\n",
       "      <th>3</th>\n",
       "      <td>Albania</td>\n",
       "      <td>ALB</td>\n",
       "      <td>Military expenditure (current LCU)</td>\n",
       "      <td>MS.MIL.XPND.CN</td>\n",
       "      <td>NaN</td>\n",
       "      <td>NaN</td>\n",
       "      <td>NaN</td>\n",
       "      <td>NaN</td>\n",
       "      <td>NaN</td>\n",
       "      <td>NaN</td>\n",
       "      <td>...</td>\n",
       "      <td>1.987700e+10</td>\n",
       "      <td>1.982000e+10</td>\n",
       "      <td>1.902200e+10</td>\n",
       "      <td>1.878800e+10</td>\n",
       "      <td>1.667100e+10</td>\n",
       "      <td>1.625000e+10</td>\n",
       "      <td>1.719900e+10</td>\n",
       "      <td>1.949200e+10</td>\n",
       "      <td>NaN</td>\n",
       "      <td>NaN</td>\n",
       "    </tr>\n",
       "    <tr>\n",
       "      <th>4</th>\n",
       "      <td>Andorra</td>\n",
       "      <td>AND</td>\n",
       "      <td>Military expenditure (current LCU)</td>\n",
       "      <td>MS.MIL.XPND.CN</td>\n",
       "      <td>NaN</td>\n",
       "      <td>NaN</td>\n",
       "      <td>NaN</td>\n",
       "      <td>NaN</td>\n",
       "      <td>NaN</td>\n",
       "      <td>NaN</td>\n",
       "      <td>...</td>\n",
       "      <td>NaN</td>\n",
       "      <td>NaN</td>\n",
       "      <td>NaN</td>\n",
       "      <td>NaN</td>\n",
       "      <td>NaN</td>\n",
       "      <td>NaN</td>\n",
       "      <td>NaN</td>\n",
       "      <td>NaN</td>\n",
       "      <td>NaN</td>\n",
       "      <td>NaN</td>\n",
       "    </tr>\n",
       "    <tr>\n",
       "      <th>...</th>\n",
       "      <td>...</td>\n",
       "      <td>...</td>\n",
       "      <td>...</td>\n",
       "      <td>...</td>\n",
       "      <td>...</td>\n",
       "      <td>...</td>\n",
       "      <td>...</td>\n",
       "      <td>...</td>\n",
       "      <td>...</td>\n",
       "      <td>...</td>\n",
       "      <td>...</td>\n",
       "      <td>...</td>\n",
       "      <td>...</td>\n",
       "      <td>...</td>\n",
       "      <td>...</td>\n",
       "      <td>...</td>\n",
       "      <td>...</td>\n",
       "      <td>...</td>\n",
       "      <td>...</td>\n",
       "      <td>...</td>\n",
       "      <td>...</td>\n",
       "    </tr>\n",
       "    <tr>\n",
       "      <th>259</th>\n",
       "      <td>Kosovo</td>\n",
       "      <td>XKX</td>\n",
       "      <td>Military expenditure (current LCU)</td>\n",
       "      <td>MS.MIL.XPND.CN</td>\n",
       "      <td>NaN</td>\n",
       "      <td>NaN</td>\n",
       "      <td>NaN</td>\n",
       "      <td>NaN</td>\n",
       "      <td>NaN</td>\n",
       "      <td>NaN</td>\n",
       "      <td>...</td>\n",
       "      <td>3.666471e+07</td>\n",
       "      <td>3.377049e+07</td>\n",
       "      <td>3.660178e+07</td>\n",
       "      <td>4.038172e+07</td>\n",
       "      <td>4.507072e+07</td>\n",
       "      <td>4.696200e+07</td>\n",
       "      <td>5.103600e+07</td>\n",
       "      <td>5.366700e+07</td>\n",
       "      <td>NaN</td>\n",
       "      <td>NaN</td>\n",
       "    </tr>\n",
       "    <tr>\n",
       "      <th>260</th>\n",
       "      <td>Yemen, Rep.</td>\n",
       "      <td>YEM</td>\n",
       "      <td>Military expenditure (current LCU)</td>\n",
       "      <td>MS.MIL.XPND.CN</td>\n",
       "      <td>NaN</td>\n",
       "      <td>NaN</td>\n",
       "      <td>NaN</td>\n",
       "      <td>NaN</td>\n",
       "      <td>NaN</td>\n",
       "      <td>NaN</td>\n",
       "      <td>...</td>\n",
       "      <td>3.447000e+11</td>\n",
       "      <td>3.470000e+11</td>\n",
       "      <td>3.543000e+11</td>\n",
       "      <td>3.685000e+11</td>\n",
       "      <td>NaN</td>\n",
       "      <td>NaN</td>\n",
       "      <td>NaN</td>\n",
       "      <td>NaN</td>\n",
       "      <td>NaN</td>\n",
       "      <td>NaN</td>\n",
       "    </tr>\n",
       "    <tr>\n",
       "      <th>261</th>\n",
       "      <td>South Africa</td>\n",
       "      <td>ZAF</td>\n",
       "      <td>Military expenditure (current LCU)</td>\n",
       "      <td>MS.MIL.XPND.CN</td>\n",
       "      <td>50000000.0</td>\n",
       "      <td>81250000.0</td>\n",
       "      <td>133000000.0</td>\n",
       "      <td>135000000.0</td>\n",
       "      <td>194000000.0</td>\n",
       "      <td>206750000.0</td>\n",
       "      <td>...</td>\n",
       "      <td>3.335875e+10</td>\n",
       "      <td>3.685940e+10</td>\n",
       "      <td>3.976155e+10</td>\n",
       "      <td>4.224380e+10</td>\n",
       "      <td>4.451422e+10</td>\n",
       "      <td>4.666570e+10</td>\n",
       "      <td>4.854898e+10</td>\n",
       "      <td>4.821218e+10</td>\n",
       "      <td>NaN</td>\n",
       "      <td>NaN</td>\n",
       "    </tr>\n",
       "    <tr>\n",
       "      <th>262</th>\n",
       "      <td>Zambia</td>\n",
       "      <td>ZMB</td>\n",
       "      <td>Military expenditure (current LCU)</td>\n",
       "      <td>MS.MIL.XPND.CN</td>\n",
       "      <td>NaN</td>\n",
       "      <td>NaN</td>\n",
       "      <td>NaN</td>\n",
       "      <td>NaN</td>\n",
       "      <td>NaN</td>\n",
       "      <td>NaN</td>\n",
       "      <td>...</td>\n",
       "      <td>1.502500e+09</td>\n",
       "      <td>1.782500e+09</td>\n",
       "      <td>2.057700e+09</td>\n",
       "      <td>2.729418e+09</td>\n",
       "      <td>3.215100e+09</td>\n",
       "      <td>3.088700e+09</td>\n",
       "      <td>3.204640e+09</td>\n",
       "      <td>3.955630e+09</td>\n",
       "      <td>NaN</td>\n",
       "      <td>NaN</td>\n",
       "    </tr>\n",
       "    <tr>\n",
       "      <th>263</th>\n",
       "      <td>Zimbabwe</td>\n",
       "      <td>ZWE</td>\n",
       "      <td>Military expenditure (current LCU)</td>\n",
       "      <td>MS.MIL.XPND.CN</td>\n",
       "      <td>NaN</td>\n",
       "      <td>NaN</td>\n",
       "      <td>NaN</td>\n",
       "      <td>NaN</td>\n",
       "      <td>NaN</td>\n",
       "      <td>15600000.0</td>\n",
       "      <td>...</td>\n",
       "      <td>1.984380e+08</td>\n",
       "      <td>3.182720e+08</td>\n",
       "      <td>3.567000e+08</td>\n",
       "      <td>3.681000e+08</td>\n",
       "      <td>3.766770e+08</td>\n",
       "      <td>3.580650e+08</td>\n",
       "      <td>3.405220e+08</td>\n",
       "      <td>4.203640e+08</td>\n",
       "      <td>NaN</td>\n",
       "      <td>NaN</td>\n",
       "    </tr>\n",
       "  </tbody>\n",
       "</table>\n",
       "<p>264 rows × 65 columns</p>\n",
       "</div>"
      ],
      "text/plain": [
       "     Country Name Country Code                      Indicator Name  \\\n",
       "0           Aruba          ABW  Military expenditure (current LCU)   \n",
       "1     Afghanistan          AFG  Military expenditure (current LCU)   \n",
       "2          Angola          AGO  Military expenditure (current LCU)   \n",
       "3         Albania          ALB  Military expenditure (current LCU)   \n",
       "4         Andorra          AND  Military expenditure (current LCU)   \n",
       "..            ...          ...                                 ...   \n",
       "259        Kosovo          XKX  Military expenditure (current LCU)   \n",
       "260   Yemen, Rep.          YEM  Military expenditure (current LCU)   \n",
       "261  South Africa          ZAF  Military expenditure (current LCU)   \n",
       "262        Zambia          ZMB  Military expenditure (current LCU)   \n",
       "263      Zimbabwe          ZWE  Military expenditure (current LCU)   \n",
       "\n",
       "     Indicator Code        1960        1961         1962         1963  \\\n",
       "0    MS.MIL.XPND.CN         NaN         NaN          NaN          NaN   \n",
       "1    MS.MIL.XPND.CN         NaN         NaN          NaN          NaN   \n",
       "2    MS.MIL.XPND.CN         NaN         NaN          NaN          NaN   \n",
       "3    MS.MIL.XPND.CN         NaN         NaN          NaN          NaN   \n",
       "4    MS.MIL.XPND.CN         NaN         NaN          NaN          NaN   \n",
       "..              ...         ...         ...          ...          ...   \n",
       "259  MS.MIL.XPND.CN         NaN         NaN          NaN          NaN   \n",
       "260  MS.MIL.XPND.CN         NaN         NaN          NaN          NaN   \n",
       "261  MS.MIL.XPND.CN  50000000.0  81250000.0  133000000.0  135000000.0   \n",
       "262  MS.MIL.XPND.CN         NaN         NaN          NaN          NaN   \n",
       "263  MS.MIL.XPND.CN         NaN         NaN          NaN          NaN   \n",
       "\n",
       "            1964         1965  ...          2011          2012          2013  \\\n",
       "0            NaN          NaN  ...           NaN           NaN           NaN   \n",
       "1            NaN          NaN  ...  1.523050e+10  1.214900e+10  1.202767e+10   \n",
       "2            NaN          NaN  ...  3.418750e+11  3.956800e+11  5.878690e+11   \n",
       "3            NaN          NaN  ...  1.987700e+10  1.982000e+10  1.902200e+10   \n",
       "4            NaN          NaN  ...           NaN           NaN           NaN   \n",
       "..           ...          ...  ...           ...           ...           ...   \n",
       "259          NaN          NaN  ...  3.666471e+07  3.377049e+07  3.660178e+07   \n",
       "260          NaN          NaN  ...  3.447000e+11  3.470000e+11  3.543000e+11   \n",
       "261  194000000.0  206750000.0  ...  3.335875e+10  3.685940e+10  3.976155e+10   \n",
       "262          NaN          NaN  ...  1.502500e+09  1.782500e+09  2.057700e+09   \n",
       "263          NaN   15600000.0  ...  1.984380e+08  3.182720e+08  3.567000e+08   \n",
       "\n",
       "             2014          2015          2016          2017          2018  \\\n",
       "0             NaN           NaN           NaN           NaN           NaN   \n",
       "1    1.535600e+10  1.219917e+10  1.261483e+10  1.302083e+10  1.431083e+10   \n",
       "2    6.730000e+11  4.332160e+11  4.523560e+11  5.081750e+11  5.012240e+11   \n",
       "3    1.878800e+10  1.667100e+10  1.625000e+10  1.719900e+10  1.949200e+10   \n",
       "4             NaN           NaN           NaN           NaN           NaN   \n",
       "..            ...           ...           ...           ...           ...   \n",
       "259  4.038172e+07  4.507072e+07  4.696200e+07  5.103600e+07  5.366700e+07   \n",
       "260  3.685000e+11           NaN           NaN           NaN           NaN   \n",
       "261  4.224380e+10  4.451422e+10  4.666570e+10  4.854898e+10  4.821218e+10   \n",
       "262  2.729418e+09  3.215100e+09  3.088700e+09  3.204640e+09  3.955630e+09   \n",
       "263  3.681000e+08  3.766770e+08  3.580650e+08  3.405220e+08  4.203640e+08   \n",
       "\n",
       "     2019  Unnamed: 64  \n",
       "0     NaN          NaN  \n",
       "1     NaN          NaN  \n",
       "2     NaN          NaN  \n",
       "3     NaN          NaN  \n",
       "4     NaN          NaN  \n",
       "..    ...          ...  \n",
       "259   NaN          NaN  \n",
       "260   NaN          NaN  \n",
       "261   NaN          NaN  \n",
       "262   NaN          NaN  \n",
       "263   NaN          NaN  \n",
       "\n",
       "[264 rows x 65 columns]"
      ]
     },
     "execution_count": 31,
     "metadata": {},
     "output_type": "execute_result"
    }
   ],
   "source": [
    "import pandas as pd\n",
    "expenditure_csv = 'data/API_MS.MIL.XPND.CN_DS2_en_csv_v2_898165.csv'\n",
    "\n",
    "expenditures = pd.read_csv(expenditure_csv, skiprows=4)\n",
    "expenditures"
   ]
  },
  {
   "cell_type": "markdown",
   "metadata": {
    "slideshow": {
     "slide_type": "subslide"
    }
   },
   "source": [
    "## Viewing Data"
   ]
  },
  {
   "cell_type": "code",
   "execution_count": 32,
   "metadata": {},
   "outputs": [
    {
     "data": {
      "text/html": [
       "<div>\n",
       "<style scoped>\n",
       "    .dataframe tbody tr th:only-of-type {\n",
       "        vertical-align: middle;\n",
       "    }\n",
       "\n",
       "    .dataframe tbody tr th {\n",
       "        vertical-align: top;\n",
       "    }\n",
       "\n",
       "    .dataframe thead th {\n",
       "        text-align: right;\n",
       "    }\n",
       "</style>\n",
       "<table border=\"1\" class=\"dataframe\">\n",
       "  <thead>\n",
       "    <tr style=\"text-align: right;\">\n",
       "      <th></th>\n",
       "      <th>Country Name</th>\n",
       "      <th>Country Code</th>\n",
       "      <th>Indicator Name</th>\n",
       "      <th>Indicator Code</th>\n",
       "      <th>1960</th>\n",
       "      <th>1961</th>\n",
       "      <th>1962</th>\n",
       "      <th>1963</th>\n",
       "      <th>1964</th>\n",
       "      <th>1965</th>\n",
       "      <th>...</th>\n",
       "      <th>2011</th>\n",
       "      <th>2012</th>\n",
       "      <th>2013</th>\n",
       "      <th>2014</th>\n",
       "      <th>2015</th>\n",
       "      <th>2016</th>\n",
       "      <th>2017</th>\n",
       "      <th>2018</th>\n",
       "      <th>2019</th>\n",
       "      <th>Unnamed: 64</th>\n",
       "    </tr>\n",
       "  </thead>\n",
       "  <tbody>\n",
       "    <tr>\n",
       "      <th>0</th>\n",
       "      <td>Aruba</td>\n",
       "      <td>ABW</td>\n",
       "      <td>Military expenditure (current LCU)</td>\n",
       "      <td>MS.MIL.XPND.CN</td>\n",
       "      <td>NaN</td>\n",
       "      <td>NaN</td>\n",
       "      <td>NaN</td>\n",
       "      <td>NaN</td>\n",
       "      <td>NaN</td>\n",
       "      <td>NaN</td>\n",
       "      <td>...</td>\n",
       "      <td>NaN</td>\n",
       "      <td>NaN</td>\n",
       "      <td>NaN</td>\n",
       "      <td>NaN</td>\n",
       "      <td>NaN</td>\n",
       "      <td>NaN</td>\n",
       "      <td>NaN</td>\n",
       "      <td>NaN</td>\n",
       "      <td>NaN</td>\n",
       "      <td>NaN</td>\n",
       "    </tr>\n",
       "    <tr>\n",
       "      <th>1</th>\n",
       "      <td>Afghanistan</td>\n",
       "      <td>AFG</td>\n",
       "      <td>Military expenditure (current LCU)</td>\n",
       "      <td>MS.MIL.XPND.CN</td>\n",
       "      <td>NaN</td>\n",
       "      <td>NaN</td>\n",
       "      <td>NaN</td>\n",
       "      <td>NaN</td>\n",
       "      <td>NaN</td>\n",
       "      <td>NaN</td>\n",
       "      <td>...</td>\n",
       "      <td>1.523050e+10</td>\n",
       "      <td>1.214900e+10</td>\n",
       "      <td>1.202767e+10</td>\n",
       "      <td>1.535600e+10</td>\n",
       "      <td>1.219917e+10</td>\n",
       "      <td>1.261483e+10</td>\n",
       "      <td>1.302083e+10</td>\n",
       "      <td>1.431083e+10</td>\n",
       "      <td>NaN</td>\n",
       "      <td>NaN</td>\n",
       "    </tr>\n",
       "    <tr>\n",
       "      <th>2</th>\n",
       "      <td>Angola</td>\n",
       "      <td>AGO</td>\n",
       "      <td>Military expenditure (current LCU)</td>\n",
       "      <td>MS.MIL.XPND.CN</td>\n",
       "      <td>NaN</td>\n",
       "      <td>NaN</td>\n",
       "      <td>NaN</td>\n",
       "      <td>NaN</td>\n",
       "      <td>NaN</td>\n",
       "      <td>NaN</td>\n",
       "      <td>...</td>\n",
       "      <td>3.418750e+11</td>\n",
       "      <td>3.956800e+11</td>\n",
       "      <td>5.878690e+11</td>\n",
       "      <td>6.730000e+11</td>\n",
       "      <td>4.332160e+11</td>\n",
       "      <td>4.523560e+11</td>\n",
       "      <td>5.081750e+11</td>\n",
       "      <td>5.012240e+11</td>\n",
       "      <td>NaN</td>\n",
       "      <td>NaN</td>\n",
       "    </tr>\n",
       "    <tr>\n",
       "      <th>3</th>\n",
       "      <td>Albania</td>\n",
       "      <td>ALB</td>\n",
       "      <td>Military expenditure (current LCU)</td>\n",
       "      <td>MS.MIL.XPND.CN</td>\n",
       "      <td>NaN</td>\n",
       "      <td>NaN</td>\n",
       "      <td>NaN</td>\n",
       "      <td>NaN</td>\n",
       "      <td>NaN</td>\n",
       "      <td>NaN</td>\n",
       "      <td>...</td>\n",
       "      <td>1.987700e+10</td>\n",
       "      <td>1.982000e+10</td>\n",
       "      <td>1.902200e+10</td>\n",
       "      <td>1.878800e+10</td>\n",
       "      <td>1.667100e+10</td>\n",
       "      <td>1.625000e+10</td>\n",
       "      <td>1.719900e+10</td>\n",
       "      <td>1.949200e+10</td>\n",
       "      <td>NaN</td>\n",
       "      <td>NaN</td>\n",
       "    </tr>\n",
       "    <tr>\n",
       "      <th>4</th>\n",
       "      <td>Andorra</td>\n",
       "      <td>AND</td>\n",
       "      <td>Military expenditure (current LCU)</td>\n",
       "      <td>MS.MIL.XPND.CN</td>\n",
       "      <td>NaN</td>\n",
       "      <td>NaN</td>\n",
       "      <td>NaN</td>\n",
       "      <td>NaN</td>\n",
       "      <td>NaN</td>\n",
       "      <td>NaN</td>\n",
       "      <td>...</td>\n",
       "      <td>NaN</td>\n",
       "      <td>NaN</td>\n",
       "      <td>NaN</td>\n",
       "      <td>NaN</td>\n",
       "      <td>NaN</td>\n",
       "      <td>NaN</td>\n",
       "      <td>NaN</td>\n",
       "      <td>NaN</td>\n",
       "      <td>NaN</td>\n",
       "      <td>NaN</td>\n",
       "    </tr>\n",
       "  </tbody>\n",
       "</table>\n",
       "<p>5 rows × 65 columns</p>\n",
       "</div>"
      ],
      "text/plain": [
       "  Country Name Country Code                      Indicator Name  \\\n",
       "0        Aruba          ABW  Military expenditure (current LCU)   \n",
       "1  Afghanistan          AFG  Military expenditure (current LCU)   \n",
       "2       Angola          AGO  Military expenditure (current LCU)   \n",
       "3      Albania          ALB  Military expenditure (current LCU)   \n",
       "4      Andorra          AND  Military expenditure (current LCU)   \n",
       "\n",
       "   Indicator Code  1960  1961  1962  1963  1964  1965  ...          2011  \\\n",
       "0  MS.MIL.XPND.CN   NaN   NaN   NaN   NaN   NaN   NaN  ...           NaN   \n",
       "1  MS.MIL.XPND.CN   NaN   NaN   NaN   NaN   NaN   NaN  ...  1.523050e+10   \n",
       "2  MS.MIL.XPND.CN   NaN   NaN   NaN   NaN   NaN   NaN  ...  3.418750e+11   \n",
       "3  MS.MIL.XPND.CN   NaN   NaN   NaN   NaN   NaN   NaN  ...  1.987700e+10   \n",
       "4  MS.MIL.XPND.CN   NaN   NaN   NaN   NaN   NaN   NaN  ...           NaN   \n",
       "\n",
       "           2012          2013          2014          2015          2016  \\\n",
       "0           NaN           NaN           NaN           NaN           NaN   \n",
       "1  1.214900e+10  1.202767e+10  1.535600e+10  1.219917e+10  1.261483e+10   \n",
       "2  3.956800e+11  5.878690e+11  6.730000e+11  4.332160e+11  4.523560e+11   \n",
       "3  1.982000e+10  1.902200e+10  1.878800e+10  1.667100e+10  1.625000e+10   \n",
       "4           NaN           NaN           NaN           NaN           NaN   \n",
       "\n",
       "           2017          2018  2019  Unnamed: 64  \n",
       "0           NaN           NaN   NaN          NaN  \n",
       "1  1.302083e+10  1.431083e+10   NaN          NaN  \n",
       "2  5.081750e+11  5.012240e+11   NaN          NaN  \n",
       "3  1.719900e+10  1.949200e+10   NaN          NaN  \n",
       "4           NaN           NaN   NaN          NaN  \n",
       "\n",
       "[5 rows x 65 columns]"
      ]
     },
     "execution_count": 32,
     "metadata": {},
     "output_type": "execute_result"
    }
   ],
   "source": [
    "expenditures.head()"
   ]
  },
  {
   "cell_type": "code",
   "execution_count": 33,
   "metadata": {},
   "outputs": [
    {
     "data": {
      "text/html": [
       "<div>\n",
       "<style scoped>\n",
       "    .dataframe tbody tr th:only-of-type {\n",
       "        vertical-align: middle;\n",
       "    }\n",
       "\n",
       "    .dataframe tbody tr th {\n",
       "        vertical-align: top;\n",
       "    }\n",
       "\n",
       "    .dataframe thead th {\n",
       "        text-align: right;\n",
       "    }\n",
       "</style>\n",
       "<table border=\"1\" class=\"dataframe\">\n",
       "  <thead>\n",
       "    <tr style=\"text-align: right;\">\n",
       "      <th></th>\n",
       "      <th>Country Name</th>\n",
       "      <th>Country Code</th>\n",
       "      <th>Indicator Name</th>\n",
       "      <th>Indicator Code</th>\n",
       "      <th>1960</th>\n",
       "      <th>1961</th>\n",
       "      <th>1962</th>\n",
       "      <th>1963</th>\n",
       "      <th>1964</th>\n",
       "      <th>1965</th>\n",
       "      <th>...</th>\n",
       "      <th>2011</th>\n",
       "      <th>2012</th>\n",
       "      <th>2013</th>\n",
       "      <th>2014</th>\n",
       "      <th>2015</th>\n",
       "      <th>2016</th>\n",
       "      <th>2017</th>\n",
       "      <th>2018</th>\n",
       "      <th>2019</th>\n",
       "      <th>Unnamed: 64</th>\n",
       "    </tr>\n",
       "  </thead>\n",
       "  <tbody>\n",
       "    <tr>\n",
       "      <th>259</th>\n",
       "      <td>Kosovo</td>\n",
       "      <td>XKX</td>\n",
       "      <td>Military expenditure (current LCU)</td>\n",
       "      <td>MS.MIL.XPND.CN</td>\n",
       "      <td>NaN</td>\n",
       "      <td>NaN</td>\n",
       "      <td>NaN</td>\n",
       "      <td>NaN</td>\n",
       "      <td>NaN</td>\n",
       "      <td>NaN</td>\n",
       "      <td>...</td>\n",
       "      <td>3.666471e+07</td>\n",
       "      <td>3.377049e+07</td>\n",
       "      <td>3.660178e+07</td>\n",
       "      <td>4.038172e+07</td>\n",
       "      <td>4.507072e+07</td>\n",
       "      <td>4.696200e+07</td>\n",
       "      <td>5.103600e+07</td>\n",
       "      <td>5.366700e+07</td>\n",
       "      <td>NaN</td>\n",
       "      <td>NaN</td>\n",
       "    </tr>\n",
       "    <tr>\n",
       "      <th>260</th>\n",
       "      <td>Yemen, Rep.</td>\n",
       "      <td>YEM</td>\n",
       "      <td>Military expenditure (current LCU)</td>\n",
       "      <td>MS.MIL.XPND.CN</td>\n",
       "      <td>NaN</td>\n",
       "      <td>NaN</td>\n",
       "      <td>NaN</td>\n",
       "      <td>NaN</td>\n",
       "      <td>NaN</td>\n",
       "      <td>NaN</td>\n",
       "      <td>...</td>\n",
       "      <td>3.447000e+11</td>\n",
       "      <td>3.470000e+11</td>\n",
       "      <td>3.543000e+11</td>\n",
       "      <td>3.685000e+11</td>\n",
       "      <td>NaN</td>\n",
       "      <td>NaN</td>\n",
       "      <td>NaN</td>\n",
       "      <td>NaN</td>\n",
       "      <td>NaN</td>\n",
       "      <td>NaN</td>\n",
       "    </tr>\n",
       "    <tr>\n",
       "      <th>261</th>\n",
       "      <td>South Africa</td>\n",
       "      <td>ZAF</td>\n",
       "      <td>Military expenditure (current LCU)</td>\n",
       "      <td>MS.MIL.XPND.CN</td>\n",
       "      <td>50000000.0</td>\n",
       "      <td>81250000.0</td>\n",
       "      <td>133000000.0</td>\n",
       "      <td>135000000.0</td>\n",
       "      <td>194000000.0</td>\n",
       "      <td>206750000.0</td>\n",
       "      <td>...</td>\n",
       "      <td>3.335875e+10</td>\n",
       "      <td>3.685940e+10</td>\n",
       "      <td>3.976155e+10</td>\n",
       "      <td>4.224380e+10</td>\n",
       "      <td>4.451422e+10</td>\n",
       "      <td>4.666570e+10</td>\n",
       "      <td>4.854898e+10</td>\n",
       "      <td>4.821218e+10</td>\n",
       "      <td>NaN</td>\n",
       "      <td>NaN</td>\n",
       "    </tr>\n",
       "    <tr>\n",
       "      <th>262</th>\n",
       "      <td>Zambia</td>\n",
       "      <td>ZMB</td>\n",
       "      <td>Military expenditure (current LCU)</td>\n",
       "      <td>MS.MIL.XPND.CN</td>\n",
       "      <td>NaN</td>\n",
       "      <td>NaN</td>\n",
       "      <td>NaN</td>\n",
       "      <td>NaN</td>\n",
       "      <td>NaN</td>\n",
       "      <td>NaN</td>\n",
       "      <td>...</td>\n",
       "      <td>1.502500e+09</td>\n",
       "      <td>1.782500e+09</td>\n",
       "      <td>2.057700e+09</td>\n",
       "      <td>2.729418e+09</td>\n",
       "      <td>3.215100e+09</td>\n",
       "      <td>3.088700e+09</td>\n",
       "      <td>3.204640e+09</td>\n",
       "      <td>3.955630e+09</td>\n",
       "      <td>NaN</td>\n",
       "      <td>NaN</td>\n",
       "    </tr>\n",
       "    <tr>\n",
       "      <th>263</th>\n",
       "      <td>Zimbabwe</td>\n",
       "      <td>ZWE</td>\n",
       "      <td>Military expenditure (current LCU)</td>\n",
       "      <td>MS.MIL.XPND.CN</td>\n",
       "      <td>NaN</td>\n",
       "      <td>NaN</td>\n",
       "      <td>NaN</td>\n",
       "      <td>NaN</td>\n",
       "      <td>NaN</td>\n",
       "      <td>15600000.0</td>\n",
       "      <td>...</td>\n",
       "      <td>1.984380e+08</td>\n",
       "      <td>3.182720e+08</td>\n",
       "      <td>3.567000e+08</td>\n",
       "      <td>3.681000e+08</td>\n",
       "      <td>3.766770e+08</td>\n",
       "      <td>3.580650e+08</td>\n",
       "      <td>3.405220e+08</td>\n",
       "      <td>4.203640e+08</td>\n",
       "      <td>NaN</td>\n",
       "      <td>NaN</td>\n",
       "    </tr>\n",
       "  </tbody>\n",
       "</table>\n",
       "<p>5 rows × 65 columns</p>\n",
       "</div>"
      ],
      "text/plain": [
       "     Country Name Country Code                      Indicator Name  \\\n",
       "259        Kosovo          XKX  Military expenditure (current LCU)   \n",
       "260   Yemen, Rep.          YEM  Military expenditure (current LCU)   \n",
       "261  South Africa          ZAF  Military expenditure (current LCU)   \n",
       "262        Zambia          ZMB  Military expenditure (current LCU)   \n",
       "263      Zimbabwe          ZWE  Military expenditure (current LCU)   \n",
       "\n",
       "     Indicator Code        1960        1961         1962         1963  \\\n",
       "259  MS.MIL.XPND.CN         NaN         NaN          NaN          NaN   \n",
       "260  MS.MIL.XPND.CN         NaN         NaN          NaN          NaN   \n",
       "261  MS.MIL.XPND.CN  50000000.0  81250000.0  133000000.0  135000000.0   \n",
       "262  MS.MIL.XPND.CN         NaN         NaN          NaN          NaN   \n",
       "263  MS.MIL.XPND.CN         NaN         NaN          NaN          NaN   \n",
       "\n",
       "            1964         1965  ...          2011          2012          2013  \\\n",
       "259          NaN          NaN  ...  3.666471e+07  3.377049e+07  3.660178e+07   \n",
       "260          NaN          NaN  ...  3.447000e+11  3.470000e+11  3.543000e+11   \n",
       "261  194000000.0  206750000.0  ...  3.335875e+10  3.685940e+10  3.976155e+10   \n",
       "262          NaN          NaN  ...  1.502500e+09  1.782500e+09  2.057700e+09   \n",
       "263          NaN   15600000.0  ...  1.984380e+08  3.182720e+08  3.567000e+08   \n",
       "\n",
       "             2014          2015          2016          2017          2018  \\\n",
       "259  4.038172e+07  4.507072e+07  4.696200e+07  5.103600e+07  5.366700e+07   \n",
       "260  3.685000e+11           NaN           NaN           NaN           NaN   \n",
       "261  4.224380e+10  4.451422e+10  4.666570e+10  4.854898e+10  4.821218e+10   \n",
       "262  2.729418e+09  3.215100e+09  3.088700e+09  3.204640e+09  3.955630e+09   \n",
       "263  3.681000e+08  3.766770e+08  3.580650e+08  3.405220e+08  4.203640e+08   \n",
       "\n",
       "     2019  Unnamed: 64  \n",
       "259   NaN          NaN  \n",
       "260   NaN          NaN  \n",
       "261   NaN          NaN  \n",
       "262   NaN          NaN  \n",
       "263   NaN          NaN  \n",
       "\n",
       "[5 rows x 65 columns]"
      ]
     },
     "execution_count": 33,
     "metadata": {},
     "output_type": "execute_result"
    }
   ],
   "source": [
    "expenditures.tail()"
   ]
  },
  {
   "cell_type": "code",
   "execution_count": 34,
   "metadata": {},
   "outputs": [
    {
     "data": {
      "text/plain": [
       "RangeIndex(start=0, stop=264, step=1)"
      ]
     },
     "execution_count": 34,
     "metadata": {},
     "output_type": "execute_result"
    }
   ],
   "source": [
    "expenditures.index"
   ]
  },
  {
   "cell_type": "code",
   "execution_count": 35,
   "metadata": {},
   "outputs": [
    {
     "data": {
      "text/plain": [
       "Index(['Country Name', 'Country Code', 'Indicator Name', 'Indicator Code',\n",
       "       '1960', '1961', '1962', '1963', '1964', '1965', '1966', '1967', '1968',\n",
       "       '1969', '1970', '1971', '1972', '1973', '1974', '1975', '1976', '1977',\n",
       "       '1978', '1979', '1980', '1981', '1982', '1983', '1984', '1985', '1986',\n",
       "       '1987', '1988', '1989', '1990', '1991', '1992', '1993', '1994', '1995',\n",
       "       '1996', '1997', '1998', '1999', '2000', '2001', '2002', '2003', '2004',\n",
       "       '2005', '2006', '2007', '2008', '2009', '2010', '2011', '2012', '2013',\n",
       "       '2014', '2015', '2016', '2017', '2018', '2019', 'Unnamed: 64'],\n",
       "      dtype='object')"
      ]
     },
     "execution_count": 35,
     "metadata": {},
     "output_type": "execute_result"
    }
   ],
   "source": [
    "expenditures.columns"
   ]
  },
  {
   "cell_type": "code",
   "execution_count": 36,
   "metadata": {},
   "outputs": [
    {
     "data": {
      "text/plain": [
       "array([['Aruba', 'ABW', 'Military expenditure (current LCU)', ..., nan,\n",
       "        nan, nan],\n",
       "       ['Afghanistan', 'AFG', 'Military expenditure (current LCU)', ...,\n",
       "        14310833333.3333, nan, nan],\n",
       "       ['Angola', 'AGO', 'Military expenditure (current LCU)', ...,\n",
       "        501224000000.0, nan, nan],\n",
       "       ...,\n",
       "       ['South Africa', 'ZAF', 'Military expenditure (current LCU)', ...,\n",
       "        48212175000.0, nan, nan],\n",
       "       ['Zambia', 'ZMB', 'Military expenditure (current LCU)', ...,\n",
       "        3955630000.0, nan, nan],\n",
       "       ['Zimbabwe', 'ZWE', 'Military expenditure (current LCU)', ...,\n",
       "        420364000.0, nan, nan]], dtype=object)"
      ]
     },
     "execution_count": 36,
     "metadata": {},
     "output_type": "execute_result"
    }
   ],
   "source": [
    "expenditures.values"
   ]
  },
  {
   "cell_type": "markdown",
   "metadata": {
    "slideshow": {
     "slide_type": "subslide"
    }
   },
   "source": [
    "## Selection of Data in a `DataFrame`\n",
    "\n",
    "### Selection by Column Name\n"
   ]
  },
  {
   "cell_type": "code",
   "execution_count": 37,
   "metadata": {},
   "outputs": [
    {
     "data": {
      "text/plain": [
       "264"
      ]
     },
     "execution_count": 37,
     "metadata": {},
     "output_type": "execute_result"
    }
   ],
   "source": [
    "len(list(expenditures['Country Name']))"
   ]
  },
  {
   "cell_type": "code",
   "execution_count": 38,
   "metadata": {},
   "outputs": [
    {
     "data": {
      "text/plain": [
       "['ABW',\n",
       " 'AFG',\n",
       " 'AGO',\n",
       " 'ALB',\n",
       " 'AND',\n",
       " 'ARB',\n",
       " 'ARE',\n",
       " 'ARG',\n",
       " 'ARM',\n",
       " 'ASM',\n",
       " 'ATG',\n",
       " 'AUS',\n",
       " 'AUT',\n",
       " 'AZE',\n",
       " 'BDI',\n",
       " 'BEL',\n",
       " 'BEN',\n",
       " 'BFA',\n",
       " 'BGD',\n",
       " 'BGR',\n",
       " 'BHR',\n",
       " 'BHS',\n",
       " 'BIH',\n",
       " 'BLR',\n",
       " 'BLZ',\n",
       " 'BMU',\n",
       " 'BOL',\n",
       " 'BRA',\n",
       " 'BRB',\n",
       " 'BRN',\n",
       " 'BTN',\n",
       " 'BWA',\n",
       " 'CAF',\n",
       " 'CAN',\n",
       " 'CEB',\n",
       " 'CHE',\n",
       " 'CHI',\n",
       " 'CHL',\n",
       " 'CHN',\n",
       " 'CIV',\n",
       " 'CMR',\n",
       " 'COD',\n",
       " 'COG',\n",
       " 'COL',\n",
       " 'COM',\n",
       " 'CPV',\n",
       " 'CRI',\n",
       " 'CSS',\n",
       " 'CUB',\n",
       " 'CUW',\n",
       " 'CYM',\n",
       " 'CYP',\n",
       " 'CZE',\n",
       " 'DEU',\n",
       " 'DJI',\n",
       " 'DMA',\n",
       " 'DNK',\n",
       " 'DOM',\n",
       " 'DZA',\n",
       " 'EAP',\n",
       " 'EAR',\n",
       " 'EAS',\n",
       " 'ECA',\n",
       " 'ECS',\n",
       " 'ECU',\n",
       " 'EGY',\n",
       " 'EMU',\n",
       " 'ERI',\n",
       " 'ESP',\n",
       " 'EST',\n",
       " 'ETH',\n",
       " 'EUU',\n",
       " 'FCS',\n",
       " 'FIN',\n",
       " 'FJI',\n",
       " 'FRA',\n",
       " 'FRO',\n",
       " 'FSM',\n",
       " 'GAB',\n",
       " 'GBR',\n",
       " 'GEO',\n",
       " 'GHA',\n",
       " 'GIB',\n",
       " 'GIN',\n",
       " 'GMB',\n",
       " 'GNB',\n",
       " 'GNQ',\n",
       " 'GRC',\n",
       " 'GRD',\n",
       " 'GRL',\n",
       " 'GTM',\n",
       " 'GUM',\n",
       " 'GUY',\n",
       " 'HIC',\n",
       " 'HKG',\n",
       " 'HND',\n",
       " 'HPC',\n",
       " 'HRV',\n",
       " 'HTI',\n",
       " 'HUN',\n",
       " 'IBD',\n",
       " 'IBT',\n",
       " 'IDA',\n",
       " 'IDB',\n",
       " 'IDN',\n",
       " 'IDX',\n",
       " 'IMN',\n",
       " 'IND',\n",
       " 'INX',\n",
       " 'IRL',\n",
       " 'IRN',\n",
       " 'IRQ',\n",
       " 'ISL',\n",
       " 'ISR',\n",
       " 'ITA',\n",
       " 'JAM',\n",
       " 'JOR',\n",
       " 'JPN',\n",
       " 'KAZ',\n",
       " 'KEN',\n",
       " 'KGZ',\n",
       " 'KHM',\n",
       " 'KIR',\n",
       " 'KNA',\n",
       " 'KOR',\n",
       " 'KWT',\n",
       " 'LAC',\n",
       " 'LAO',\n",
       " 'LBN',\n",
       " 'LBR',\n",
       " 'LBY',\n",
       " 'LCA',\n",
       " 'LCN',\n",
       " 'LDC',\n",
       " 'LIC',\n",
       " 'LIE',\n",
       " 'LKA',\n",
       " 'LMC',\n",
       " 'LMY',\n",
       " 'LSO',\n",
       " 'LTE',\n",
       " 'LTU',\n",
       " 'LUX',\n",
       " 'LVA',\n",
       " 'MAC',\n",
       " 'MAF',\n",
       " 'MAR',\n",
       " 'MCO',\n",
       " 'MDA',\n",
       " 'MDG',\n",
       " 'MDV',\n",
       " 'MEA',\n",
       " 'MEX',\n",
       " 'MHL',\n",
       " 'MIC',\n",
       " 'MKD',\n",
       " 'MLI',\n",
       " 'MLT',\n",
       " 'MMR',\n",
       " 'MNA',\n",
       " 'MNE',\n",
       " 'MNG',\n",
       " 'MNP',\n",
       " 'MOZ',\n",
       " 'MRT',\n",
       " 'MUS',\n",
       " 'MWI',\n",
       " 'MYS',\n",
       " 'NAC',\n",
       " 'NAM',\n",
       " 'NCL',\n",
       " 'NER',\n",
       " 'NGA',\n",
       " 'NIC',\n",
       " 'NLD',\n",
       " 'NOR',\n",
       " 'NPL',\n",
       " 'NRU',\n",
       " 'NZL',\n",
       " 'OED',\n",
       " 'OMN',\n",
       " 'OSS',\n",
       " 'PAK',\n",
       " 'PAN',\n",
       " 'PER',\n",
       " 'PHL',\n",
       " 'PLW',\n",
       " 'PNG',\n",
       " 'POL',\n",
       " 'PRE',\n",
       " 'PRI',\n",
       " 'PRK',\n",
       " 'PRT',\n",
       " 'PRY',\n",
       " 'PSE',\n",
       " 'PSS',\n",
       " 'PST',\n",
       " 'PYF',\n",
       " 'QAT',\n",
       " 'ROU',\n",
       " 'RUS',\n",
       " 'RWA',\n",
       " 'SAS',\n",
       " 'SAU',\n",
       " 'SDN',\n",
       " 'SEN',\n",
       " 'SGP',\n",
       " 'SLB',\n",
       " 'SLE',\n",
       " 'SLV',\n",
       " 'SMR',\n",
       " 'SOM',\n",
       " 'SRB',\n",
       " 'SSA',\n",
       " 'SSD',\n",
       " 'SSF',\n",
       " 'SST',\n",
       " 'STP',\n",
       " 'SUR',\n",
       " 'SVK',\n",
       " 'SVN',\n",
       " 'SWE',\n",
       " 'SWZ',\n",
       " 'SXM',\n",
       " 'SYC',\n",
       " 'SYR',\n",
       " 'TCA',\n",
       " 'TCD',\n",
       " 'TEA',\n",
       " 'TEC',\n",
       " 'TGO',\n",
       " 'THA',\n",
       " 'TJK',\n",
       " 'TKM',\n",
       " 'TLA',\n",
       " 'TLS',\n",
       " 'TMN',\n",
       " 'TON',\n",
       " 'TSA',\n",
       " 'TSS',\n",
       " 'TTO',\n",
       " 'TUN',\n",
       " 'TUR',\n",
       " 'TUV',\n",
       " 'TZA',\n",
       " 'UGA',\n",
       " 'UKR',\n",
       " 'UMC',\n",
       " 'URY',\n",
       " 'USA',\n",
       " 'UZB',\n",
       " 'VCT',\n",
       " 'VEN',\n",
       " 'VGB',\n",
       " 'VIR',\n",
       " 'VNM',\n",
       " 'VUT',\n",
       " 'WLD',\n",
       " 'WSM',\n",
       " 'XKX',\n",
       " 'YEM',\n",
       " 'ZAF',\n",
       " 'ZMB',\n",
       " 'ZWE']"
      ]
     },
     "execution_count": 38,
     "metadata": {},
     "output_type": "execute_result"
    }
   ],
   "source": [
    "list(expenditures['Country Code'])"
   ]
  },
  {
   "cell_type": "markdown",
   "metadata": {
    "slideshow": {
     "slide_type": "subslide"
    }
   },
   "source": [
    "### Selection by Indexes\n",
    "\n",
    "In the following we index the third row directly."
   ]
  },
  {
   "cell_type": "code",
   "execution_count": 39,
   "metadata": {},
   "outputs": [
    {
     "name": "stdout",
     "output_type": "stream",
     "text": [
      "Country Name                                 Albania\n",
      "Country Code                                     ALB\n",
      "Indicator Name    Military expenditure (current LCU)\n",
      "Indicator Code                        MS.MIL.XPND.CN\n",
      "1960                                             NaN\n",
      "                                 ...                \n",
      "2016                                       1.625e+10\n",
      "2017                                      1.7199e+10\n",
      "2018                                      1.9492e+10\n",
      "2019                                             NaN\n",
      "Unnamed: 64                                      NaN\n",
      "Name: 3, Length: 65, dtype: object\n"
     ]
    }
   ],
   "source": [
    "# get row 3\n",
    "albania = expenditures.iloc[3]\n",
    "print(albania)"
   ]
  },
  {
   "cell_type": "code",
   "execution_count": 40,
   "metadata": {
    "scrolled": true
   },
   "outputs": [
    {
     "data": {
      "text/plain": [
       "Country Name                                 Albania\n",
       "Country Code                                     ALB\n",
       "Indicator Name    Military expenditure (current LCU)\n",
       "Indicator Code                        MS.MIL.XPND.CN\n",
       "1960                                             NaN\n",
       "                                 ...                \n",
       "2016                                       1.625e+10\n",
       "2017                                      1.7199e+10\n",
       "2018                                      1.9492e+10\n",
       "2019                                             NaN\n",
       "Unnamed: 64                                      NaN\n",
       "Name: 3, Length: 65, dtype: object"
      ]
     },
     "execution_count": 40,
     "metadata": {},
     "output_type": "execute_result"
    }
   ],
   "source": [
    "# using .loc to extract by label (row or column)\n",
    "expenditures.loc[3]"
   ]
  },
  {
   "cell_type": "code",
   "execution_count": 41,
   "metadata": {},
   "outputs": [
    {
     "data": {
      "text/html": [
       "<div>\n",
       "<style scoped>\n",
       "    .dataframe tbody tr th:only-of-type {\n",
       "        vertical-align: middle;\n",
       "    }\n",
       "\n",
       "    .dataframe tbody tr th {\n",
       "        vertical-align: top;\n",
       "    }\n",
       "\n",
       "    .dataframe thead th {\n",
       "        text-align: right;\n",
       "    }\n",
       "</style>\n",
       "<table border=\"1\" class=\"dataframe\">\n",
       "  <thead>\n",
       "    <tr style=\"text-align: right;\">\n",
       "      <th></th>\n",
       "      <th>Country Name</th>\n",
       "      <th>Country Code</th>\n",
       "      <th>Indicator Name</th>\n",
       "      <th>Indicator Code</th>\n",
       "      <th>1960</th>\n",
       "      <th>1961</th>\n",
       "      <th>1962</th>\n",
       "      <th>1963</th>\n",
       "      <th>1964</th>\n",
       "      <th>1965</th>\n",
       "      <th>...</th>\n",
       "      <th>2011</th>\n",
       "      <th>2012</th>\n",
       "      <th>2013</th>\n",
       "      <th>2014</th>\n",
       "      <th>2015</th>\n",
       "      <th>2016</th>\n",
       "      <th>2017</th>\n",
       "      <th>2018</th>\n",
       "      <th>2019</th>\n",
       "      <th>Unnamed: 64</th>\n",
       "    </tr>\n",
       "  </thead>\n",
       "  <tbody>\n",
       "    <tr>\n",
       "      <th>3</th>\n",
       "      <td>Albania</td>\n",
       "      <td>ALB</td>\n",
       "      <td>Military expenditure (current LCU)</td>\n",
       "      <td>MS.MIL.XPND.CN</td>\n",
       "      <td>NaN</td>\n",
       "      <td>NaN</td>\n",
       "      <td>NaN</td>\n",
       "      <td>NaN</td>\n",
       "      <td>NaN</td>\n",
       "      <td>NaN</td>\n",
       "      <td>...</td>\n",
       "      <td>1.987700e+10</td>\n",
       "      <td>1.982000e+10</td>\n",
       "      <td>1.902200e+10</td>\n",
       "      <td>1.878800e+10</td>\n",
       "      <td>1.667100e+10</td>\n",
       "      <td>1.625000e+10</td>\n",
       "      <td>1.719900e+10</td>\n",
       "      <td>1.949200e+10</td>\n",
       "      <td>NaN</td>\n",
       "      <td>NaN</td>\n",
       "    </tr>\n",
       "    <tr>\n",
       "      <th>4</th>\n",
       "      <td>Andorra</td>\n",
       "      <td>AND</td>\n",
       "      <td>Military expenditure (current LCU)</td>\n",
       "      <td>MS.MIL.XPND.CN</td>\n",
       "      <td>NaN</td>\n",
       "      <td>NaN</td>\n",
       "      <td>NaN</td>\n",
       "      <td>NaN</td>\n",
       "      <td>NaN</td>\n",
       "      <td>NaN</td>\n",
       "      <td>...</td>\n",
       "      <td>NaN</td>\n",
       "      <td>NaN</td>\n",
       "      <td>NaN</td>\n",
       "      <td>NaN</td>\n",
       "      <td>NaN</td>\n",
       "      <td>NaN</td>\n",
       "      <td>NaN</td>\n",
       "      <td>NaN</td>\n",
       "      <td>NaN</td>\n",
       "      <td>NaN</td>\n",
       "    </tr>\n",
       "  </tbody>\n",
       "</table>\n",
       "<p>2 rows × 65 columns</p>\n",
       "</div>"
      ],
      "text/plain": [
       "  Country Name Country Code                      Indicator Name  \\\n",
       "3      Albania          ALB  Military expenditure (current LCU)   \n",
       "4      Andorra          AND  Military expenditure (current LCU)   \n",
       "\n",
       "   Indicator Code  1960  1961  1962  1963  1964  1965  ...          2011  \\\n",
       "3  MS.MIL.XPND.CN   NaN   NaN   NaN   NaN   NaN   NaN  ...  1.987700e+10   \n",
       "4  MS.MIL.XPND.CN   NaN   NaN   NaN   NaN   NaN   NaN  ...           NaN   \n",
       "\n",
       "           2012          2013          2014          2015          2016  \\\n",
       "3  1.982000e+10  1.902200e+10  1.878800e+10  1.667100e+10  1.625000e+10   \n",
       "4           NaN           NaN           NaN           NaN           NaN   \n",
       "\n",
       "           2017          2018  2019  Unnamed: 64  \n",
       "3  1.719900e+10  1.949200e+10   NaN          NaN  \n",
       "4           NaN           NaN   NaN          NaN  \n",
       "\n",
       "[2 rows x 65 columns]"
      ]
     },
     "execution_count": 41,
     "metadata": {},
     "output_type": "execute_result"
    }
   ],
   "source": [
    "expenditures.iloc[3:5]"
   ]
  },
  {
   "cell_type": "code",
   "execution_count": 42,
   "metadata": {
    "scrolled": true,
    "slideshow": {
     "slide_type": "subslide"
    }
   },
   "outputs": [
    {
     "data": {
      "text/html": [
       "<div>\n",
       "<style scoped>\n",
       "    .dataframe tbody tr th:only-of-type {\n",
       "        vertical-align: middle;\n",
       "    }\n",
       "\n",
       "    .dataframe tbody tr th {\n",
       "        vertical-align: top;\n",
       "    }\n",
       "\n",
       "    .dataframe thead th {\n",
       "        text-align: right;\n",
       "    }\n",
       "</style>\n",
       "<table border=\"1\" class=\"dataframe\">\n",
       "  <thead>\n",
       "    <tr style=\"text-align: right;\">\n",
       "      <th></th>\n",
       "      <th>1960</th>\n",
       "      <th>1961</th>\n",
       "      <th>1962</th>\n",
       "      <th>1963</th>\n",
       "      <th>1964</th>\n",
       "      <th>1965</th>\n",
       "      <th>1966</th>\n",
       "      <th>1967</th>\n",
       "      <th>1968</th>\n",
       "      <th>1969</th>\n",
       "      <th>...</th>\n",
       "      <th>2010</th>\n",
       "      <th>2011</th>\n",
       "      <th>2012</th>\n",
       "      <th>2013</th>\n",
       "      <th>2014</th>\n",
       "      <th>2015</th>\n",
       "      <th>2016</th>\n",
       "      <th>2017</th>\n",
       "      <th>2018</th>\n",
       "      <th>2019</th>\n",
       "    </tr>\n",
       "  </thead>\n",
       "  <tbody>\n",
       "    <tr>\n",
       "      <th>3</th>\n",
       "      <td>NaN</td>\n",
       "      <td>NaN</td>\n",
       "      <td>NaN</td>\n",
       "      <td>NaN</td>\n",
       "      <td>NaN</td>\n",
       "      <td>NaN</td>\n",
       "      <td>NaN</td>\n",
       "      <td>NaN</td>\n",
       "      <td>NaN</td>\n",
       "      <td>NaN</td>\n",
       "      <td>...</td>\n",
       "      <td>1.932100e+10</td>\n",
       "      <td>1.987700e+10</td>\n",
       "      <td>1.982000e+10</td>\n",
       "      <td>1.902200e+10</td>\n",
       "      <td>1.878800e+10</td>\n",
       "      <td>1.667100e+10</td>\n",
       "      <td>1.625000e+10</td>\n",
       "      <td>1.719900e+10</td>\n",
       "      <td>1.949200e+10</td>\n",
       "      <td>NaN</td>\n",
       "    </tr>\n",
       "    <tr>\n",
       "      <th>4</th>\n",
       "      <td>NaN</td>\n",
       "      <td>NaN</td>\n",
       "      <td>NaN</td>\n",
       "      <td>NaN</td>\n",
       "      <td>NaN</td>\n",
       "      <td>NaN</td>\n",
       "      <td>NaN</td>\n",
       "      <td>NaN</td>\n",
       "      <td>NaN</td>\n",
       "      <td>NaN</td>\n",
       "      <td>...</td>\n",
       "      <td>NaN</td>\n",
       "      <td>NaN</td>\n",
       "      <td>NaN</td>\n",
       "      <td>NaN</td>\n",
       "      <td>NaN</td>\n",
       "      <td>NaN</td>\n",
       "      <td>NaN</td>\n",
       "      <td>NaN</td>\n",
       "      <td>NaN</td>\n",
       "      <td>NaN</td>\n",
       "    </tr>\n",
       "  </tbody>\n",
       "</table>\n",
       "<p>2 rows × 60 columns</p>\n",
       "</div>"
      ],
      "text/plain": [
       "   1960  1961  1962  1963  1964  1965  1966  1967  1968  1969  ...  \\\n",
       "3   NaN   NaN   NaN   NaN   NaN   NaN   NaN   NaN   NaN   NaN  ...   \n",
       "4   NaN   NaN   NaN   NaN   NaN   NaN   NaN   NaN   NaN   NaN  ...   \n",
       "\n",
       "           2010          2011          2012          2013          2014  \\\n",
       "3  1.932100e+10  1.987700e+10  1.982000e+10  1.902200e+10  1.878800e+10   \n",
       "4           NaN           NaN           NaN           NaN           NaN   \n",
       "\n",
       "           2015          2016          2017          2018  2019  \n",
       "3  1.667100e+10  1.625000e+10  1.719900e+10  1.949200e+10   NaN  \n",
       "4           NaN           NaN           NaN           NaN   NaN  \n",
       "\n",
       "[2 rows x 60 columns]"
      ]
     },
     "execution_count": 42,
     "metadata": {},
     "output_type": "execute_result"
    }
   ],
   "source": [
    "# extract sub set of [rows,columns]\n",
    "expenditures.iloc[3:5, 4:-1]"
   ]
  },
  {
   "cell_type": "markdown",
   "metadata": {
    "slideshow": {
     "slide_type": "subslide"
    }
   },
   "source": [
    "## Boolean Indexing\n",
    "\n",
    "Similar to NumPy, you can use boolean arrays for indexing. That is, you can use boolean expressions directly for indexing.\n",
    "\n",
    "In the following we assign `expenditures` to `df`as the latter is shorter."
   ]
  },
  {
   "cell_type": "code",
   "execution_count": 43,
   "metadata": {},
   "outputs": [],
   "source": [
    "df = expenditures"
   ]
  },
  {
   "cell_type": "markdown",
   "metadata": {
    "slideshow": {
     "slide_type": "subslide"
    }
   },
   "source": [
    "Using the `isin()` method for filtering:"
   ]
  },
  {
   "cell_type": "code",
   "execution_count": 44,
   "metadata": {},
   "outputs": [
    {
     "data": {
      "text/html": [
       "<div>\n",
       "<style scoped>\n",
       "    .dataframe tbody tr th:only-of-type {\n",
       "        vertical-align: middle;\n",
       "    }\n",
       "\n",
       "    .dataframe tbody tr th {\n",
       "        vertical-align: top;\n",
       "    }\n",
       "\n",
       "    .dataframe thead th {\n",
       "        text-align: right;\n",
       "    }\n",
       "</style>\n",
       "<table border=\"1\" class=\"dataframe\">\n",
       "  <thead>\n",
       "    <tr style=\"text-align: right;\">\n",
       "      <th></th>\n",
       "      <th>Country Name</th>\n",
       "      <th>Country Code</th>\n",
       "      <th>Indicator Name</th>\n",
       "      <th>Indicator Code</th>\n",
       "      <th>1960</th>\n",
       "      <th>1961</th>\n",
       "      <th>1962</th>\n",
       "      <th>1963</th>\n",
       "      <th>1964</th>\n",
       "      <th>1965</th>\n",
       "      <th>...</th>\n",
       "      <th>2011</th>\n",
       "      <th>2012</th>\n",
       "      <th>2013</th>\n",
       "      <th>2014</th>\n",
       "      <th>2015</th>\n",
       "      <th>2016</th>\n",
       "      <th>2017</th>\n",
       "      <th>2018</th>\n",
       "      <th>2019</th>\n",
       "      <th>Unnamed: 64</th>\n",
       "    </tr>\n",
       "  </thead>\n",
       "  <tbody>\n",
       "    <tr>\n",
       "      <th>38</th>\n",
       "      <td>China</td>\n",
       "      <td>CHN</td>\n",
       "      <td>Military expenditure (current LCU)</td>\n",
       "      <td>MS.MIL.XPND.CN</td>\n",
       "      <td>NaN</td>\n",
       "      <td>NaN</td>\n",
       "      <td>NaN</td>\n",
       "      <td>NaN</td>\n",
       "      <td>NaN</td>\n",
       "      <td>NaN</td>\n",
       "      <td>...</td>\n",
       "      <td>8.914702e+11</td>\n",
       "      <td>9.935000e+11</td>\n",
       "      <td>1.114496e+12</td>\n",
       "      <td>1.233430e+12</td>\n",
       "      <td>1.333262e+12</td>\n",
       "      <td>1.436617e+12</td>\n",
       "      <td>1.541448e+12</td>\n",
       "      <td>1.654051e+12</td>\n",
       "      <td>NaN</td>\n",
       "      <td>NaN</td>\n",
       "    </tr>\n",
       "    <tr>\n",
       "      <th>56</th>\n",
       "      <td>Denmark</td>\n",
       "      <td>DNK</td>\n",
       "      <td>Military expenditure (current LCU)</td>\n",
       "      <td>MS.MIL.XPND.CN</td>\n",
       "      <td>1.113000e+09</td>\n",
       "      <td>1.180000e+09</td>\n",
       "      <td>1.551000e+09</td>\n",
       "      <td>1.651000e+09</td>\n",
       "      <td>1.764000e+09</td>\n",
       "      <td>1.974000e+09</td>\n",
       "      <td>...</td>\n",
       "      <td>2.425900e+10</td>\n",
       "      <td>2.561700e+10</td>\n",
       "      <td>2.368200e+10</td>\n",
       "      <td>2.276900e+10</td>\n",
       "      <td>2.263300e+10</td>\n",
       "      <td>2.419000e+10</td>\n",
       "      <td>2.496100e+10</td>\n",
       "      <td>2.670000e+10</td>\n",
       "      <td>NaN</td>\n",
       "      <td>NaN</td>\n",
       "    </tr>\n",
       "    <tr>\n",
       "      <th>200</th>\n",
       "      <td>Russian Federation</td>\n",
       "      <td>RUS</td>\n",
       "      <td>Military expenditure (current LCU)</td>\n",
       "      <td>MS.MIL.XPND.CN</td>\n",
       "      <td>NaN</td>\n",
       "      <td>NaN</td>\n",
       "      <td>NaN</td>\n",
       "      <td>NaN</td>\n",
       "      <td>NaN</td>\n",
       "      <td>NaN</td>\n",
       "      <td>...</td>\n",
       "      <td>2.063740e+12</td>\n",
       "      <td>2.512500e+12</td>\n",
       "      <td>2.812900e+12</td>\n",
       "      <td>3.250500e+12</td>\n",
       "      <td>4.047400e+12</td>\n",
       "      <td>4.644800e+12</td>\n",
       "      <td>3.879916e+12</td>\n",
       "      <td>3.849569e+12</td>\n",
       "      <td>NaN</td>\n",
       "      <td>NaN</td>\n",
       "    </tr>\n",
       "    <tr>\n",
       "      <th>249</th>\n",
       "      <td>United States</td>\n",
       "      <td>USA</td>\n",
       "      <td>Military expenditure (current LCU)</td>\n",
       "      <td>MS.MIL.XPND.CN</td>\n",
       "      <td>4.538000e+10</td>\n",
       "      <td>4.780800e+10</td>\n",
       "      <td>5.238100e+10</td>\n",
       "      <td>5.229500e+10</td>\n",
       "      <td>5.121300e+10</td>\n",
       "      <td>5.182700e+10</td>\n",
       "      <td>...</td>\n",
       "      <td>7.113380e+11</td>\n",
       "      <td>6.847800e+11</td>\n",
       "      <td>6.397040e+11</td>\n",
       "      <td>6.099140e+11</td>\n",
       "      <td>5.961046e+11</td>\n",
       "      <td>6.001064e+11</td>\n",
       "      <td>6.058029e+11</td>\n",
       "      <td>6.487983e+11</td>\n",
       "      <td>NaN</td>\n",
       "      <td>NaN</td>\n",
       "    </tr>\n",
       "  </tbody>\n",
       "</table>\n",
       "<p>4 rows × 65 columns</p>\n",
       "</div>"
      ],
      "text/plain": [
       "           Country Name Country Code                      Indicator Name  \\\n",
       "38                China          CHN  Military expenditure (current LCU)   \n",
       "56              Denmark          DNK  Military expenditure (current LCU)   \n",
       "200  Russian Federation          RUS  Military expenditure (current LCU)   \n",
       "249       United States          USA  Military expenditure (current LCU)   \n",
       "\n",
       "     Indicator Code          1960          1961          1962          1963  \\\n",
       "38   MS.MIL.XPND.CN           NaN           NaN           NaN           NaN   \n",
       "56   MS.MIL.XPND.CN  1.113000e+09  1.180000e+09  1.551000e+09  1.651000e+09   \n",
       "200  MS.MIL.XPND.CN           NaN           NaN           NaN           NaN   \n",
       "249  MS.MIL.XPND.CN  4.538000e+10  4.780800e+10  5.238100e+10  5.229500e+10   \n",
       "\n",
       "             1964          1965  ...          2011          2012  \\\n",
       "38            NaN           NaN  ...  8.914702e+11  9.935000e+11   \n",
       "56   1.764000e+09  1.974000e+09  ...  2.425900e+10  2.561700e+10   \n",
       "200           NaN           NaN  ...  2.063740e+12  2.512500e+12   \n",
       "249  5.121300e+10  5.182700e+10  ...  7.113380e+11  6.847800e+11   \n",
       "\n",
       "             2013          2014          2015          2016          2017  \\\n",
       "38   1.114496e+12  1.233430e+12  1.333262e+12  1.436617e+12  1.541448e+12   \n",
       "56   2.368200e+10  2.276900e+10  2.263300e+10  2.419000e+10  2.496100e+10   \n",
       "200  2.812900e+12  3.250500e+12  4.047400e+12  4.644800e+12  3.879916e+12   \n",
       "249  6.397040e+11  6.099140e+11  5.961046e+11  6.001064e+11  6.058029e+11   \n",
       "\n",
       "             2018  2019  Unnamed: 64  \n",
       "38   1.654051e+12   NaN          NaN  \n",
       "56   2.670000e+10   NaN          NaN  \n",
       "200  3.849569e+12   NaN          NaN  \n",
       "249  6.487983e+11   NaN          NaN  \n",
       "\n",
       "[4 rows x 65 columns]"
      ]
     },
     "execution_count": 44,
     "metadata": {},
     "output_type": "execute_result"
    }
   ],
   "source": [
    "df[df['Country Name'].isin(['United States', 'China', 'Denmark', 'Russian Federation'])]"
   ]
  },
  {
   "cell_type": "markdown",
   "metadata": {
    "slideshow": {
     "slide_type": "subslide"
    }
   },
   "source": [
    "Here, we create a `DataFrame` of all country codes for the four countries, which we want to study further in the following."
   ]
  },
  {
   "cell_type": "code",
   "execution_count": 45,
   "metadata": {},
   "outputs": [
    {
     "data": {
      "text/plain": [
       "38     CHN\n",
       "56     DNK\n",
       "200    RUS\n",
       "249    USA\n",
       "Name: Country Code, dtype: object"
      ]
     },
     "execution_count": 45,
     "metadata": {},
     "output_type": "execute_result"
    }
   ],
   "source": [
    "# get indices for the 4 countries in question:\n",
    "c_code_df = df[df['Country Name'].isin(['United States', 'China', \n",
    "                                        'Denmark', 'Russian Federation'])]['Country Code']\n",
    "c_code_df"
   ]
  },
  {
   "cell_type": "markdown",
   "metadata": {
    "slideshow": {
     "slide_type": "subslide"
    }
   },
   "source": [
    "We cannot plot the time series of military expenditures directly in a meaningful way as we would like to have the years on the y-axis but in the selection of our `DataFrame`, the year numbers are column names. Consequently, we have to transpose our `DataFrame`, see `T` function.\n",
    "\n",
    "Note, that the expenditures are given in `LUC` in the World Bank data set. That is, in currency of the corresponding country."
   ]
  },
  {
   "cell_type": "code",
   "execution_count": 46,
   "metadata": {},
   "outputs": [
    {
     "data": {
      "text/plain": [
       "<matplotlib.axes._subplots.AxesSubplot at 0x7f1a10c90d90>"
      ]
     },
     "execution_count": 46,
     "metadata": {},
     "output_type": "execute_result"
    },
    {
     "data": {
      "image/png": "[encoded data removed]",
      "text/plain": [
       "<Figure size 432x288 with 1 Axes>"
      ]
     },
     "metadata": {
      "needs_background": "light"
     },
     "output_type": "display_data"
    }
   ],
   "source": [
    "import matplotlib.pyplot as plt\n",
    "\n",
    "# get only the 4 countries from df and only cols: 31-end (only 1987 and up)\n",
    "#print(df.iloc[c_code_df.index,31:-1])\n",
    "ts_df = df.iloc[c_code_df.index, 31:-1].T\n",
    "ts_df = ts_df.rename(columns=dict(c_code_df))\n",
    "ts_df\n",
    "ts_df.plot()"
   ]
  },
  {
   "cell_type": "markdown",
   "metadata": {
    "slideshow": {
     "slide_type": "subslide"
    }
   },
   "source": [
    "Since this plot may be a bit misleading, we will 'normalize' all expeditures to Euro, so that they are better comparible."
   ]
  },
  {
   "cell_type": "code",
   "execution_count": 47,
   "metadata": {
    "slideshow": {
     "slide_type": "subslide"
    }
   },
   "outputs": [
    {
     "data": {
      "text/plain": [
       "'<?xml version=\"1.0\" encoding=\"UTF-8\"?>\\n<gesmes:Envelope xmlns:gesmes=\"http://www.gesmes.org/xml/2002-08-01\" xmlns=\"http://www.ecb.int/vocabulary/2002-08-01/eurofxref\">\\n\\t<gesmes:subject>Reference rates</gesmes:subject>\\n\\t<gesmes:Sender>\\n\\t\\t<gesmes:name>European Central Bank</gesmes:name>\\n\\t</gesmes:Sender>\\n\\t<Cube>\\n\\t\\t<Cube time=\\'2020-09-18\\'>\\n\\t\\t\\t<Cube currency=\\'USD\\' rate=\\'1.1833\\'/>\\n\\t\\t\\t<Cube currency=\\'JPY\\' rate=\\'123.49\\'/>\\n\\t\\t\\t<Cube currency=\\'BGN\\' rate=\\'1.9558\\'/>\\n\\t\\t\\t<Cube currency=\\'CZK\\' rate=\\'26.727\\'/>\\n\\t\\t\\t<Cube currency=\\'DKK\\' rate=\\'7.4403\\'/>\\n\\t\\t\\t<Cube currency=\\'GBP\\' rate=\\'0.91318\\'/>\\n\\t\\t\\t<Cube currency=\\'HUF\\' rate=\\'360.78\\'/>\\n\\t\\t\\t<Cube currency=\\'PLN\\' rate=\\'4.4602\\'/>\\n\\t\\t\\t<Cube currency=\\'RON\\' rate=\\'4.8580\\'/>\\n\\t\\t\\t<Cube currency=\\'SEK\\' rate=\\'10.3990\\'/>\\n\\t\\t\\t<Cube currency=\\'CHF\\' rate=\\'1.0776\\'/>\\n\\t\\t\\t<Cube currency=\\'ISK\\' rate=\\'160.80\\'/>\\n\\t\\t\\t<Cube currency=\\'NOK\\' rate=\\'10.7538\\'/>\\n\\t\\t\\t<Cube currency=\\'HRK\\' rate=\\'7.5415\\'/>\\n\\t\\t\\t<Cube currency=\\'RUB\\' rate=\\'89.1439\\'/>\\n\\t\\t\\t<Cube currency=\\'TRY\\' rate=\\'8.9600\\'/>\\n\\t\\t\\t<Cube currency=\\'AUD\\' rate=\\'1.6242\\'/>\\n\\t\\t\\t<Cube currency=\\'BRL\\' rate=\\'6.2176\\'/>\\n\\t\\t\\t<Cube currency=\\'CAD\\' rate=\\'1.5601\\'/>\\n\\t\\t\\t<Cube currency=\\'CNY\\' rate=\\'8.0146\\'/>\\n\\t\\t\\t<Cube currency=\\'HKD\\' rate=\\'9.1707\\'/>\\n\\t\\t\\t<Cube currency=\\'IDR\\' rate=\\'17435.93\\'/>\\n\\t\\t\\t<Cube currency=\\'ILS\\' rate=\\'4.0511\\'/>\\n\\t\\t\\t<Cube currency=\\'INR\\' rate=\\'87.0140\\'/>\\n\\t\\t\\t<Cube currency=\\'KRW\\' rate=\\'1375.96\\'/>\\n\\t\\t\\t<Cube currency=\\'MXN\\' rate=\\'24.7344\\'/>\\n\\t\\t\\t<Cube currency=\\'MYR\\' rate=\\'4.8687\\'/>\\n\\t\\t\\t<Cube currency=\\'NZD\\' rate=\\'1.7489\\'/>\\n\\t\\t\\t<Cube currency=\\'PHP\\' rate=\\'57.306\\'/>\\n\\t\\t\\t<Cube currency=\\'SGD\\' rate=\\'1.6082\\'/>\\n\\t\\t\\t<Cube currency=\\'THB\\' rate=\\'36.889\\'/>\\n\\t\\t\\t<Cube currency=\\'ZAR\\' rate=\\'19.1520\\'/>\\n\\t\\t</Cube>\\n\\t</Cube>\\n</gesmes:Envelope>'"
      ]
     },
     "execution_count": 47,
     "metadata": {},
     "output_type": "execute_result"
    }
   ],
   "source": [
    "import requests\n",
    "\n",
    "\n",
    "# http://www.ecb.europa.eu/stats/policy_and_exchange_rates/euro_reference_exchange_rates/html/index.en.html#dev\n",
    "response = requests.get('http://www.ecb.europa.eu/stats/eurofxref/eurofxref-daily.xml')\n",
    "response.text"
   ]
  },
  {
   "cell_type": "code",
   "execution_count": 48,
   "metadata": {},
   "outputs": [
    {
     "name": "stdout",
     "output_type": "stream",
     "text": [
      "<cube>\n",
      "<cube time=\"2020-09-18\">\n",
      "<cube currency=\"USD\" rate=\"1.1833\"></cube>\n",
      "<cube currency=\"JPY\" rate=\"123.49\"></cube>\n",
      "<cube currency=\"BGN\" rate=\"1.9558\"></cube>\n",
      "<cube currency=\"CZK\" rate=\"26.727\"></cube>\n",
      "<cube currency=\"DKK\" rate=\"7.4403\"></cube>\n",
      "<cube currency=\"GBP\" rate=\"0.91318\"></cube>\n",
      "<cube currency=\"HUF\" rate=\"360.78\"></cube>\n",
      "<cube currency=\"PLN\" rate=\"4.4602\"></cube>\n",
      "<cube currency=\"RON\" rate=\"4.8580\"></cube>\n",
      "<cube currency=\"SEK\" rate=\"10.3990\"></cube>\n",
      "<cube currency=\"CHF\" rate=\"1.0776\"></cube>\n",
      "<cube currency=\"ISK\" rate=\"160.80\"></cube>\n",
      "<cube currency=\"NOK\" rate=\"10.7538\"></cube>\n",
      "<cube currency=\"HRK\" rate=\"7.5415\"></cube>\n",
      "<cube currency=\"RUB\" rate=\"89.1439\"></cube>\n",
      "<cube currency=\"TRY\" rate=\"8.9600\"></cube>\n",
      "<cube currency=\"AUD\" rate=\"1.6242\"></cube>\n",
      "<cube currency=\"BRL\" rate=\"6.2176\"></cube>\n",
      "<cube currency=\"CAD\" rate=\"1.5601\"></cube>\n",
      "<cube currency=\"CNY\" rate=\"8.0146\"></cube>\n",
      "<cube currency=\"HKD\" rate=\"9.1707\"></cube>\n",
      "<cube currency=\"IDR\" rate=\"17435.93\"></cube>\n",
      "<cube currency=\"ILS\" rate=\"4.0511\"></cube>\n",
      "<cube currency=\"INR\" rate=\"87.0140\"></cube>\n",
      "<cube currency=\"KRW\" rate=\"1375.96\"></cube>\n",
      "<cube currency=\"MXN\" rate=\"24.7344\"></cube>\n",
      "<cube currency=\"MYR\" rate=\"4.8687\"></cube>\n",
      "<cube currency=\"NZD\" rate=\"1.7489\"></cube>\n",
      "<cube currency=\"PHP\" rate=\"57.306\"></cube>\n",
      "<cube currency=\"SGD\" rate=\"1.6082\"></cube>\n",
      "<cube currency=\"THB\" rate=\"36.889\"></cube>\n",
      "<cube currency=\"ZAR\" rate=\"19.1520\"></cube>\n",
      "</cube>\n",
      "</cube>\n"
     ]
    }
   ],
   "source": [
    "from bs4 import BeautifulSoup\n",
    "# Will be covered in week 7 on webscraping\n",
    "\n",
    "xml = BeautifulSoup(response.text, 'html.parser')\n",
    "rate_list = xml.cube.cube.findAll(\"cube\") # [0]['rate']\n",
    "print(xml.cube)"
   ]
  },
  {
   "cell_type": "code",
   "execution_count": 49,
   "metadata": {
    "slideshow": {
     "slide_type": "subslide"
    }
   },
   "outputs": [
    {
     "name": "stdout",
     "output_type": "stream",
     "text": [
      "1.1833\n",
      "7.4403\n",
      "89.1439\n",
      "8.0146\n"
     ]
    },
    {
     "data": {
      "text/plain": [
       "{'USD': 1.1833, 'DKK': 7.4403, 'RUB': 89.1439, 'CNY': 8.0146}"
      ]
     },
     "execution_count": 49,
     "metadata": {},
     "output_type": "execute_result"
    }
   ],
   "source": [
    "\n",
    "\n",
    "currency = ['USD', 'DKK', 'RUB', 'CNY']\n",
    "rate_dict = dict.fromkeys(currency) # create a new dict with given keys\n",
    "#print(rate_dict)\n",
    "for element in rate_list:\n",
    "    if element['currency'] in currency:\n",
    "        rate_dict[element['currency']] = float(element['rate'])\n",
    "        print(element['rate'])\n",
    "rate_dict"
   ]
  },
  {
   "cell_type": "code",
   "execution_count": 50,
   "metadata": {
    "slideshow": {
     "slide_type": "subslide"
    }
   },
   "outputs": [
    {
     "data": {
      "text/plain": [
       "<matplotlib.axes._subplots.AxesSubplot at 0x7f1a078d6590>"
      ]
     },
     "execution_count": 50,
     "metadata": {},
     "output_type": "execute_result"
    },
    {
     "data": {
      "image/png": "[encoded data removed]",
      "text/plain": [
       "<Figure size 432x288 with 1 Axes>"
      ]
     },
     "metadata": {
      "needs_background": "light"
     },
     "output_type": "display_data"
    }
   ],
   "source": [
    "# get all weapons expenditure in euros\n",
    "ts_df['DNK'] = ts_df['DNK'] / rate_dict['DKK']\n",
    "ts_df['USA'] = ts_df['USA'] / rate_dict['USD']\n",
    "ts_df['CHN'] = ts_df['CHN'] / rate_dict['CNY']\n",
    "ts_df['RUS'] = ts_df['RUS'] / rate_dict['RUB']\n",
    "ts_df.plot()"
   ]
  },
  {
   "cell_type": "markdown",
   "metadata": {
    "slideshow": {
     "slide_type": "subslide"
    }
   },
   "source": [
    "**OBS!!!** Be careful, the graph above is still not really well suited for comparison as currency exchange rates are not fix. However, the code above normalizes just relying on the most current exchange rate from the European Central Bank. See the exercise block in the bottom for how to fix that isuue!"
   ]
  },
  {
   "cell_type": "markdown",
   "metadata": {},
   "source": [
    "## Sorting dataframes\n",
    "\n",
    "In case you have to sort the data in your `DataFrames` see the methods `sort_index` and `sort_values`.\n",
    "\n",
    "\n",
    "```python\n",
    "df.sort_index(axis=1, ascending=True)\n",
    "df.sort_values(by='Country Code')\n",
    "```"
   ]
  },
  {
   "cell_type": "code",
   "execution_count": 51,
   "metadata": {},
   "outputs": [],
   "source": [
    "df.sort_index?"
   ]
  },
  {
   "cell_type": "code",
   "execution_count": 52,
   "metadata": {},
   "outputs": [],
   "source": [
    "df.sort_values?"
   ]
  },
  {
   "cell_type": "markdown",
   "metadata": {},
   "source": [
    "## Class Exercise\n",
    "Go here and get csv data: [worldbank military expanditure](https://databank.worldbank.org/reports.aspx?source=2&series=MS.MIL.XPND.CD&country=#)\n",
    "1. For 2018 find the 10 countries with the highest military expenditure in USD\n",
    "2. For 2018 find the 10 countries with the highest military expenditure per capita [worldbank](https://databank.worldbank.org/source/world-development-indicators/preview/on#)(use series='Population,Total' and time='2018' and Countries= all 2017) or use [copy paste with this date into excel](https://www.worldometers.info/world-population/population-by-country/)\n",
    "  - (Hint: use pd.merge() to merge the mil_exp dataframe with the population dataframe on 2 columns (country_code)\n",
    "3. For 2018 find the 3 countries with the highest per capita military expenditure in the middle east\n",
    "  - [countries list with iso code](middleeast_countries.csv)"
   ]
  },
  {
   "cell_type": "markdown",
   "metadata": {
    "slideshow": {
     "slide_type": "subslide"
    }
   },
   "source": [
    "\n",
    "## Self study exercise\n",
    "\n",
    "Complete the comparison of military expenditures by converting all currencies to USD. Since we have yearly expenditures, use for example the yearly median for normalization. Likely, you will find an API to collect historical echange rates at Yahoo Finance.\n",
    "\n",
    "[https://finance.yahoo.com/quote/USDRUB%3DX](https://finance.yahoo.com/quote/USDRUB%3DX)\n",
    "\n",
    "\n",
    "\n"
   ]
  }
 ],
 "metadata": {
  "celltoolbar": "Slideshow",
  "kernelspec": {
   "display_name": "Python 3",
   "language": "python",
   "name": "python3"
  },
  "language_info": {
   "codemirror_mode": {
    "name": "ipython",
    "version": 3
   },
   "file_extension": ".py",
   "mimetype": "text/x-python",
   "name": "python",
   "nbconvert_exporter": "python",
   "pygments_lexer": "ipython3",
   "version": "3.7.6"
  },
  "varInspector": {
   "cols": {
    "lenName": 16,
    "lenType": 16,
    "lenVar": 40
   },
   "kernels_config": {
    "python": {
     "delete_cmd_postfix": "",
     "delete_cmd_prefix": "del ",
     "library": "var_list.py",
     "varRefreshCmd": "print(var_dic_list())"
    },
    "r": {
     "delete_cmd_postfix": ") ",
     "delete_cmd_prefix": "rm(",
     "library": "var_list.r",
     "varRefreshCmd": "cat(var_dic_list()) "
    }
   },
   "types_to_exclude": [
    "module",
    "function",
    "builtin_function_or_method",
    "instance",
    "_Feature"
   ],
   "window_display": false
  }
 },
 "nbformat": 4,
 "nbformat_minor": 2
}
