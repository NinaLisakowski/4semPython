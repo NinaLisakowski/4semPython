{
 "cells": [
  {
   "cell_type": "markdown",
   "metadata": {},
   "source": [
    "# Week 5 Handin"
   ]
  },
  {
   "cell_type": "markdown",
   "metadata": {},
   "source": [
    "## 01 Assignment\n",
    "\n",
    "## Week 5 Exercise with Pandas\n",
    "\n",
    "## Ex1 Use data from Danmarks Statistik - Databanken\n",
    "1. Go to https://www.dst.dk/da/Statistik/brug-statistikken/muligheder-i-statistikbanken/api#testkonsol\n",
    "2. Open 'Konsol' and click 'Start Konsol'\n",
    "3. In the console at pt 1: choose 'Retrieve tables', pt 2: choose get request and json format and pt 3: execute:\n",
    "  1. check the result\n",
    "  2. in the code below this same get request is used to get information about all available data tables in 'databanken'. \n",
    "4. Change pt. 1 in the console to 'Retrieve data', pt 2: 'get request' and Table id: 'FOLK1A', format: csv, delimiter: semicolon and click: 'Variable and value codes' and choose some sub categories (Hint: hover over the codes to see their meaning). Finally execute and see what data you get.\n",
    "5. With data aggregation and data visualization answer the following questions:\n",
    "  1. What is the change in pct of divorced danes from 2008 to 2020?\n",
    "  2. Which of the 5 biggest cities has the highest percentage of 'Never Married' in 2020?\n",
    "  3. Show a bar chart of changes in marrital status in Copenhagen from 2008 till now\n",
    "  4. Show 2 plots in same figure: 'Married' and 'Never Married' for all ages in DK in 2020 (Hint: x axis is age from 0-125, y axis is how many people in the 2 categories). Add lengend to show names on graphs\n",
    "  \n",
    "## Ex2 Use another table (extra)\n",
    "Choose any of the other tables in 'databanken' to find interesting data.\n",
    "1. Collect the data\n",
    "2. Pose 5 or more interesing questions to the data\n",
    "3. Answer the questions by aggregating the data\n",
    "4. Illustrate the answers with visual plots\n"
   ]
  },
  {
   "cell_type": "markdown",
   "metadata": {},
   "source": [
    "## 02 Status\n",
    "Everything in Ex1 is done."
   ]
  },
  {
   "cell_type": "markdown",
   "metadata": {},
   "source": [
    "## 03 Solution part 1"
   ]
  },
  {
   "cell_type": "markdown",
   "metadata": {},
   "source": [
    "1. Go to https://www.dst.dk/da/Statistik/brug-statistikken/muligheder-i-statistikbanken/api#testkonsol\n",
    "2. Open 'Konsol' and click 'Start Konsol'\n",
    "3. In the console at pt 1: choose 'Retrieve tables', pt 2: choose get request and json format and pt 3: execute:\n",
    "  1. check the result\n",
    "  2. in the code below this same get request is used to get information about all available data tables in 'databanken'. \n",
    "4. Change pt. 1 in the console to 'Retrieve data', pt 2: 'get request' and Table id: 'FOLK1A', format: csv, delimiter: semicolon and click: 'Variable and value codes' and choose some sub categories (Hint: hover over the codes to see their meaning). Finally execute and see what data you get."
   ]
  },
  {
   "cell_type": "code",
   "execution_count": 94,
   "metadata": {},
   "outputs": [],
   "source": [
    "import pandas as pd\n",
    "#1)https://api.statbank.dk/v1/tables?format=JSON   \n",
    "#2) \"https://api.statbank.dk/v1/data/FOLK1A/CSV?delimiter=Semicolon&ALDER=*&K%C3%98N=*&CIVILSTAND=F%2CU%2CG&Tid=2008K1%2C2020K3\"\n",
    "statdata = pd.read_csv(\"https://api.statbank.dk/v1/data/FOLK1A/CSV?timeOrder=Ascending&delimiter=Semicolon&CIVILSTAND=*&Tid=2008K1%2C2020K3&K%C3%98N=*\", sep=\";\")\n",
    "\n",
    "#print(statdata)\n",
    "#statdata.head()"
   ]
  },
  {
   "cell_type": "markdown",
   "metadata": {},
   "source": [
    "5. With data aggregation and data visualization answer the following questions:\n",
    "  1. What is the change in pct of divorced danes from 2008 to 2020?"
   ]
  },
  {
   "cell_type": "code",
   "execution_count": 56,
   "metadata": {},
   "outputs": [
    {
     "name": "stdout",
     "output_type": "stream",
     "text": [
      "The change in percent of divorced danes from 2008 to 2020 is: 28.41 %\n"
     ]
    }
   ],
   "source": [
    "#\"https://api.statbank.dk/v1/data/FOLK1A/CSV?valuePresentation=CodeAndValue& delimiter=Semicolon&CIVILSTAND=F&Tid=*\"\n",
    "#\"https://api.statbank.dk/v1/data/FOLK1A/CSV?valuePresentation=CodeAndValue&delimiter=Semicolon&Tid=*&CIVILSTAND=TOT\"\n",
    "\n",
    "#A.\n",
    "divorce_data = pd.read_csv(\"https://api.statbank.dk/v1/data/FOLK1A/CSV?delimiter=Semicolon&Tid=2008K1%2C2020K3&K%C3%98N=*&CIVILSTAND=F\", sep=\";\")\n",
    "#print(divorce_data)\n",
    "\n",
    "divorced_2008 = divorce_data.iloc[0,3]\n",
    "\n",
    "divorced_2020 = divorce_data.iloc[3,3]\n",
    "\n",
    "divorce_pct_change = round(((divorced_2020-divorced_2008)/divorced_2008)*100,2)\n",
    "\n",
    "print(\"The change in percent of divorced danes from 2008 to 2020 is:\", divorce_pct_change, \"%\")"
   ]
  },
  {
   "cell_type": "markdown",
   "metadata": {},
   "source": [
    "B. Which of the 5 biggest cities has the highest percentage of 'Never Married' in 2020?"
   ]
  },
  {
   "cell_type": "code",
   "execution_count": 97,
   "metadata": {},
   "outputs": [
    {
     "name": "stdout",
     "output_type": "stream",
     "text": [
      "The city with the highest percentage of people who have never been married is København with 65.43 %\n"
     ]
    }
   ],
   "source": [
    "five_biggest_cities = pd.read_csv(\"https://api.statbank.dk/v1/data/FOLK1A/CSV?delimiter=Semicolon&Tid=2020K3&K%C3%98N=TOT&OMR%C3%85DE=101%2C461%2C561%2C751%2C851&CIVILSTAND=TOT%2CU\", sep=\";\")\n",
    "#print(five_biggest_cities)\n",
    "\n",
    "never_married_dict = {}\n",
    "i = 0 \n",
    "while i < len(five_biggest_cities):\n",
    "    pct = round((five_biggest_cities.iloc[i+1,4]/five_biggest_cities.iloc[i,4])*100,2)\n",
    "    never_married_dict[five_biggest_cities.iloc[i,2]] = pct\n",
    "    i += 2\n",
    "#print(never_married_dict)\n",
    "\n",
    "max_city = max(never_married_dict, key=never_married_dict.get)\n",
    "\n",
    "max_pct = max(never_married_dict.values())\n",
    "\n",
    "\n",
    "print(\"The city with the highest percentage of people who have never been married is\", max_city, \"with\", max_pct, \"%\")"
   ]
  },
  {
   "cell_type": "markdown",
   "metadata": {},
   "source": [
    "C. Show a bar chart of changes in marrital status in Copenhagen from 2008 till now"
   ]
  },
  {
   "cell_type": "code",
   "execution_count": 144,
   "metadata": {},
   "outputs": [
    {
     "data": {
      "image/png": "[encoded data removed]",
      "text/plain": [
       "<Figure size 432x288 with 1 Axes>"
      ]
     },
     "metadata": {
      "needs_background": "light"
     },
     "output_type": "display_data"
    }
   ],
   "source": [
    "import matplotlib.pyplot as plt\n",
    "\n",
    "%matplotlib inline\n",
    "copenhagen_bar_data = pd.read_csv(\"https://api.statbank.dk/v1/data/FOLK1A/CSV?delimiter=Semicolon&OMR%C3%85DE=101&K%C3%98N=TOT&CIVILSTAND=G&Tid=*\", sep=\";\")\n",
    "time = copenhagen_bar_data.loc[:,\"TID\"]\n",
    "marrital_status = copenhagen_bar_data.loc[:,\"INDHOLD\"]\n",
    "plt.bar(time, marrital_status)\n",
    "plt.title('Changes in marrital status in Copenhagen since 2008 till now')\n",
    "plt.xticks(rotation=90)\n",
    "plt.ylim(120000,155000)\n",
    "\n",
    "plt.show()"
   ]
  },
  {
   "cell_type": "markdown",
   "metadata": {},
   "source": [
    "D. Show 2 plots in same figure: 'Married' and 'Never Married' for all ages in DK in 2020 Hint: x axis is age from 0-125, y axis is how many people in the 2 categories). Add lengend to show names on graphs"
   ]
  },
  {
   "cell_type": "code",
   "execution_count": 193,
   "metadata": {},
   "outputs": [
    {
     "data": {
      "text/plain": [
       "<matplotlib.axes._subplots.AxesSubplot at 0x7f2c8f78ce90>"
      ]
     },
     "execution_count": 193,
     "metadata": {},
     "output_type": "execute_result"
    },
    {
     "data": {
      "image/png": "[encoded data removed]",
      "text/plain": [
       "<Figure size 1440x576 with 1 Axes>"
      ]
     },
     "metadata": {
      "needs_background": "light"
     },
     "output_type": "display_data"
    }
   ],
   "source": [
    "import matplotlib.pyplot as plt\n",
    "import numpy as np\n",
    "%matplotlib inline\n",
    "\n",
    "status_data = pd.read_csv(\"https://api.statbank.dk/v1/data/FOLK1A/CSV?delimiter=Semicolon&Tid=2020K3&CIVILSTAND=G%2CU&ALDER=*&K%C3%98N=TOT\", sep=\";\")\n",
    "#print(status_data)\n",
    "\n",
    "\n",
    "married = status_data[(status_data[:]['CIVILSTAND'].str.contains('Gift')) & (status_data[:]['ALDER'] != 'I alt')].reset_index(drop=True)\n",
    "not_married = status_data[(status_data[:]['CIVILSTAND'].str.contains('Ugift')) & (status_data[:]['ALDER'] != 'I alt')].reset_index(drop=True)\n",
    "\n",
    "\n",
    "graf = pd.concat([married, not_married], axis=1, keys=['Not Married','Married'])\n",
    "graf.plot(kind=\"bar\", figsize=(20,8))\n",
    "#graf.legend()"
   ]
  },
  {
   "cell_type": "code",
   "execution_count": null,
   "metadata": {},
   "outputs": [],
   "source": []
  }
 ],
 "metadata": {
  "kernelspec": {
   "display_name": "Python 3",
   "language": "python",
   "name": "python3"
  },
  "language_info": {
   "codemirror_mode": {
    "name": "ipython",
    "version": 3
   },
   "file_extension": ".py",
   "mimetype": "text/x-python",
   "name": "python",
   "nbconvert_exporter": "python",
   "pygments_lexer": "ipython3",
   "version": "3.7.6"
  }
 },
 "nbformat": 4,
 "nbformat_minor": 4
}
