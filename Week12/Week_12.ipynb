{
 "cells": [
  {
   "cell_type": "markdown",
   "metadata": {},
   "source": [
    "# Week 12 Handin"
   ]
  },
  {
   "cell_type": "markdown",
   "metadata": {},
   "source": [
    "## 01 Assignment\n",
    "\n",
    "### Exercise1:\n",
    "\n",
    "\n",
    "1. Generate 2 blobs with sklearns make_blobs(n_samples=150, centers=2, n_features=2, cluster_std=0.5, random_state=0)\n",
    "    1. Look at the dataset (Show the first line of the matrix)\n",
    "    2. Print the target\n",
    "2. Scatterplot the dataset with matplotlib\n",
    "    1. Use different colors for each of the n_features=, created in the blob data. - I use red and green\n",
    "3. Use the activation_function and perceptron fuction given in the 12-1-Perceptron-Classifier\n",
    "4. Use the pla function given in the 12-1-Perceptron-Classifier\n",
    "5. In exercise 1.b we found out that our data_blob set only contains 1 and 0 as target values\n",
    "    1. Turn all the 0's into -1's. Now when we print our target, we should only have, 1 and -1\n",
    "    2. Turn all the new targets with our daata into an array that has the following format;\n",
    "    [(array([data.x, data.y]), 1), (array([data.x, data.y]), -1)]\n",
    "    Note that the 1 and -1 are our target values\n",
    "6. Using the pla function that we used copied in before, find the learned_weights of our training data from 5.b\n",
    "7. Use the predict function given in 12-1-Perceptron-Classifier\n",
    "    1. Try to see if we can predict a couple of values to be either 1 or -1\n",
    "8. Visualize the linear seperability by using the compute_line function given in 12-1-Perceptron-Classifier\n",
    "\n",
    "\n",
    "Made by: Lucky drawing"
   ]
  },
  {
   "cell_type": "markdown",
   "metadata": {},
   "source": [
    "## 02 Status\n",
    "Everything is done"
   ]
  },
  {
   "cell_type": "markdown",
   "metadata": {},
   "source": [
    "## 03 Solution part 1"
   ]
  },
  {
   "cell_type": "markdown",
   "metadata": {},
   "source": [
    "1. Generate 2 blobs with sklearns make_blobs(n_samples=150, centers=2, n_features=2, cluster_std=0.5, random_state=0)"
   ]
  },
  {
   "cell_type": "code",
   "execution_count": 9,
   "metadata": {},
   "outputs": [],
   "source": [
    "from sklearn.datasets import make_blobs\n",
    "import numpy as np\n",
    "import matplotlib.pyplot as plt\n",
    "import matplotlib.colors as colors\n",
    "from tqdm import tqdm\n",
    "\n",
    "\n",
    "data, target = make_blobs(n_samples=150, centers=2, n_features=2, cluster_std=0.5, random_state=0)"
   ]
  },
  {
   "cell_type": "markdown",
   "metadata": {},
   "source": [
    "     1.A Look at the dataset (Show the first line of the matrix)"
   ]
  },
  {
   "cell_type": "code",
   "execution_count": 3,
   "metadata": {},
   "outputs": [
    {
     "name": "stdout",
     "output_type": "stream",
     "text": [
      "[[2.4484315  0.66445411]]\n"
     ]
    }
   ],
   "source": [
    "print(data[0:1,:]) # Show the first line"
   ]
  },
  {
   "cell_type": "markdown",
   "metadata": {},
   "source": [
    "    1.B Print the target"
   ]
  },
  {
   "cell_type": "code",
   "execution_count": 4,
   "metadata": {
    "scrolled": false
   },
   "outputs": [
    {
     "name": "stdout",
     "output_type": "stream",
     "text": [
      "150 150\n",
      "[1 0 0 0 1 1 0 0 1 0 0 1 1 1 1 0 0 1 1 1 0 0 0 1 1 0 1 1 1 1 1 0 0 1 1 1 0\n",
      " 1 0 1 0 1 1 1 0 0 0 0 0 0 0 0 1 1 0 0 1 0 0 1 1 1 0 1 1 0 0 0 0 0 1 0 0 1\n",
      " 0 0 1 1 0 0 1 0 0 0 1 1 1 1 0 0 0 0 0 0 1 1 0 0 0 1 1 0 1 1 1 0 0 0 1 0 1\n",
      " 1 0 1 0 0 1 1 0 1 0 0 1 0 1 0 1 0 1 1 1 1 1 1 0 1 0 1 0 0 1 0 1 1 1 1 0 1\n",
      " 0 1]\n",
      "[[ 2.4484315   0.66445411]\n",
      " [ 1.44989606  4.22628228]\n",
      " [ 0.99914934  4.2101954 ]\n",
      " [ 1.2091013   3.53566548]\n",
      " [ 1.89982444  0.94636374]\n",
      " [ 1.40883907  1.03118909]\n",
      " [ 1.05374379  4.49286859]\n",
      " [ 1.06498315  4.10289686]\n",
      " [ 2.80250979 -0.13732885]\n",
      " [ 0.802314    4.38196181]\n",
      " [ 0.5323772   3.31338909]\n",
      " [ 2.13352079  1.01375418]\n",
      " [ 2.4411628   1.30941574]\n",
      " [ 2.03562611  0.31361691]\n",
      " [ 2.52997792  0.94143928]\n",
      " [ 0.16932115  4.19741719]\n",
      " [ 0.12313498  5.27917503]\n",
      " [ 2.00604126  0.56592452]\n",
      " [ 1.34323707  0.65100372]\n",
      " [ 2.31690585  0.81189049]\n",
      " [ 1.72330962  4.2012082 ]\n",
      " [ 0.92466065  4.50908658]\n",
      " [ 0.65910903  4.12241674]\n",
      " [ 1.72906323  0.70218697]\n",
      " [ 1.73654901  0.69902775]\n",
      " [ 0.39369516  4.75420057]\n",
      " [ 2.4001766   1.54858677]\n",
      " [ 2.26839689  1.23611768]\n",
      " [ 1.03992529  1.92991009]\n",
      " [ 1.98729267  1.46610934]\n",
      " [ 2.04675731  1.08723953]\n",
      " [ 0.63910375  4.31970261]\n",
      " [ 0.72144399  4.08475018]\n",
      " [ 1.73345832 -0.21403792]\n",
      " [ 3.1368855   1.56592763]\n",
      " [ 1.8706766   0.77797407]\n",
      " [ 1.00952869  4.45502328]\n",
      " [ 1.50307585  0.9237462 ]\n",
      " [ 1.08040757  4.79210685]\n",
      " [ 3.184922    0.87653508]\n",
      " [ 1.91784543  3.6299078 ]\n",
      " [ 1.64858539  0.1644515 ]\n",
      " [ 1.08712762  0.99205296]\n",
      " [ 1.5381461   1.23846092]\n",
      " [ 0.23064128  4.52348318]\n",
      " [ 1.40848818  3.93270482]\n",
      " [ 0.7586933   5.22841919]\n",
      " [ 1.91004907  3.81514839]\n",
      " [ 1.93774109  5.04404472]\n",
      " [ 1.56565986  4.21382491]\n",
      " [ 0.77468161  4.91500986]\n",
      " [ 0.38970838  5.27559792]\n",
      " [ 2.31721303  0.9418747 ]\n",
      " [ 1.57729502  0.72467277]\n",
      " [ 0.5285368   4.49723858]\n",
      " [ 0.76946059  3.93005992]\n",
      " [ 1.7092426   1.66585219]\n",
      " [ 0.5226209   4.32976003]\n",
      " [ 0.62898615  4.22897006]\n",
      " [ 1.53264084  1.5032363 ]\n",
      " [ 2.1262441   0.73799945]\n",
      " [ 2.51035698  1.05627277]\n",
      " [ 0.56969694  3.44064603]\n",
      " [ 1.98882723  0.74876822]\n",
      " [ 2.61858548  0.35769791]\n",
      " [ 0.98152009  5.19672257]\n",
      " [ 1.91004956  4.75680966]\n",
      " [ 1.13280393  3.87673946]\n",
      " [ 0.4519936   3.59377836]\n",
      " [ 1.34081536  4.36827878]\n",
      " [ 1.28486901  0.92929466]\n",
      " [ 0.84226839  4.70501553]\n",
      " [ 0.34102758  4.78848568]\n",
      " [ 2.51569693  1.05702749]\n",
      " [ 0.5408715   4.0143625 ]\n",
      " [ 1.72039618  5.25173192]\n",
      " [ 1.85554301  1.0826916 ]\n",
      " [ 1.82750127  0.90640324]\n",
      " [ 0.72086751  3.71347124]\n",
      " [ 0.59131204  4.57341192]\n",
      " [ 2.48368283  0.57215086]\n",
      " [ 0.78260667  4.15263595]\n",
      " [ 1.35678894  4.36462484]\n",
      " [ 1.16448284  3.75408693]\n",
      " [ 1.26379832  1.20285335]\n",
      " [ 2.64928242  1.05613497]\n",
      " [ 2.60509732  1.22529553]\n",
      " [ 3.20722587  0.36765575]\n",
      " [ 1.28330976  4.76489066]\n",
      " [ 2.11114739  3.57660449]\n",
      " [ 1.17427343  3.75725657]\n",
      " [ 0.44089377  4.83101319]\n",
      " [ 1.12538917  4.96698028]\n",
      " [ 1.03972612  4.50478201]\n",
      " [ 1.58304439  0.69263881]\n",
      " [ 1.74122374  0.6571501 ]\n",
      " [ 0.51985897  4.86229547]\n",
      " [ 0.31831637  4.07299503]\n",
      " [ 1.31241746  4.50751825]\n",
      " [ 1.8062513   1.86242969]\n",
      " [ 1.46083789  0.64425548]\n",
      " [ 0.60389267  3.89056806]\n",
      " [ 2.36788325  0.09663483]\n",
      " [ 1.4020041   1.726729  ]\n",
      " [ 2.30213841  0.83961169]\n",
      " [ 1.19820169  4.47062449]\n",
      " [ 1.45131429  4.22810872]\n",
      " [ 0.82049381  4.33187   ]\n",
      " [ 1.9961855   0.55757456]\n",
      " [ 1.59141542  4.90497725]\n",
      " [ 1.65356269  0.55288877]\n",
      " [ 1.7571105   0.87138001]\n",
      " [ 1.15445328  4.65707391]\n",
      " [ 2.6314333   1.43747296]\n",
      " [ 0.96217896  4.51795326]\n",
      " [-0.30022483  4.63059663]\n",
      " [ 2.25479069 -0.48863272]\n",
      " [ 1.69246883  0.20598168]\n",
      " [ 1.1774409   3.96138228]\n",
      " [ 1.55515985  0.12527811]\n",
      " [ 0.16117091  4.53517846]\n",
      " [ 0.3498724   4.69253251]\n",
      " [ 1.4815332   0.67875364]\n",
      " [ 0.54565724  5.2588198 ]\n",
      " [ 2.37533328  0.08918564]\n",
      " [ 0.94214928  5.16045869]\n",
      " [ 1.82346953  1.1384044 ]\n",
      " [ 1.05960683  4.62130305]\n",
      " [ 2.31579996  0.60976968]\n",
      " [ 2.04310446  0.52864821]\n",
      " [ 2.19522982  0.84858847]\n",
      " [ 1.68548602  1.66917096]\n",
      " [ 2.10413001  1.1891405 ]\n",
      " [ 1.47717631  1.28826271]\n",
      " [ 0.64003985  4.12401075]\n",
      " [ 3.03322368  1.09271032]\n",
      " [ 2.16784247  4.77602707]\n",
      " [ 2.19843937  1.20208558]\n",
      " [ 1.04829186  5.03092408]\n",
      " [ 1.54597042  3.68637442]\n",
      " [ 1.87827057  0.21018801]\n",
      " [ 0.65834704  4.64200397]\n",
      " [ 1.90076104  0.05966176]\n",
      " [ 1.75660949  0.7787028 ]\n",
      " [ 1.99999719  1.40775002]\n",
      " [ 2.4010369   1.24503823]\n",
      " [ 1.26456549  4.19963795]\n",
      " [ 1.44254976  1.31984515]\n",
      " [ 1.74265969  5.03846671]\n",
      " [ 1.78383678  1.10568868]]\n"
     ]
    }
   ],
   "source": [
    "print(len(data),len(target))\n",
    "print(target)\n",
    "print(data)"
   ]
  },
  {
   "cell_type": "markdown",
   "metadata": {},
   "source": [
    "2. Scatterplot the dataset with matplotlib\n",
    "    1. Use different colors for each of the n_features=, created in the blob data. - I use red and green"
   ]
  },
  {
   "cell_type": "code",
   "execution_count": 8,
   "metadata": {},
   "outputs": [
    {
     "data": {
      "text/plain": [
       "<matplotlib.collections.PathCollection at 0x7f5ddf9dc110>"
      ]
     },
     "execution_count": 8,
     "metadata": {},
     "output_type": "execute_result"
    },
    {
     "data": {
      "image/png": "[encoded data removed]",
      "text/plain": [
       "<Figure size 432x288 with 1 Axes>"
      ]
     },
     "metadata": {
      "needs_background": "light"
     },
     "output_type": "display_data"
    }
   ],
   "source": [
    "x = data[:,0] #Column 1 rows\n",
    "y = data[:,1] #Column 2 rows\n",
    "\n",
    "plt.scatter(x, y, c=target, cmap=colors.ListedColormap([\"green\", \"red\"]))"
   ]
  },
  {
   "cell_type": "markdown",
   "metadata": {},
   "source": [
    "3. Use the activation_function and perceptron fuction given in the 12-1-Perceptron-Classifier"
   ]
  },
  {
   "cell_type": "code",
   "execution_count": 12,
   "metadata": {},
   "outputs": [],
   "source": [
    "def activation_function(x):\n",
    "    \"\"\"\n",
    "    Step function to respond with y = 1 or -1\n",
    "    Parameter:\n",
    "    x: An x (numeric) value that will have a corresponding y value of 1 or -1\n",
    "    \"\"\"\n",
    "    if x < 0:\n",
    "        return -1\n",
    "    else:\n",
    "        return 1\n",
    "    \n",
    "\n",
    "def perceptron(inp, weights):\n",
    "    \"\"\"\n",
    "    Given a list of feature (x) values and a list of weights, \n",
    "    calculates the dot product of the 2 lists and returns 1 or -1 (fire or don't)\n",
    "    Parameters:\n",
    "    inp: vector of input predictors\n",
    "    weights: vector of weights to be ajusted for precise prediction of output.\n",
    "    \"\"\"\n",
    "    dot_product = np.dot(inp, weights)\n",
    "    output = activation_function(dot_product)\n",
    "    return output"
   ]
  },
  {
   "cell_type": "markdown",
   "metadata": {},
   "source": [
    "4. Use the pla function given in the 12-1-Perceptron-Classifier"
   ]
  },
  {
   "cell_type": "code",
   "execution_count": 13,
   "metadata": {},
   "outputs": [],
   "source": [
    "def pla(training_data, no_iterations=10000, eta=0.5):\n",
    "    \"\"\"\n",
    "    Find the proper weights to use in the perceptron based on data and target\n",
    "    Parameters:\n",
    "    training_data: list of vectors (features), as predictors zipped with a target value\n",
    "    no_iterations: number of times to adjust the weights to get them as close as possible to the optimal number\n",
    "    eta: the learning rate (prevent learning to go pendulum from one extreme error to the opposite)\n",
    "    \"\"\"\n",
    "    \n",
    "    dim = len(training_data[0][0]) # len = 2 (petal width and height)\n",
    "    weights =  np.random.random(dim) # error and weights (for x and y) start out as random numbers\n",
    "    \n",
    "    # initial_error\n",
    "    error = np.random.random()\n",
    "    weight_history = [np.copy(weights)]\n",
    "\n",
    "    for i in range(no_iterations):\n",
    "        #pdb.set_trace()\n",
    "        #breakpoint()\n",
    "        inp_vec, expected_label = training_data[i % len(training_data)] # get the next feature set and label (start over after reaching end)\n",
    "        perceptron_output = perceptron(inp_vec, weights) # perceptron output id a decimal between 0 and 1\n",
    "        error = expected_label - perceptron_output       # error \n",
    "        weights += eta * error * inp_vec # accumulate the weights\n",
    "        weight_history.append(np.copy(weights))\n",
    "        \n",
    "    return weights, weight_history "
   ]
  },
  {
   "cell_type": "markdown",
   "metadata": {},
   "source": [
    "5. In exercise 1.b we found out that our data_blob set only contains 1 and 0 as target values\n",
    "    1. Turn all the 0's into -1's. Now when we print our target, we should only have, 1 and -1"
   ]
  },
  {
   "cell_type": "code",
   "execution_count": 15,
   "metadata": {},
   "outputs": [
    {
     "name": "stdout",
     "output_type": "stream",
     "text": [
      "[ 1 -1 -1 -1  1  1 -1 -1  1 -1 -1  1  1  1  1 -1 -1  1  1  1 -1 -1 -1  1\n",
      "  1 -1  1  1  1  1  1 -1 -1  1  1  1 -1  1 -1  1 -1  1  1  1 -1 -1 -1 -1\n",
      " -1 -1 -1 -1  1  1 -1 -1  1 -1 -1  1  1  1 -1  1  1 -1 -1 -1 -1 -1  1 -1\n",
      " -1  1 -1 -1  1  1 -1 -1  1 -1 -1 -1  1  1  1  1 -1 -1 -1 -1 -1 -1  1  1\n",
      " -1 -1 -1  1  1 -1  1  1  1 -1 -1 -1  1 -1  1  1 -1  1 -1 -1  1  1 -1  1\n",
      " -1 -1  1 -1  1 -1  1 -1  1  1  1  1  1  1 -1  1 -1  1 -1 -1  1 -1  1  1\n",
      "  1  1 -1  1 -1  1]\n"
     ]
    }
   ],
   "source": [
    "target[target == 0] = -1\n",
    "print(target)"
   ]
  },
  {
   "cell_type": "markdown",
   "metadata": {},
   "source": [
    "    5.B Turn all the new targets with our daata into an array that has the following format;\n",
    "    [(array([data.x, data.y]), 1), (array([data.x, data.y]), -1)]\n",
    "    Note that the 1 and -1 are our target values"
   ]
  },
  {
   "cell_type": "code",
   "execution_count": 16,
   "metadata": {
    "scrolled": false
   },
   "outputs": [
    {
     "name": "stdout",
     "output_type": "stream",
     "text": [
      "[(array([2.4484315 , 0.66445411]), 1), (array([1.44989606, 4.22628228]), -1), (array([0.99914934, 4.2101954 ]), -1), (array([1.2091013 , 3.53566548]), -1), (array([1.89982444, 0.94636374]), 1), (array([1.40883907, 1.03118909]), 1), (array([1.05374379, 4.49286859]), -1), (array([1.06498315, 4.10289686]), -1), (array([ 2.80250979, -0.13732885]), 1), (array([0.802314  , 4.38196181]), -1), (array([0.5323772 , 3.31338909]), -1), (array([2.13352079, 1.01375418]), 1), (array([2.4411628 , 1.30941574]), 1), (array([2.03562611, 0.31361691]), 1), (array([2.52997792, 0.94143928]), 1), (array([0.16932115, 4.19741719]), -1), (array([0.12313498, 5.27917503]), -1), (array([2.00604126, 0.56592452]), 1), (array([1.34323707, 0.65100372]), 1), (array([2.31690585, 0.81189049]), 1), (array([1.72330962, 4.2012082 ]), -1), (array([0.92466065, 4.50908658]), -1), (array([0.65910903, 4.12241674]), -1), (array([1.72906323, 0.70218697]), 1), (array([1.73654901, 0.69902775]), 1), (array([0.39369516, 4.75420057]), -1), (array([2.4001766 , 1.54858677]), 1), (array([2.26839689, 1.23611768]), 1), (array([1.03992529, 1.92991009]), 1), (array([1.98729267, 1.46610934]), 1), (array([2.04675731, 1.08723953]), 1), (array([0.63910375, 4.31970261]), -1), (array([0.72144399, 4.08475018]), -1), (array([ 1.73345832, -0.21403792]), 1), (array([3.1368855 , 1.56592763]), 1), (array([1.8706766 , 0.77797407]), 1), (array([1.00952869, 4.45502328]), -1), (array([1.50307585, 0.9237462 ]), 1), (array([1.08040757, 4.79210685]), -1), (array([3.184922  , 0.87653508]), 1), (array([1.91784543, 3.6299078 ]), -1), (array([1.64858539, 0.1644515 ]), 1), (array([1.08712762, 0.99205296]), 1), (array([1.5381461 , 1.23846092]), 1), (array([0.23064128, 4.52348318]), -1), (array([1.40848818, 3.93270482]), -1), (array([0.7586933 , 5.22841919]), -1), (array([1.91004907, 3.81514839]), -1), (array([1.93774109, 5.04404472]), -1), (array([1.56565986, 4.21382491]), -1), (array([0.77468161, 4.91500986]), -1), (array([0.38970838, 5.27559792]), -1), (array([2.31721303, 0.9418747 ]), 1), (array([1.57729502, 0.72467277]), 1), (array([0.5285368 , 4.49723858]), -1), (array([0.76946059, 3.93005992]), -1), (array([1.7092426 , 1.66585219]), 1), (array([0.5226209 , 4.32976003]), -1), (array([0.62898615, 4.22897006]), -1), (array([1.53264084, 1.5032363 ]), 1), (array([2.1262441 , 0.73799945]), 1), (array([2.51035698, 1.05627277]), 1), (array([0.56969694, 3.44064603]), -1), (array([1.98882723, 0.74876822]), 1), (array([2.61858548, 0.35769791]), 1), (array([0.98152009, 5.19672257]), -1), (array([1.91004956, 4.75680966]), -1), (array([1.13280393, 3.87673946]), -1), (array([0.4519936 , 3.59377836]), -1), (array([1.34081536, 4.36827878]), -1), (array([1.28486901, 0.92929466]), 1), (array([0.84226839, 4.70501553]), -1), (array([0.34102758, 4.78848568]), -1), (array([2.51569693, 1.05702749]), 1), (array([0.5408715, 4.0143625]), -1), (array([1.72039618, 5.25173192]), -1), (array([1.85554301, 1.0826916 ]), 1), (array([1.82750127, 0.90640324]), 1), (array([0.72086751, 3.71347124]), -1), (array([0.59131204, 4.57341192]), -1), (array([2.48368283, 0.57215086]), 1), (array([0.78260667, 4.15263595]), -1), (array([1.35678894, 4.36462484]), -1), (array([1.16448284, 3.75408693]), -1), (array([1.26379832, 1.20285335]), 1), (array([2.64928242, 1.05613497]), 1), (array([2.60509732, 1.22529553]), 1), (array([3.20722587, 0.36765575]), 1), (array([1.28330976, 4.76489066]), -1), (array([2.11114739, 3.57660449]), -1), (array([1.17427343, 3.75725657]), -1), (array([0.44089377, 4.83101319]), -1), (array([1.12538917, 4.96698028]), -1), (array([1.03972612, 4.50478201]), -1), (array([1.58304439, 0.69263881]), 1), (array([1.74122374, 0.6571501 ]), 1), (array([0.51985897, 4.86229547]), -1), (array([0.31831637, 4.07299503]), -1), (array([1.31241746, 4.50751825]), -1), (array([1.8062513 , 1.86242969]), 1), (array([1.46083789, 0.64425548]), 1), (array([0.60389267, 3.89056806]), -1), (array([2.36788325, 0.09663483]), 1), (array([1.4020041, 1.726729 ]), 1), (array([2.30213841, 0.83961169]), 1), (array([1.19820169, 4.47062449]), -1), (array([1.45131429, 4.22810872]), -1), (array([0.82049381, 4.33187   ]), -1), (array([1.9961855 , 0.55757456]), 1), (array([1.59141542, 4.90497725]), -1), (array([1.65356269, 0.55288877]), 1), (array([1.7571105 , 0.87138001]), 1), (array([1.15445328, 4.65707391]), -1), (array([2.6314333 , 1.43747296]), 1), (array([0.96217896, 4.51795326]), -1), (array([-0.30022483,  4.63059663]), -1), (array([ 2.25479069, -0.48863272]), 1), (array([1.69246883, 0.20598168]), 1), (array([1.1774409 , 3.96138228]), -1), (array([1.55515985, 0.12527811]), 1), (array([0.16117091, 4.53517846]), -1), (array([0.3498724 , 4.69253251]), -1), (array([1.4815332 , 0.67875364]), 1), (array([0.54565724, 5.2588198 ]), -1), (array([2.37533328, 0.08918564]), 1), (array([0.94214928, 5.16045869]), -1), (array([1.82346953, 1.1384044 ]), 1), (array([1.05960683, 4.62130305]), -1), (array([2.31579996, 0.60976968]), 1), (array([2.04310446, 0.52864821]), 1), (array([2.19522982, 0.84858847]), 1), (array([1.68548602, 1.66917096]), 1), (array([2.10413001, 1.1891405 ]), 1), (array([1.47717631, 1.28826271]), 1), (array([0.64003985, 4.12401075]), -1), (array([3.03322368, 1.09271032]), 1), (array([2.16784247, 4.77602707]), -1), (array([2.19843937, 1.20208558]), 1), (array([1.04829186, 5.03092408]), -1), (array([1.54597042, 3.68637442]), -1), (array([1.87827057, 0.21018801]), 1), (array([0.65834704, 4.64200397]), -1), (array([1.90076104, 0.05966176]), 1), (array([1.75660949, 0.7787028 ]), 1), (array([1.99999719, 1.40775002]), 1), (array([2.4010369 , 1.24503823]), 1), (array([1.26456549, 4.19963795]), -1), (array([1.44254976, 1.31984515]), 1), (array([1.74265969, 5.03846671]), -1), (array([1.78383678, 1.10568868]), 1)]\n"
     ]
    }
   ],
   "source": [
    "trainings_data_blobs = [(d, t) for d, t in zip(data, target)]\n",
    "print(trainings_data_blobs)"
   ]
  },
  {
   "cell_type": "markdown",
   "metadata": {},
   "source": [
    "6. Using the pla function that we used copied in before, find the learned_weights of our training data from 5.b"
   ]
  },
  {
   "cell_type": "code",
   "execution_count": 19,
   "metadata": {},
   "outputs": [
    {
     "name": "stdout",
     "output_type": "stream",
     "text": [
      "[ 17.86133605 -13.8653203 ]\n"
     ]
    }
   ],
   "source": [
    "learned_weights, weight_history = pla(trainings_data_blobs)\n",
    "print(learned_weights)"
   ]
  },
  {
   "cell_type": "markdown",
   "metadata": {},
   "source": [
    "7. Use the predict function given in 12-1-Perceptron-Classifier\n",
    "    1. Try to see if we can predict a couple of values to be either 1 or -1"
   ]
  },
  {
   "cell_type": "code",
   "execution_count": 25,
   "metadata": {},
   "outputs": [
    {
     "name": "stdout",
     "output_type": "stream",
     "text": [
      "1\n",
      "-1\n",
      "-1\n",
      "1\n",
      "-1\n",
      "1\n"
     ]
    }
   ],
   "source": [
    "def predict(inp_vec, weights):\n",
    "    \"\"\"\n",
    "    Parameters:\n",
    "    inp_vec:\n",
    "        An input vector consisting of sepal length and width\n",
    "    weights:\n",
    "        A vector of same length as inp_vec, containing a weight for each input\n",
    "    return:\n",
    "        A class label, either 1 for 'setosa' or -1 for 'other'\n",
    "    \"\"\"\n",
    "    class_label_prediction = perceptron(inp_vec, weights)\n",
    "    return class_label_prediction\n",
    "\n",
    "print(predict([1, 0], learned_weights))\n",
    "print(predict([0, 2], learned_weights))\n",
    "print(predict([1, 3], learned_weights))\n",
    "print(predict([3, 3], learned_weights))\n",
    "print(predict([3, 5], learned_weights))\n",
    "print(predict([5, 6], learned_weights))"
   ]
  },
  {
   "cell_type": "markdown",
   "metadata": {},
   "source": [
    "8. Visualize the linear seperability by using the compute_line function given in 12-1-Perceptron-Classifier"
   ]
  },
  {
   "cell_type": "code",
   "execution_count": 28,
   "metadata": {},
   "outputs": [
    {
     "name": "stdout",
     "output_type": "stream",
     "text": [
      "slope: 1.2882021947666464 bias 0.7899269006059638\n",
      "(1.2882021947666464, 0.7899269006059638)\n",
      "slope: 1.2882021947666464 bias 0.7899269006059638\n"
     ]
    },
    {
     "data": {
      "text/plain": [
       "[<matplotlib.lines.Line2D at 0x7f5dde5b2190>]"
      ]
     },
     "execution_count": 28,
     "metadata": {},
     "output_type": "execute_result"
    },
    {
     "data": {
      "image/png": "[encoded data removed]",
      "text/plain": [
       "<Figure size 432x288 with 1 Axes>"
      ]
     },
     "metadata": {
      "needs_background": "light"
     },
     "output_type": "display_data"
    }
   ],
   "source": [
    "def compute_line(weights):\n",
    "    \"\"\"\n",
    "    Visualizing Linear Separability by using weights/norm(weights) wich are othogonal to the division line.\n",
    "    Parameters:\n",
    "    weights: the weights calculated by PLA\n",
    "    \"\"\"\n",
    "    norm = np.linalg.norm(weights) # calculating the frobenius norm adjusting values measured on different scales to a notionally common scale\n",
    "    ww = weights / norm # weight vector is perpendicular (or othogonal) to the division line\n",
    "    ww1 = [ww[1], -ww[0]] # first point on our division line\n",
    "    ww2 = [-ww[1] , ww[0]] # second point on our division line\n",
    "    # slope and intercept\n",
    "    m = (ww2[1] - ww1[1]) / (ww2[0] - ww1[0]) # slope = delta y / delta x\n",
    "    b = ((ww2[0] - ww1[0]) * m) + ww1[1]      # intercept = delta x * slope + y(x1)\n",
    "    print('slope:',m,'bias',b)\n",
    "    return m, b\n",
    "\n",
    "\n",
    "print(compute_line(learned_weights))\n",
    "plt.scatter(data[:,0], data[:,1], c=target, cmap=colors.ListedColormap([\"green\", \"red\"]))\n",
    "\n",
    "l = np.linspace(0, 3.5)\n",
    "m, b = compute_line(learned_weights)\n",
    "plt.plot(l, m * l + b, 'y-', lw=2)"
   ]
  },
  {
   "cell_type": "code",
   "execution_count": null,
   "metadata": {},
   "outputs": [],
   "source": []
  }
 ],
 "metadata": {
  "kernelspec": {
   "display_name": "Python 3",
   "language": "python",
   "name": "python3"
  },
  "language_info": {
   "codemirror_mode": {
    "name": "ipython",
    "version": 3
   },
   "file_extension": ".py",
   "mimetype": "text/x-python",
   "name": "python",
   "nbconvert_exporter": "python",
   "pygments_lexer": "ipython3",
   "version": "3.7.6"
  }
 },
 "nbformat": 4,
 "nbformat_minor": 4
}
