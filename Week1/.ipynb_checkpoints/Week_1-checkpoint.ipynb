{
 "cells": [
  {
   "cell_type": "markdown",
   "metadata": {},
   "source": [
    "# Week 1 Hand in exercise"
   ]
  },
  {
   "cell_type": "markdown",
   "metadata": {},
   "source": [
    " # 1. Create 5 list comprehensions to solve the following 5 problems:"
   ]
  },
  {
   "cell_type": "code",
   "execution_count": 32,
   "metadata": {},
   "outputs": [
    {
     "name": "stdout",
     "output_type": "stream",
     "text": [
      "Names: \n",
      "['Lars', 'Jens', 'Bo', 'Holger', 'Mogens', 'Henrik', 'Henning', 'Helle', 'Gustav']\n",
      "\n",
      "Names starting with 'H': \n",
      "['Holger', 'Henrik', 'Henning', 'Helle']\n"
     ]
    }
   ],
   "source": [
    "# A. Iterate a list of names to return a list of the names starting with H\n",
    "names = [\"Lars\", \"Jens\", \"Bo\", \"Holger\", \"Mogens\", \"Henrik\", \"Henning\", \"Helle\", \"Gustav\"]\n",
    "print(\"Names: \\n\" + str(names))\n",
    "\n",
    "h_lst = [name for name in names if name.startswith(\"H\")]\n",
    "print(\"\\nNames starting with 'H': \\n\" + str(h_lst))"
   ]
  },
  {
   "cell_type": "code",
   "execution_count": 34,
   "metadata": {},
   "outputs": [
    {
     "name": "stdout",
     "output_type": "stream",
     "text": [
      "The numbers in range 1 - 100 to the power of 3: \n",
      "[1, 8, 27, 64, 125, 216, 343, 512, 729, 1000, 1331, 1728, 2197, 2744, 3375, 4096, 4913, 5832, 6859, 8000, 9261, 10648, 12167, 13824, 15625, 17576, 19683, 21952, 24389, 27000, 29791, 32768, 35937, 39304, 42875, 46656, 50653, 54872, 59319, 64000, 68921, 74088, 79507, 85184, 91125, 97336, 103823, 110592, 117649, 125000, 132651, 140608, 148877, 157464, 166375, 175616, 185193, 195112, 205379, 216000, 226981, 238328, 250047, 262144, 274625, 287496, 300763, 314432, 328509, 343000, 357911, 373248, 389017, 405224, 421875, 438976, 456533, 474552, 493039, 512000, 531441, 551368, 571787, 592704, 614125, 636056, 658503, 681472, 704969, 729000, 753571, 778688, 804357, 830584, 857375, 884736, 912673, 941192, 970299, 1000000]\n"
     ]
    }
   ],
   "source": [
    "# B. In one line create a list of the numbers 1-100 to the power of 3\n",
    "numbers = [i**3 for i in range(1, 101)]\n",
    "print(\"The numbers in range 1 - 100 to the power of 3: \\n\" + str(numbers))"
   ]
  },
  {
   "cell_type": "code",
   "execution_count": 43,
   "metadata": {},
   "outputs": [
    {
     "name": "stdout",
     "output_type": "stream",
     "text": [
      "All names: \n",
      "['Lars', 'Jens', 'Bo', 'Holger', 'Mogens', 'Henrik', 'Henning', 'Helle', 'Gustav', 'Hans', 'Caroline', 'Jane', 'Signe']\n",
      "\n",
      "List of tuples with length and name: \n",
      "[(4, 'Lars'), (4, 'Jens'), (2, 'Bo'), (6, 'Holger'), (6, 'Mogens'), (6, 'Henrik'), (7, 'Henning'), (5, 'Helle'), (6, 'Gustav'), (4, 'Hans'), (8, 'Caroline'), (4, 'Jane'), (5, 'Signe')]\n"
     ]
    }
   ],
   "source": [
    "# C. Iterate a list of names to create a list of tuples where the tuples first value is the length of the name and the second is the name\n",
    "_names = [\"Lars\", \"Jens\", \"Bo\", \"Holger\", \"Mogens\", \"Henrik\", \"Henning\", \"Helle\", \"Gustav\", \"Hans\", \"Caroline\", \"Jane\", \"Signe\"]\n",
    "print(\"All names: \\n\" + str(_names))\n",
    "\n",
    "tuple_names = [(len(name), name) for name in _names]\n",
    "print(\"\\nList of tuples with length and name: \\n\" + str(tuple_names))"
   ]
  },
  {
   "cell_type": "code",
   "execution_count": 44,
   "metadata": {},
   "outputs": [
    {
     "name": "stdout",
     "output_type": "stream",
     "text": [
      "Original string: \n",
      "hsmebre23j3wej8385nsejkfbaowlir834 8359 oihnodfs89 ljbafd9834\n",
      "\n",
      "All numbers from original string: \n",
      "[2, 3, 3, 8, 3, 8, 5, 8, 3, 4, 8, 3, 5, 9, 8, 9, 9, 8, 3, 4]\n"
     ]
    }
   ],
   "source": [
    "# D. Iterate over each character in a string and get only those that are nummeric\n",
    "original_string = \"hsmebre23j3wej8385nsejkfbaowlir834 8359 oihnodfs89 ljbafd9834\"\n",
    "print(\"Original string: \\n\" + str(original_string))\n",
    "\n",
    "numbers_string = [int(charint) for charint in original_string if charint.isnumeric()]\n",
    "print(\"\\nAll numbers from original string: \\n\" + str(numbers_string))"
   ]
  },
  {
   "cell_type": "code",
   "execution_count": 46,
   "metadata": {},
   "outputs": [
    {
     "name": "stdout",
     "output_type": "stream",
     "text": [
      "All possible combinations with two dices: \n",
      "{(1, 3), (6, 6), (5, 6), (2, 1), (6, 2), (1, 6), (5, 1), (2, 5), (1, 2), (3, 3), (5, 5), (4, 4), (6, 3), (1, 5), (3, 6), (2, 2), (4, 1), (1, 1), (6, 4), (3, 2), (2, 6), (5, 4), (4, 5), (5, 2), (1, 4), (2, 3), (4, 2), (6, 5), (3, 5), (5, 3), (4, 6), (6, 1), (3, 1), (4, 3), (3, 4), (2, 4)}\n"
     ]
    }
   ],
   "source": [
    "# E. Using only a list comprehension wrapped in set() get all possible combination from throwing 2 dice\n",
    "all_dice_combinations = set([(fst_die, scnd_die) for fst_die in range(1,7) for scnd_die in range(1,7)])\n",
    "print(\"All possible combinations with two dices: \\n\" + str(all_dice_combinations))"
   ]
  },
  {
   "cell_type": "markdown",
   "metadata": {},
   "source": [
    "# 2. Create 2 dictionary comprehensions to solve the following:"
   ]
  },
  {
   "cell_type": "code",
   "execution_count": 3,
   "metadata": {},
   "outputs": [
    {
     "name": "stdout",
     "output_type": "stream",
     "text": [
      "All names: ['Hans', 'Grete', 'Kurt', 'Anna', 'Mette', 'Kristian', 'Christian', 'Hanne', 'Lisa']\n",
      "\n",
      "Names and length: [{'Hans': 4}, {'Grete': 5}, {'Kurt': 4}, {'Anna': 4}, {'Mette': 5}, {'Kristian': 8}, {'Christian': 9}, {'Hanne': 5}, {'Lisa': 4}]\n"
     ]
    }
   ],
   "source": [
    "# A. Iterate a list of names and create a dictionary where key is the name and value is the length of the name\n",
    "dict_names = [\"Hans\", \"Grete\", \"Kurt\", \"Anna\", \"Mette\", \"Kristian\", \"Christian\", \"Hanne\", \"Lisa\"]\n",
    "print(\"All names: \" + str(dict_names))\n",
    "\n",
    "names_length = [{name:len(name)} for name in dict_names]\n",
    "print(\"\\nNames and length: \" + str(names_length))"
   ]
  },
  {
   "cell_type": "code",
   "execution_count": 4,
   "metadata": {},
   "outputs": [
    {
     "name": "stdout",
     "output_type": "stream",
     "text": [
      "All number: [2, 5, 6, 1, 9, 56, 45, 34, 2, 12, 42, 643, 34, 1, 2, 7, 4, 3, 2, 7, 4, 8, 88, 34, 85]\n",
      "\n",
      "Numbers and squareroot of number: [{2: 4}, {5: 25}, {6: 36}, {1: 1}, {9: 81}, {56: 3136}, {45: 2025}, {34: 1156}, {2: 4}, {12: 144}, {42: 1764}, {643: 413449}, {34: 1156}, {1: 1}, {2: 4}, {7: 49}, {4: 16}, {3: 9}, {2: 4}, {7: 49}, {4: 16}, {8: 64}, {88: 7744}, {34: 1156}, {85: 7225}]\n"
     ]
    }
   ],
   "source": [
    "# B. Iterate a list of numbers and create a dictionary with (key, value) being (number, squareroot of number)\n",
    "dict_numbers = [2,5,6,1,9,56,45,34,2,12,42,643,34,1,2,7,4,3,2,7,4,8,88,34,85]\n",
    "print(\"All number: \" + str(dict_numbers))\n",
    "\n",
    "number_square = [{number:number**2} for number in dict_numbers]\n",
    "print(\"\\nNumbers and squareroot of number: \" + str(number_square))"
   ]
  }
 ],
 "metadata": {
  "kernelspec": {
   "display_name": "Python 3",
   "language": "python",
   "name": "python3"
  },
  "language_info": {
   "codemirror_mode": {
    "name": "ipython",
    "version": 3
   },
   "file_extension": ".py",
   "mimetype": "text/x-python",
   "name": "python",
   "nbconvert_exporter": "python",
   "pygments_lexer": "ipython3",
   "version": "3.7.6"
  }
 },
 "nbformat": 4,
 "nbformat_minor": 4
}
