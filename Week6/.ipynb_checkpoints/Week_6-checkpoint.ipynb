{
 "cells": [
  {
   "cell_type": "markdown",
   "metadata": {},
   "source": [
    "# Week 6 Handin"
   ]
  },
  {
   "cell_type": "markdown",
   "metadata": {},
   "source": [
    "## 01 Assignment\n",
    "\n",
    "Create a module containing a class with the following methods:\n",
    "1. __init__(self, url_list)\n",
    "2. download(url,filename) raises NotFoundException when url returns 404\n",
    "3. multi_download() uses threads to download multiple urls as text and stores filenames as a property\n",
    "4. __iter__() returns an iterator\n",
    "5. __next__() returns the next filename (and stops when there are no more)\n",
    "6. urllist_generator() returns a generator to loop through the urls\n",
    "7. avg_vowels(text) - a rough estimate on readability returns average number of vowels in the words of the text\n",
    "8. hardest_read() returns the filename of the text with the highest vowel score (use all the cpu cores on the computer for this work.\n",
    "\n",
    "### Ex 2\n",
    "Create a notebook and import your module from above\n",
    "1. Find 10 books on https://www.gutenberg.org/browse/scores/top and download them using an object of the class you just created before\n",
    "2. Test the different methods of your class\n",
    "3. Make a bar plot with a sorted list of books on x-axis and avg vowels on y-axis"
   ]
  },
  {
   "cell_type": "markdown",
   "metadata": {},
   "source": [
    "## 02 Status\n",
    "Everything is done."
   ]
  },
  {
   "cell_type": "markdown",
   "metadata": {},
   "source": [
    "## 03 Solution part 1"
   ]
  },
  {
   "cell_type": "markdown",
   "metadata": {},
   "source": [
    "Create a module containing a class with the following methods:\n",
    "1. __init__(self, url_list)\n",
    "2. download(url,filename) raises NotFoundException when url returns 404\n",
    "3. multi_download() uses threads to download multiple urls as text and stores filenames as a property\n",
    "4. __iter__() returns an iterator\n",
    "5. __next__() returns the next filename (and stops when there are no more)\n",
    "6. urllist_generator() returns a generator to loop through the urls\n",
    "7. avg_vowels(text) - a rough estimate on readability returns average number of vowels in the words of the text\n",
    "8. hardest_read() returns the filename of the text with the highest vowel score (use all the cpu cores on the computer for this work."
   ]
  },
  {
   "cell_type": "code",
   "execution_count": 153,
   "metadata": {},
   "outputs": [],
   "source": [
    "from concurrent.futures import ProcessPoolExecutor\n",
    "from concurrent.futures import ThreadPoolExecutor\n",
    "from webget import download\n",
    "import multiprocessing\n",
    "import requests\n",
    "import urllib\n",
    "import sys\n",
    "\n",
    "class Exercise1:\n",
    "    def __init__(self, url_list):\n",
    "        self.url_list = url_list\n",
    "        self.filenames = []\n",
    "    \n",
    "    def __iter__(self):\n",
    "        \"\"\"returns an iterator\"\"\"\n",
    "        self.count = 0;\n",
    "        return self\n",
    "    \n",
    "    def __next__(self):\n",
    "        \"\"\"returns the next filename (and stops when there are no more)\"\"\"\n",
    "        if self.count < len(self.url_list):\n",
    "            self.count += 1\n",
    "            return self.url_list[self.count - 1]\n",
    "        else:\n",
    "            raise StopIteration\n",
    "    \n",
    "    def download(self, url, filename):\n",
    "        \"\"\"raises NotFoundException when url returns 404\"\"\"\n",
    "        filename = './downloadedbooks/' + filename\n",
    "        try:\n",
    "            download(url, filename)\n",
    "            return(filename)\n",
    "        except urllib.error.HTTPError as e:\n",
    "            print(e)\n",
    "        \n",
    "    def multi_download(self, url_list):\n",
    "        \"\"\"uses threads to download multiple urls as text and stores filenames as a property\"\"\"\n",
    "        for url in url_list:\n",
    "            tmp = urllib.parse.urlparse(url)\n",
    "            self.filenames.append(tmp[2].split(\"/\")[-1])\n",
    "        workers = multiprocessing.cpu_count()\n",
    "        with ThreadPoolExecutor(workers) as ex:\n",
    "            result = ex.map(self.download, url_list, self.filenames)\n",
    "        return result\n",
    "    \n",
    "    def urllist_generator(self):\n",
    "        \"\"\"returns a generator to loop through the urls\"\"\"\n",
    "        for url in self.url_list:\n",
    "            yield url\n",
    "    \n",
    "    def avg_vowels(self, text):\n",
    "        \"\"\"a rough estimate on readability returns average number of vowels in the words of the text\"\"\"\n",
    "        vowels = \"AaEeIiOoUu\"\n",
    "        count = len([char for char in text if char in vowels])\n",
    "        return count\n",
    "        \n",
    "        \n",
    "    def hardest_read(self):\n",
    "        \"\"\"returns the filename of the text with the highest vowel score (use all the cpu cores on the computer for this work\"\"\"\n",
    "        workers = multiprocessing.cpu_count()\n",
    "        with ProcessPoolExecutor(workers) as ex:\n",
    "            result = ex.map(self.avg_vowels,\n",
    "                            self.__readFile__(self.filenames))\n",
    "        res = dict(zip([filename for filename in self.filenames], [\n",
    "                   avg for avg in result]))\n",
    "        return max(res, key=res.get)\n",
    "\n",
    "    def __readFile__(self, file_names):\n",
    "        for file in file_names:\n",
    "            final_path = \"./downloadedbooks/\" + file\n",
    "            with open(final_path, \"r\", encoding=\"utf8\", errors=\"ignore\") as file_object:\n",
    "                yield file_object.read()"
   ]
  },
  {
   "cell_type": "markdown",
   "metadata": {},
   "source": [
    "### Ex 2\n",
    "Create a notebook and import your module from above\n",
    "1. Find 10 books on https://www.gutenberg.org/browse/scores/top and download them using an object of the class you just created before"
   ]
  },
  {
   "cell_type": "code",
   "execution_count": 154,
   "metadata": {},
   "outputs": [
    {
     "name": "stdout",
     "output_type": "stream",
     "text": [
      "['1342-0.txt', 'pg16328.txt', '25344-0.txt', '1250-0.txt', '84-0.txt', '1952-0.txt', '11-0.txt', 'pg2542.txt', 'pg23.txt', '1080-0.txt']\n"
     ]
    }
   ],
   "source": [
    "url_list = ['https://www.gutenberg.org/files/1342/1342-0.txt',\n",
    "                'http://www.gutenberg.org/cache/epub/16328/pg16328.txt',\n",
    "                'https://www.gutenberg.org/files/25344/25344-0.txt',\n",
    "                'https://www.gutenberg.org/files/1250/1250-0.txt',\n",
    "                'https://www.gutenberg.org/files/84/84-0.txt',\n",
    "                'https://www.gutenberg.org/files/1952/1952-0.txt',\n",
    "                'https://www.gutenberg.org/files/11/11-0.txt',\n",
    "                'http://www.gutenberg.org/cache/epub/2542/pg2542.txt',\n",
    "                'http://www.gutenberg.org/cache/epub/23/pg23.txt',\n",
    "                'https://www.gutenberg.org/files/1080/1080-0.txt']\n",
    "\n",
    "ex1 = Exercise1(url_list)\n",
    "ex1.multi_download(ex1.url_list)\n",
    "print(ex1.filenames)\n",
    "#lst = ['https://www.gutenberg.org/files/1342/1342-0.txt']\n",
    "#ex = Exercise1(lst)\n",
    "#ex.download(ex.url_list,'1342-0.txt')"
   ]
  },
  {
   "cell_type": "markdown",
   "metadata": {},
   "source": [
    "2. Test the different methods of your class"
   ]
  },
  {
   "cell_type": "code",
   "execution_count": 155,
   "metadata": {},
   "outputs": [
    {
     "name": "stdout",
     "output_type": "stream",
     "text": [
      "https://www.gutenberg.org/files/1342/1342-0.txt\n",
      "http://www.gutenberg.org/cache/epub/16328/pg16328.txt\n",
      "https://www.gutenberg.org/files/25344/25344-0.txt\n",
      "https://www.gutenberg.org/files/1250/1250-0.txt\n",
      "https://www.gutenberg.org/files/84/84-0.txt\n",
      "https://www.gutenberg.org/files/1952/1952-0.txt\n",
      "https://www.gutenberg.org/files/11/11-0.txt\n",
      "http://www.gutenberg.org/cache/epub/2542/pg2542.txt\n",
      "http://www.gutenberg.org/cache/epub/23/pg23.txt\n",
      "https://www.gutenberg.org/files/1080/1080-0.txt\n"
     ]
    }
   ],
   "source": [
    "iter_example = iter(ex1)\n",
    "for file in iter_example:\n",
    "    print(file)"
   ]
  },
  {
   "cell_type": "code",
   "execution_count": 156,
   "metadata": {},
   "outputs": [
    {
     "name": "stdout",
     "output_type": "stream",
     "text": [
      "https://www.gutenberg.org/files/1342/1342-0.txt\n",
      "http://www.gutenberg.org/cache/epub/16328/pg16328.txt\n",
      "https://www.gutenberg.org/files/25344/25344-0.txt\n",
      "https://www.gutenberg.org/files/1250/1250-0.txt\n",
      "https://www.gutenberg.org/files/84/84-0.txt\n",
      "https://www.gutenberg.org/files/1952/1952-0.txt\n",
      "https://www.gutenberg.org/files/11/11-0.txt\n",
      "http://www.gutenberg.org/cache/epub/2542/pg2542.txt\n",
      "http://www.gutenberg.org/cache/epub/23/pg23.txt\n",
      "https://www.gutenberg.org/files/1080/1080-0.txt\n"
     ]
    }
   ],
   "source": [
    "#urllist_generator()\n",
    "for url in ex1.urllist_generator():\n",
    "    print(url)"
   ]
  },
  {
   "cell_type": "code",
   "execution_count": 157,
   "metadata": {},
   "outputs": [
    {
     "name": "stdout",
     "output_type": "stream",
     "text": [
      "14\n"
     ]
    }
   ],
   "source": [
    "#avg_vowels(text)\n",
    "avg_vowels = ex1.avg_vowels(\"There aRe some vOwels in thIz sentence, Ægos?\")\n",
    "print(avg_vowels)"
   ]
  },
  {
   "cell_type": "code",
   "execution_count": 158,
   "metadata": {},
   "outputs": [
    {
     "name": "stdout",
     "output_type": "stream",
     "text": [
      "1342-0.txt\n"
     ]
    }
   ],
   "source": [
    "#hardest_read()\n",
    "hard_read = ex1.hardest_read()\n",
    "print(hard_read)"
   ]
  },
  {
   "cell_type": "markdown",
   "metadata": {},
   "source": [
    "3. Make a bar plot with a sorted list of books on x-axis and avg vowels on y-axis"
   ]
  },
  {
   "cell_type": "code",
   "execution_count": 159,
   "metadata": {},
   "outputs": [
    {
     "data": {
      "image/png": "[encoded data removed]",
      "text/plain": [
       "<Figure size 720x360 with 1 Axes>"
      ]
     },
     "metadata": {
      "needs_background": "light"
     },
     "output_type": "display_data"
    }
   ],
   "source": [
    "import matplotlib.pylab as plt\n",
    "from concurrent.futures import ProcessPoolExecutor\n",
    "\n",
    "with ProcessPoolExecutor(4) as ex:\n",
    "    result = ex.map(ex1.avg_vowels, ex1.__readFile__(ex1.filenames))\n",
    "\n",
    "res = dict(zip([filename for filename in ex1.filenames], [avg for avg in result]))\n",
    "\n",
    "list_of_tuples = sorted(res.items(), key=lambda x:x[1], reverse=True)\n",
    "x, y = zip(*list_of_tuples)\n",
    "\n",
    "plt.figure(figsize=(10,5))\n",
    "plt.bar(x, y)\n",
    "for index, value in enumerate(y):\n",
    "    plt.text(index, value, str(value), horizontalalignment='center', verticalalignment='bottom', color='orange', weight='bold')\n",
    "plt.xticks(rotation=45)\n",
    "plt.show()"
   ]
  }
 ],
 "metadata": {
  "kernelspec": {
   "display_name": "Python 3",
   "language": "python",
   "name": "python3"
  },
  "language_info": {
   "codemirror_mode": {
    "name": "ipython",
    "version": 3
   },
   "file_extension": ".py",
   "mimetype": "text/x-python",
   "name": "python",
   "nbconvert_exporter": "python",
   "pygments_lexer": "ipython3",
   "version": "3.7.6"
  }
 },
 "nbformat": 4,
 "nbformat_minor": 4
}
