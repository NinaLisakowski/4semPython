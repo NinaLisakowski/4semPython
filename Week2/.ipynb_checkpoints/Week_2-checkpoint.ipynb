{
 "cells": [
  {
   "cell_type": "markdown",
   "metadata": {},
   "source": [
    "# Week 2 Handin"
   ]
  },
  {
   "cell_type": "markdown",
   "metadata": {},
   "source": [
    "## 01 Assignment\n",
    "\n",
    "### Exercise 1\n",
    "1. Create a python file with 3 functions:\n",
    "  1. `def print_file_content(file)` that can print content of a csv file to the console\n",
    "  2. `def write_list_to_file(output_file, lst)` that can take a list of tuple and write each element to a new line in file\n",
    "    1. rewrite the function so that it gets an arbitrary number of strings instead of a list\n",
    "  3. `def read_csv(input_file)` that take a csv file and read each row into a list\n",
    "2. Add a functionality so that the file can be called from cli with 2 arguments\n",
    "  1. path to csv file\n",
    "  2. an argument `--file file_name` that if given will write the content to file_name or otherwise will print it to the console.\n",
    "3. Add a --help cli argument to describe how the module is used  \n",
    "\n",
    "### Exercise 2\n",
    "Create a module called utils.py and put the following functions inside:\n",
    "1. first function takes a path to a folder and writes all filenames in the folder to a specified output file\n",
    "2. second takes a path to a folder and write all filenames recursively (files of all sub folders to)\n",
    "3. third takes a list of filenames and print the first line of each\n",
    "4. fourth takes a list of filenames and print each line that contains an email (just look for @)\n",
    "5. fifth takes a list of md files and writes all headlines (lines starting with #) to a file\n",
    "Make sure your module can be called both from cli and imported to another module\n",
    "Create a new module that imports utils.py and test each function."
   ]
  },
  {
   "cell_type": "markdown",
   "metadata": {},
   "source": [
    "## 02 Status\n",
    "All exercises are done, expect for 3."
   ]
  },
  {
   "cell_type": "markdown",
   "metadata": {},
   "source": [
    "## 03 Solution part 1"
   ]
  },
  {
   "cell_type": "markdown",
   "metadata": {},
   "source": [
    " ### 1. Create a python file with 3 functions:"
   ]
  },
  {
   "cell_type": "markdown",
   "metadata": {},
   "source": [
    "A. def print_file_content(file) that can print content of a csv file to the console"
   ]
  },
  {
   "cell_type": "code",
   "execution_count": 4,
   "metadata": {},
   "outputs": [
    {
     "name": "stdout",
     "output_type": "stream",
     "text": [
      "['s', 'f', 'y', 'e', 'g', 'h', 'r', 'w', 's', 'g', 'j', 'r', 'g', 'b', 'h', 'n', 'm', 'j', 'f', 'c', 'd', 's', 'a', 'dg', 'af', 'awf', 'sha', 'sdag', 'DG', 'GSD', 'afgs', '34', 'sgz', 'dfgz', 'l']\n"
     ]
    }
   ],
   "source": [
    "import csv\n",
    "\n",
    "def print_file_content(file):\n",
    "    \"\"\"Print a csv files content to the console\"\"\"\n",
    "    with open(file) as file_object:\n",
    "        reader = csv.reader(file_object)\n",
    "        for line in reader:\n",
    "            print(str(line))\n",
    "print_file_content('ex_1A_print_content.csv')"
   ]
  },
  {
   "cell_type": "markdown",
   "metadata": {},
   "source": [
    "B. def write_list_to_file(output_file, lst) that can take a list of tuple and write each element to a new line in file"
   ]
  },
  {
   "cell_type": "code",
   "execution_count": 8,
   "metadata": {},
   "outputs": [],
   "source": [
    "list_tuple = (2,\"Hello\", 35, 3345, \"lok\", \"ljbkæ\", \"jkb\",9876, \"last\")\n",
    "def write_list_to_file(output_file, lst):\n",
    "    with open(output_file, 'w') as file_object:\n",
    "        for element in lst:\n",
    "            file_object.write(str(element) + '\\n')\n",
    "            \n",
    "write_list_to_file('ex_1B_write_list_to_file.txt', list_tuple)"
   ]
  },
  {
   "cell_type": "markdown",
   "metadata": {},
   "source": [
    "    a. Rewrite the function so that it gets an arbitrary number of strings instead of a list"
   ]
  },
  {
   "cell_type": "markdown",
   "metadata": {},
   "source": [
    "C. def read_csv(input_file) that take a csv file and read each row into a list"
   ]
  },
  {
   "cell_type": "code",
   "execution_count": null,
   "metadata": {},
   "outputs": [],
   "source": [
    "def read_csv(input_file):\n",
    "    return_lst = []\n",
    "    with open(input_file) as file_object:\n",
    "        content = file_object.readlines()\n",
    "        for line in content:\n",
    "            return_lst.append(line)\n",
    "        print(return_lst)\n",
    "\n",
    "read_csv('ex_1A_print_content.csv')"
   ]
  },
  {
   "cell_type": "markdown",
   "metadata": {},
   "source": [
    "### 2. Add a functionality so that the file can be called from cli with 2 arguments"
   ]
  },
  {
   "cell_type": "markdown",
   "metadata": {},
   "source": [
    "## 04 Solution part 2"
   ]
  },
  {
   "cell_type": "markdown",
   "metadata": {},
   "source": [
    "# 2. Create 2 dictionary comprehensions to solve the following:"
   ]
  },
  {
   "cell_type": "code",
   "execution_count": 3,
   "metadata": {},
   "outputs": [
    {
     "name": "stdout",
     "output_type": "stream",
     "text": [
      "All names: ['Hans', 'Grete', 'Kurt', 'Anna', 'Mette', 'Kristian', 'Christian', 'Hanne', 'Lisa']\n",
      "\n",
      "Names and length: [{'Hans': 4}, {'Grete': 5}, {'Kurt': 4}, {'Anna': 4}, {'Mette': 5}, {'Kristian': 8}, {'Christian': 9}, {'Hanne': 5}, {'Lisa': 4}]\n"
     ]
    }
   ],
   "source": [
    "# A. Iterate a list of names and create a dictionary where key is the name and value is the length of the name\n",
    "dict_names = [\"Hans\", \"Grete\", \"Kurt\", \"Anna\", \"Mette\", \"Kristian\", \"Christian\", \"Hanne\", \"Lisa\"]\n",
    "print(\"All names: \" + str(dict_names))\n",
    "\n",
    "names_length = [{name:len(name)} for name in dict_names]\n",
    "print(\"\\nNames and length: \" + str(names_length))"
   ]
  },
  {
   "cell_type": "code",
   "execution_count": 4,
   "metadata": {},
   "outputs": [
    {
     "name": "stdout",
     "output_type": "stream",
     "text": [
      "All number: [2, 5, 6, 1, 9, 56, 45, 34, 2, 12, 42, 643, 34, 1, 2, 7, 4, 3, 2, 7, 4, 8, 88, 34, 85]\n",
      "\n",
      "Numbers and squareroot of number: [{2: 4}, {5: 25}, {6: 36}, {1: 1}, {9: 81}, {56: 3136}, {45: 2025}, {34: 1156}, {2: 4}, {12: 144}, {42: 1764}, {643: 413449}, {34: 1156}, {1: 1}, {2: 4}, {7: 49}, {4: 16}, {3: 9}, {2: 4}, {7: 49}, {4: 16}, {8: 64}, {88: 7744}, {34: 1156}, {85: 7225}]\n"
     ]
    }
   ],
   "source": [
    "# B. Iterate a list of numbers and create a dictionary with (key, value) being (number, squareroot of number)\n",
    "dict_numbers = [2,5,6,1,9,56,45,34,2,12,42,643,34,1,2,7,4,3,2,7,4,8,88,34,85]\n",
    "print(\"All number: \" + str(dict_numbers))\n",
    "\n",
    "number_square = [{number:number**2} for number in dict_numbers]\n",
    "print(\"\\nNumbers and squareroot of number: \" + str(number_square))"
   ]
  }
 ],
 "metadata": {
  "kernelspec": {
   "display_name": "Python 3",
   "language": "python",
   "name": "python3"
  },
  "language_info": {
   "codemirror_mode": {
    "name": "ipython",
    "version": 3
   },
   "file_extension": ".py",
   "mimetype": "text/x-python",
   "name": "python",
   "nbconvert_exporter": "python",
   "pygments_lexer": "ipython3",
   "version": "3.7.6"
  }
 },
 "nbformat": 4,
 "nbformat_minor": 4
}
